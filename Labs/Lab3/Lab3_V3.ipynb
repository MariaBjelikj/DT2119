{
  "nbformat": 4,
  "nbformat_minor": 0,
  "metadata": {
    "colab": {
      "name": "Lab3.ipynb",
      "provenance": [],
      "collapsed_sections": [],
      "include_colab_link": true
    },
    "kernelspec": {
      "name": "python3",
      "display_name": "Python 3"
    },
    "accelerator": "GPU"
  },
  "cells": [
    {
      "cell_type": "markdown",
      "metadata": {
        "id": "view-in-github",
        "colab_type": "text"
      },
      "source": [
        "<a href=\"https://colab.research.google.com/github/bjelikj/DT2119/blob/Lab3_Andres/Labs/Lab3/Lab3_V3.ipynb\" target=\"_parent\"><img src=\"https://colab.research.google.com/assets/colab-badge.svg\" alt=\"Open In Colab\"/></a>"
      ]
    },
    {
      "cell_type": "code",
      "metadata": {
        "id": "_300NuWNwpuZ",
        "colab_type": "code",
        "outputId": "5189aed9-d927-4a42-fcbb-994d04370af6",
        "colab": {
          "base_uri": "https://localhost:8080/",
          "height": 34
        }
      },
      "source": [
        "try:\n",
        "  import google.colab\n",
        "  IN_COLAB = True\n",
        "except:\n",
        "  IN_COLAB = False\n",
        "\n",
        "if IN_COLAB:\n",
        "    from google.colab import drive\n",
        "    drive.mount('/content/drive/')\n",
        "\n",
        "reload_files = False"
      ],
      "execution_count": 1,
      "outputs": [
        {
          "output_type": "stream",
          "text": [
            "Drive already mounted at /content/drive/; to attempt to forcibly remount, call drive.mount(\"/content/drive/\", force_remount=True).\n"
          ],
          "name": "stdout"
        }
      ]
    },
    {
      "cell_type": "code",
      "metadata": {
        "id": "oP6t6vObxeDP",
        "colab_type": "code",
        "colab": {}
      },
      "source": [
        "\"\"\"\n",
        "Necessary files:\n",
        "- lab1_proto.py\n",
        "- lab1_tools.py\n",
        "- lab2_proto.py\n",
        "- lab2_tools.py\n",
        "- lab3_proto.py\n",
        "- lab3_tools.py\n",
        "- prondict.py\n",
        "- standardization.py\n",
        "\n",
        "If not uploaded to Google Drive:\n",
        "- lab2_models_all.npz\n",
        "- lab3_example.npz\n",
        "\"\"\"\n",
        "\n",
        "if reload_files:\n",
        "  # %pwd\n",
        "  !pwd\n",
        "  if IN_COLAB:\n",
        "      !rm -r ./*.py\n",
        "\n",
        "  from google.colab import files\n",
        "  files.upload()"
      ],
      "execution_count": 0,
      "outputs": []
    },
    {
      "cell_type": "code",
      "metadata": {
        "id": "6OMZ3hM9z-L9",
        "colab_type": "code",
        "outputId": "12ba3943-1a91-41d8-d9ec-9ca3f338430f",
        "colab": {
          "base_uri": "https://localhost:8080/",
          "height": 34
        }
      },
      "source": [
        "from lab1_proto import *\n",
        "from lab2_proto import *\n",
        "from lab3_proto import *\n",
        "from lab1_tools import *\n",
        "from lab2_tools import *\n",
        "from lab3_tools import *\n",
        "from prondict import prondict\n",
        "from standardization import *\n",
        "\n",
        "import numpy as np\n",
        "import os"
      ],
      "execution_count": 3,
      "outputs": [
        {
          "output_type": "stream",
          "text": [
            "Using TensorFlow backend.\n"
          ],
          "name": "stderr"
        }
      ]
    },
    {
      "cell_type": "markdown",
      "metadata": {
        "id": "XnP2-oIL_IEX",
        "colab_type": "text"
      },
      "source": [
        "## Check examples\n"
      ]
    },
    {
      "cell_type": "code",
      "metadata": {
        "id": "9HnRiMcwA7d5",
        "colab_type": "code",
        "colab": {}
      },
      "source": [
        "example = np.load('/content/drive/My Drive/Lab3/lab3_example.npz', allow_pickle=True)['example'].item()"
      ],
      "execution_count": 0,
      "outputs": []
    },
    {
      "cell_type": "markdown",
      "metadata": {
        "id": "dknvV5JBRyl4",
        "colab_type": "text"
      },
      "source": [
        "# 4.1 Target Class Definition"
      ]
    },
    {
      "cell_type": "code",
      "metadata": {
        "id": "Q6ScIE_E0tFj",
        "colab_type": "code",
        "outputId": "d091bf2e-dc29-46fe-af71-b0cdd912cdbc",
        "colab": {
          "base_uri": "https://localhost:8080/",
          "height": 54
        }
      },
      "source": [
        "phoneHMMs = np.load('/content/drive/My Drive/Lab3/lab2_models_all.npz', allow_pickle=True)['phoneHMMs'].item()\n",
        "phones = sorted(phoneHMMs.keys())\n",
        "nstates = {phone: phoneHMMs[phone]['means'].shape[0] for phone in phones}\n",
        "stateList = [ph + '_' + str(id) for ph in phones for id in range(nstates[ph])]\n",
        "print(stateList)"
      ],
      "execution_count": 7,
      "outputs": [
        {
          "output_type": "stream",
          "text": [
            "['ah_0', 'ah_1', 'ah_2', 'ao_0', 'ao_1', 'ao_2', 'ay_0', 'ay_1', 'ay_2', 'eh_0', 'eh_1', 'eh_2', 'ey_0', 'ey_1', 'ey_2', 'f_0', 'f_1', 'f_2', 'ih_0', 'ih_1', 'ih_2', 'iy_0', 'iy_1', 'iy_2', 'k_0', 'k_1', 'k_2', 'n_0', 'n_1', 'n_2', 'ow_0', 'ow_1', 'ow_2', 'r_0', 'r_1', 'r_2', 's_0', 's_1', 's_2', 'sil_0', 'sil_1', 'sil_2', 'sp_0', 't_0', 't_1', 't_2', 'th_0', 'th_1', 'th_2', 'uw_0', 'uw_1', 'uw_2', 'v_0', 'v_1', 'v_2', 'w_0', 'w_1', 'w_2', 'z_0', 'z_1', 'z_2']\n"
          ],
          "name": "stdout"
        }
      ]
    },
    {
      "cell_type": "markdown",
      "metadata": {
        "id": "6SCaR5JzR31i",
        "colab_type": "text"
      },
      "source": [
        "# 4.2 Forced Alignment"
      ]
    },
    {
      "cell_type": "code",
      "metadata": {
        "id": "aSLjfSKe4DKw",
        "colab_type": "code",
        "outputId": "b8a12d45-a84c-452a-c86c-4bc257033b5a",
        "colab": {
          "base_uri": "https://localhost:8080/",
          "height": 105
        }
      },
      "source": [
        "filename = '/content/drive/My Drive/tidigits/disc_4.1.1/tidigits/train/man/nw/z43a.wav'\n",
        "samples, samplingrate = loadAudio(filename)\n",
        "lmfcc = mfcc(samples)\n",
        "print(\"LMFCC Shape: \", lmfcc.shape)\n",
        "\n",
        "wordTrans = list(path2info(filename)[2])\n",
        "print(\"Sequence of digits: \", wordTrans)\n",
        "\n",
        "print(\"Pronunciation dictionary: \", prondict)\n",
        "\n",
        "phoneTrans = words2phones(wordTrans, prondict)\n",
        "print(\"Phone level transcription: \", phoneTrans)\n",
        "utteranceHMM = concatHMMs(phoneHMMs, phoneTrans)\n",
        "\n",
        "stateTrans = [phone + '_' + str(stateid) for phone in phoneTrans\n",
        "              for stateid in range(nstates[phone])]"
      ],
      "execution_count": 6,
      "outputs": [
        {
          "output_type": "stream",
          "text": [
            "LMFCC Shape:  (178, 13)\n",
            "Sequence of digits:  ['z', '4', '3']\n",
            "Pronunciation dictionary:  {'o': ['ow'], 'z': ['z', 'iy', 'r', 'ow'], '1': ['w', 'ah', 'n'], '2': ['t', 'uw'], '3': ['th', 'r', 'iy'], '4': ['f', 'ao', 'r'], '5': ['f', 'ay', 'v'], '6': ['s', 'ih', 'k', 's'], '7': ['s', 'eh', 'v', 'ah', 'n'], '8': ['ey', 't'], '9': ['n', 'ay', 'n']}\n",
            "Phone level transcription:  ['sil', 'z', 'iy', 'r', 'ow', 'sp', 'f', 'ao', 'r', 'sp', 'th', 'r', 'iy', 'sp', 'sil']\n"
          ],
          "name": "stdout"
        }
      ]
    },
    {
      "cell_type": "code",
      "metadata": {
        "id": "uFYkWvFo_Qjl",
        "colab_type": "code",
        "outputId": "3a4b2c24-9c3a-4a20-bf92-83c5edd723af",
        "colab": {
          "base_uri": "https://localhost:8080/",
          "height": 170
        }
      },
      "source": [
        "# Compare with examples\n",
        "for i in example['utteranceHMM'].keys():\n",
        "    print(compare(utteranceHMM[i], example['utteranceHMM'][i]))\n",
        "\n",
        "obsloglik = log_multivariate_normal_density_diag(lmfcc, utteranceHMM['means'], utteranceHMM['covars'])\n",
        "viterbi_loglik, viterbi_path = viterbi(obsloglik, np.log(utteranceHMM['startprob']), np.log(utteranceHMM['transmat']))\n",
        "viterbiStateTrans = [stateTrans[idx] for idx in viterbi_path.astype(np.int64)] # Forced Alignment\n",
        "\n",
        "print('Comparing obsloglik...', compare(obsloglik, example['obsloglik']))\n",
        "print('Comparing viterbiPath...', compare(viterbi_path, example['viterbiPath']))\n",
        "print('Comparing viterbiStateTrans...', np.all(viterbiStateTrans == example['viterbiStateTrans']))\n",
        "\n",
        "frames = frames2trans(viterbiStateTrans, outfilename= ''.join(path2info(filename)[2:]) + '.lab')"
      ],
      "execution_count": 7,
      "outputs": [
        {
          "output_type": "stream",
          "text": [
            "True\n",
            "True\n",
            "True\n",
            "True\n",
            "Comparing obsloglik... True\n",
            "Comparing viterbiPath... True\n",
            "Comparing viterbiStateTrans... True\n"
          ],
          "name": "stdout"
        },
        {
          "output_type": "stream",
          "text": [
            "/usr/local/lib/python3.6/dist-packages/ipykernel_launcher.py:6: RuntimeWarning: divide by zero encountered in log\n",
            "  \n"
          ],
          "name": "stderr"
        }
      ]
    },
    {
      "cell_type": "code",
      "metadata": {
        "id": "t7WOETbIRsXv",
        "colab_type": "code",
        "outputId": "a4994c8a-4b65-4c96-b216-44a3444883b1",
        "colab": {
          "base_uri": "https://localhost:8080/",
          "height": 328
        }
      },
      "source": [
        "from IPython.display import Image\n",
        "Image(filename='/content/drive/My Drive/Lab3/z43a_wavesurfer.png')"
      ],
      "execution_count": 8,
      "outputs": [
        {
          "output_type": "execute_result",
          "data": {
            "image/png": "[encoded data removed]",
            "text/plain": [
              "<IPython.core.display.Image object>"
            ]
          },
          "metadata": {
            "tags": []
          },
          "execution_count": 8
        }
      ]
    },
    {
      "cell_type": "markdown",
      "metadata": {
        "id": "addeh9oShjCY",
        "colab_type": "text"
      },
      "source": [
        "# 4.3 Feature Extraction"
      ]
    },
    {
      "cell_type": "code",
      "metadata": {
        "id": "dUkLiuEhhf04",
        "colab_type": "code",
        "outputId": "7c52c82c-d0a8-4902-8403-a34e254aaf59",
        "colab": {
          "base_uri": "https://localhost:8080/",
          "height": 54
        }
      },
      "source": [
        "\"\"\"\n",
        "from tqdm import tqdm\n",
        "traindata = []\n",
        "for root, dirs, files in tqdm(os.walk('/content/drive/My Drive/tidigits/disc_4.1.1/tidigits/train'), desc='dirs'):\n",
        "  for file in files:\n",
        "    if file.endswith('.wav'):\n",
        "      filename = os.path.join(root, file)\n",
        "      samples, samplingrate = loadAudio(filename)\n",
        "      lmfcc, mspec_, targets =  extract_features_and_targets(filename)\n",
        "      traindata.append({'filename': filename, 'lmfcc': lmfcc,\n",
        "                        'mspec': mspec_, 'targets': targets})\n",
        "\n",
        "np.savez('/content/drive/My Drive/Lab3/traindata.npz', traindata=traindata)\n",
        "\"\"\""
      ],
      "execution_count": 9,
      "outputs": [
        {
          "output_type": "execute_result",
          "data": {
            "text/plain": [
              "\"\\nfrom tqdm import tqdm\\ntraindata = []\\nfor root, dirs, files in tqdm(os.walk('/content/drive/My Drive/tidigits/disc_4.1.1/tidigits/train'), desc='dirs'):\\n  for file in files:\\n    if file.endswith('.wav'):\\n      filename = os.path.join(root, file)\\n      samples, samplingrate = loadAudio(filename)\\n      lmfcc, mspec_, targets =  extract_features_and_targets(filename)\\n      traindata.append({'filename': filename, 'lmfcc': lmfcc,\\n                        'mspec': mspec_, 'targets': targets})\\n\\nnp.savez('/content/drive/My Drive/Lab3/traindata.npz', traindata=traindata)\\n\""
            ]
          },
          "metadata": {
            "tags": []
          },
          "execution_count": 9
        }
      ]
    },
    {
      "cell_type": "code",
      "metadata": {
        "id": "Z9pxdzXZbVU2",
        "colab_type": "code",
        "outputId": "c90511a6-f3af-4923-b990-5c37bfe7d1c3",
        "colab": {
          "base_uri": "https://localhost:8080/",
          "height": 54
        }
      },
      "source": [
        "\"\"\"\n",
        "testdata = []\n",
        "for root, dirs, files in tqdm(os.walk('/content/drive/My Drive/tidigits/disc_4.2.1/tidigits/test'), desc='dirs'):\n",
        "  for file in files:\n",
        "    if file.endswith('.wav'):\n",
        "      filename = os.path.join(root, file)\n",
        "      samples, samplingrate = loadAudio(filename)\n",
        "      lmfcc, mspec_, targets =  extract_features_and_targets(filename)\n",
        "      testdata.append({'filename': filename, 'lmfcc': lmfcc,\n",
        "                        'mspec': mspec_, 'targets': targets})\n",
        "\n",
        "np.savez('/content/drive/My Drive/Lab3/testdata.npz', testdata=testdata)\n",
        "\"\"\""
      ],
      "execution_count": 10,
      "outputs": [
        {
          "output_type": "execute_result",
          "data": {
            "text/plain": [
              "\"\\ntestdata = []\\nfor root, dirs, files in tqdm(os.walk('/content/drive/My Drive/tidigits/disc_4.2.1/tidigits/test'), desc='dirs'):\\n  for file in files:\\n    if file.endswith('.wav'):\\n      filename = os.path.join(root, file)\\n      samples, samplingrate = loadAudio(filename)\\n      lmfcc, mspec_, targets =  extract_features_and_targets(filename)\\n      testdata.append({'filename': filename, 'lmfcc': lmfcc,\\n                        'mspec': mspec_, 'targets': targets})\\n\\nnp.savez('/content/drive/My Drive/Lab3/testdata.npz', testdata=testdata)\\n\""
            ]
          },
          "metadata": {
            "tags": []
          },
          "execution_count": 10
        }
      ]
    },
    {
      "cell_type": "markdown",
      "metadata": {
        "id": "vE1sI669iKqD",
        "colab_type": "text"
      },
      "source": [
        "# 4.4 Training and Validation Sets"
      ]
    },
    {
      "cell_type": "code",
      "metadata": {
        "id": "0gtbsZ2lce_o",
        "colab_type": "code",
        "colab": {}
      },
      "source": [
        "#train_data = np.load('/content/drive/My Drive/Lab3/traindata.npz', allow_pickle=True)['traindata']"
      ],
      "execution_count": 0,
      "outputs": []
    },
    {
      "cell_type": "code",
      "metadata": {
        "id": "cvI0fx055Yky",
        "colab_type": "code",
        "colab": {}
      },
      "source": [
        "#train_val_split(train_data)"
      ],
      "execution_count": 0,
      "outputs": []
    },
    {
      "cell_type": "markdown",
      "metadata": {
        "id": "DoY6WbNkiV84",
        "colab_type": "text"
      },
      "source": [
        "# 4.5 Acoustic Context (Dynamic Features)"
      ]
    },
    {
      "cell_type": "code",
      "metadata": {
        "id": "LirZzxUH6Ccv",
        "colab_type": "code",
        "colab": {}
      },
      "source": [
        "train_data = np.load('/content/drive/My Drive/Lab3/training_data.npy', allow_pickle=True)\n",
        "val_data = np.load('/content/drive/My Drive/Lab3/validation_data.npy', allow_pickle=True)\n",
        "test_data = np.load('/content/drive/My Drive/Lab3/testdata.npz', allow_pickle=True)['testdata']"
      ],
      "execution_count": 0,
      "outputs": []
    },
    {
      "cell_type": "code",
      "metadata": {
        "id": "5_pHDc-22tn2",
        "colab_type": "code",
        "colab": {}
      },
      "source": [
        "def create_non_dynamic_features(data):\n",
        "    \"\"\" Puts lmfcc and mspec features in arrays that can used for training\n",
        "    Arg\n",
        "        data: list of dictionaries with keys: 'lmfcc', 'mspec' and 'targets'\n",
        "    \n",
        "    Output\n",
        "        lmfcc_features: [NxD_lmfcc] where N is nr of all concatinated samples of all words in data\n",
        "        mspec_features: [NxD_mspec] where N is nr of all concatinated samples of all words in data\n",
        "        targets: [N,] index of state for each sample\n",
        "    \"\"\"\n",
        "    \n",
        "    D_lmfcc = data[0]['lmfcc'].shape[1]\n",
        "    D_mspec = data[0]['mspec'].shape[1]\n",
        "    N = sum([len(x['targets']) for x in data])\n",
        "\n",
        "    # Features to be returned\n",
        "    lmfcc_features = np.zeros((N,D_lmfcc))\n",
        "    mspec_features = np.zeros((N,D_mspec))\n",
        "\n",
        "    # Targets to be returned\n",
        "    targets = []\n",
        "\n",
        "    # through all data\n",
        "    k = 0\n",
        "    for x in tqdm(data): \n",
        "        times, dim = x['lmfcc'].shape\n",
        "        ## for each timestep\n",
        "        for i in range(times):\n",
        "            lmfcc_features[k,:]=x['lmfcc'][i,:]\n",
        "            mspec_features[k,:]=x['mspec'][i,:]\n",
        "            k +=1\n",
        "        targets = targets + x['targets']\n",
        "    return lmfcc_features, mspec_features, targets"
      ],
      "execution_count": 0,
      "outputs": []
    },
    {
      "cell_type": "code",
      "metadata": {
        "id": "uC93bO4N_0nB",
        "colab_type": "code",
        "colab": {}
      },
      "source": [
        "from tqdm import tqdm\n",
        "def create_dynamic_features(data):\n",
        "    \"\"\" create_dynamic_features: Creates dynamic features by concatinated 7 \n",
        "        lmfcc or mspec featues together for each step\n",
        "\n",
        "    Args:\n",
        "        data: list of dictionaries with keys: 'lmfcc', 'mspec' and 'targets'\n",
        "    \n",
        "    Returns:\n",
        "        lmfcc_features: [NxD_lmfcc * 7] where N = number of all concatinated samples of all words in data\n",
        "        mspec_features: [NxD_mspec * 7] where N = of all concatinated samples of all words in data\n",
        "        targets: [N,] index of state for each sample\n",
        "    \"\"\"\n",
        "    \n",
        "    D_lmfcc = data[0]['lmfcc'].shape[1]\n",
        "    D_mspec = data[0]['mspec'].shape[1]\n",
        "    N = sum([len(x['targets']) for x in data])\n",
        "\n",
        "    # Features to be returned\n",
        "    dynlmfcc_features = np.zeros((N, D_lmfcc * 7))\n",
        "    dynmspec_features = np.zeros((N, D_mspec * 7))\n",
        "    \n",
        "    # Targets to be returned\n",
        "    targets = []\n",
        "\n",
        "    # through all data\n",
        "    k = 0\n",
        "    for x in tqdm(data): \n",
        "\n",
        "        times, dim = x['lmfcc'].shape\n",
        "        # for each time step\n",
        "        for i in range(times):\n",
        "            if i < 3 or i >= times - 3:\n",
        "                dynlmfcc_features[k, :] = np.hstack(np.pad(x['lmfcc'], pad_width=((3, 3), (0, 0)), mode='reflect')[i:i+7, :])\n",
        "                dynmspec_features[k, :] = np.hstack(np.pad(x['mspec'], pad_width=((3, 3), (0, 0)), mode='reflect')[i:i+7, :])\n",
        "            else:\n",
        "                dynlmfcc_features[k,:] = np.hstack(x['lmfcc'][i-3:i+4, :])\n",
        "                dynmspec_features[k,:] = np.hstack(x['mspec'][i-3:i+4, :])\n",
        "            k +=1\n",
        "        targets = targets + x['targets']\n",
        "\n",
        "    return dynlmfcc_features, dynmspec_features, targets"
      ],
      "execution_count": 0,
      "outputs": []
    },
    {
      "cell_type": "code",
      "metadata": {
        "id": "r6rZ9PAvCAak",
        "colab_type": "code",
        "outputId": "1077ad79-2ff2-466d-a5eb-254ede5ea962",
        "colab": {
          "base_uri": "https://localhost:8080/",
          "height": 477
        }
      },
      "source": [
        "# Features & Dynamic features\n",
        "\n",
        "lmfcc_train_x, mspec_train_x, train_y = create_non_dynamic_features(train_data)\n",
        "dynlmfcc_train_x, dynmspec_train_x, train_y = create_dynamic_features(train_data)\n",
        "#np.save('/content/drive/My Drive/Lab3/lmfcc_train_x.npy', lmfcc_train_x)\n",
        "#np.save('/content/drive/My Drive/Lab3/mspec_train_x.npy', mspec_train_x)\n",
        "#np.save('/content/drive/My Drive/Lab3/dynlmfcc_train_x.npy', dynlmfcc_train_x)\n",
        "#np.save('/content/drive/My Drive/Lab3/dynmspec_train_x.npy', dynmspec_train_x)\n",
        "np.save('/content/drive/My Drive/Lab3/train_y.npy', train_y)"
      ],
      "execution_count": 16,
      "outputs": [
        {
          "output_type": "stream",
          "text": [
            "100%|██████████| 7699/7699 [00:26<00:00, 290.36it/s]\n",
            " 36%|███▋      | 2805/7699 [00:16<00:31, 154.15it/s]"
          ],
          "name": "stderr"
        },
        {
          "output_type": "error",
          "ename": "KeyboardInterrupt",
          "evalue": "ignored",
          "traceback": [
            "\u001b[0;31m---------------------------------------------------------------------------\u001b[0m",
            "\u001b[0;31mKeyboardInterrupt\u001b[0m                         Traceback (most recent call last)",
            "\u001b[0;32m<ipython-input-16-83bfa91c10ae>\u001b[0m in \u001b[0;36m<module>\u001b[0;34m()\u001b[0m\n\u001b[1;32m      2\u001b[0m \u001b[0;34m\u001b[0m\u001b[0m\n\u001b[1;32m      3\u001b[0m \u001b[0mlmfcc_train_x\u001b[0m\u001b[0;34m,\u001b[0m \u001b[0mmspec_train_x\u001b[0m\u001b[0;34m,\u001b[0m \u001b[0mtrain_y\u001b[0m \u001b[0;34m=\u001b[0m \u001b[0mcreate_non_dynamic_features\u001b[0m\u001b[0;34m(\u001b[0m\u001b[0mtrain_data\u001b[0m\u001b[0;34m)\u001b[0m\u001b[0;34m\u001b[0m\u001b[0;34m\u001b[0m\u001b[0m\n\u001b[0;32m----> 4\u001b[0;31m \u001b[0mdynlmfcc_train_x\u001b[0m\u001b[0;34m,\u001b[0m \u001b[0mdynmspec_train_x\u001b[0m\u001b[0;34m,\u001b[0m \u001b[0mtrain_y\u001b[0m \u001b[0;34m=\u001b[0m \u001b[0mcreate_dynamic_features\u001b[0m\u001b[0;34m(\u001b[0m\u001b[0mtrain_data\u001b[0m\u001b[0;34m)\u001b[0m\u001b[0;34m\u001b[0m\u001b[0;34m\u001b[0m\u001b[0m\n\u001b[0m\u001b[1;32m      5\u001b[0m \u001b[0;31m#np.save('/content/drive/My Drive/Lab3/lmfcc_train_x.npy', lmfcc_train_x)\u001b[0m\u001b[0;34m\u001b[0m\u001b[0;34m\u001b[0m\u001b[0;34m\u001b[0m\u001b[0m\n\u001b[1;32m      6\u001b[0m \u001b[0;31m#np.save('/content/drive/My Drive/Lab3/mspec_train_x.npy', mspec_train_x)\u001b[0m\u001b[0;34m\u001b[0m\u001b[0;34m\u001b[0m\u001b[0;34m\u001b[0m\u001b[0m\n",
            "\u001b[0;32m<ipython-input-15-02fbaa9e1062>\u001b[0m in \u001b[0;36mcreate_dynamic_features\u001b[0;34m(data)\u001b[0m\n\u001b[1;32m     35\u001b[0m                 \u001b[0mdynmspec_features\u001b[0m\u001b[0;34m[\u001b[0m\u001b[0mk\u001b[0m\u001b[0;34m,\u001b[0m \u001b[0;34m:\u001b[0m\u001b[0;34m]\u001b[0m \u001b[0;34m=\u001b[0m \u001b[0mnp\u001b[0m\u001b[0;34m.\u001b[0m\u001b[0mhstack\u001b[0m\u001b[0;34m(\u001b[0m\u001b[0mnp\u001b[0m\u001b[0;34m.\u001b[0m\u001b[0mpad\u001b[0m\u001b[0;34m(\u001b[0m\u001b[0mx\u001b[0m\u001b[0;34m[\u001b[0m\u001b[0;34m'mspec'\u001b[0m\u001b[0;34m]\u001b[0m\u001b[0;34m,\u001b[0m \u001b[0mpad_width\u001b[0m\u001b[0;34m=\u001b[0m\u001b[0;34m(\u001b[0m\u001b[0;34m(\u001b[0m\u001b[0;36m3\u001b[0m\u001b[0;34m,\u001b[0m \u001b[0;36m3\u001b[0m\u001b[0;34m)\u001b[0m\u001b[0;34m,\u001b[0m \u001b[0;34m(\u001b[0m\u001b[0;36m0\u001b[0m\u001b[0;34m,\u001b[0m \u001b[0;36m0\u001b[0m\u001b[0;34m)\u001b[0m\u001b[0;34m)\u001b[0m\u001b[0;34m,\u001b[0m \u001b[0mmode\u001b[0m\u001b[0;34m=\u001b[0m\u001b[0;34m'reflect'\u001b[0m\u001b[0;34m)\u001b[0m\u001b[0;34m[\u001b[0m\u001b[0mi\u001b[0m\u001b[0;34m:\u001b[0m\u001b[0mi\u001b[0m\u001b[0;34m+\u001b[0m\u001b[0;36m7\u001b[0m\u001b[0;34m,\u001b[0m \u001b[0;34m:\u001b[0m\u001b[0;34m]\u001b[0m\u001b[0;34m)\u001b[0m\u001b[0;34m\u001b[0m\u001b[0;34m\u001b[0m\u001b[0m\n\u001b[1;32m     36\u001b[0m             \u001b[0;32melse\u001b[0m\u001b[0;34m:\u001b[0m\u001b[0;34m\u001b[0m\u001b[0;34m\u001b[0m\u001b[0m\n\u001b[0;32m---> 37\u001b[0;31m                 \u001b[0mdynlmfcc_features\u001b[0m\u001b[0;34m[\u001b[0m\u001b[0mk\u001b[0m\u001b[0;34m,\u001b[0m\u001b[0;34m:\u001b[0m\u001b[0;34m]\u001b[0m \u001b[0;34m=\u001b[0m \u001b[0mnp\u001b[0m\u001b[0;34m.\u001b[0m\u001b[0mhstack\u001b[0m\u001b[0;34m(\u001b[0m\u001b[0mx\u001b[0m\u001b[0;34m[\u001b[0m\u001b[0;34m'lmfcc'\u001b[0m\u001b[0;34m]\u001b[0m\u001b[0;34m[\u001b[0m\u001b[0mi\u001b[0m\u001b[0;34m-\u001b[0m\u001b[0;36m3\u001b[0m\u001b[0;34m:\u001b[0m\u001b[0mi\u001b[0m\u001b[0;34m+\u001b[0m\u001b[0;36m4\u001b[0m\u001b[0;34m,\u001b[0m \u001b[0;34m:\u001b[0m\u001b[0;34m]\u001b[0m\u001b[0;34m)\u001b[0m\u001b[0;34m\u001b[0m\u001b[0;34m\u001b[0m\u001b[0m\n\u001b[0m\u001b[1;32m     38\u001b[0m                 \u001b[0mdynmspec_features\u001b[0m\u001b[0;34m[\u001b[0m\u001b[0mk\u001b[0m\u001b[0;34m,\u001b[0m\u001b[0;34m:\u001b[0m\u001b[0;34m]\u001b[0m \u001b[0;34m=\u001b[0m \u001b[0mnp\u001b[0m\u001b[0;34m.\u001b[0m\u001b[0mhstack\u001b[0m\u001b[0;34m(\u001b[0m\u001b[0mx\u001b[0m\u001b[0;34m[\u001b[0m\u001b[0;34m'mspec'\u001b[0m\u001b[0;34m]\u001b[0m\u001b[0;34m[\u001b[0m\u001b[0mi\u001b[0m\u001b[0;34m-\u001b[0m\u001b[0;36m3\u001b[0m\u001b[0;34m:\u001b[0m\u001b[0mi\u001b[0m\u001b[0;34m+\u001b[0m\u001b[0;36m4\u001b[0m\u001b[0;34m,\u001b[0m \u001b[0;34m:\u001b[0m\u001b[0;34m]\u001b[0m\u001b[0;34m)\u001b[0m\u001b[0;34m\u001b[0m\u001b[0;34m\u001b[0m\u001b[0m\n\u001b[1;32m     39\u001b[0m             \u001b[0mk\u001b[0m \u001b[0;34m+=\u001b[0m\u001b[0;36m1\u001b[0m\u001b[0;34m\u001b[0m\u001b[0;34m\u001b[0m\u001b[0m\n",
            "\u001b[0;32m<__array_function__ internals>\u001b[0m in \u001b[0;36mhstack\u001b[0;34m(*args, **kwargs)\u001b[0m\n",
            "\u001b[0;32m/usr/local/lib/python3.6/dist-packages/numpy/core/shape_base.py\u001b[0m in \u001b[0;36mhstack\u001b[0;34m(tup)\u001b[0m\n\u001b[1;32m    341\u001b[0m     \u001b[0;31m# As a special case, dimension 0 of 1-dimensional arrays is \"horizontal\"\u001b[0m\u001b[0;34m\u001b[0m\u001b[0;34m\u001b[0m\u001b[0;34m\u001b[0m\u001b[0m\n\u001b[1;32m    342\u001b[0m     \u001b[0;32mif\u001b[0m \u001b[0marrs\u001b[0m \u001b[0;32mand\u001b[0m \u001b[0marrs\u001b[0m\u001b[0;34m[\u001b[0m\u001b[0;36m0\u001b[0m\u001b[0;34m]\u001b[0m\u001b[0;34m.\u001b[0m\u001b[0mndim\u001b[0m \u001b[0;34m==\u001b[0m \u001b[0;36m1\u001b[0m\u001b[0;34m:\u001b[0m\u001b[0;34m\u001b[0m\u001b[0;34m\u001b[0m\u001b[0m\n\u001b[0;32m--> 343\u001b[0;31m         \u001b[0;32mreturn\u001b[0m \u001b[0m_nx\u001b[0m\u001b[0;34m.\u001b[0m\u001b[0mconcatenate\u001b[0m\u001b[0;34m(\u001b[0m\u001b[0marrs\u001b[0m\u001b[0;34m,\u001b[0m \u001b[0;36m0\u001b[0m\u001b[0;34m)\u001b[0m\u001b[0;34m\u001b[0m\u001b[0;34m\u001b[0m\u001b[0m\n\u001b[0m\u001b[1;32m    344\u001b[0m     \u001b[0;32melse\u001b[0m\u001b[0;34m:\u001b[0m\u001b[0;34m\u001b[0m\u001b[0;34m\u001b[0m\u001b[0m\n\u001b[1;32m    345\u001b[0m         \u001b[0;32mreturn\u001b[0m \u001b[0m_nx\u001b[0m\u001b[0;34m.\u001b[0m\u001b[0mconcatenate\u001b[0m\u001b[0;34m(\u001b[0m\u001b[0marrs\u001b[0m\u001b[0;34m,\u001b[0m \u001b[0;36m1\u001b[0m\u001b[0;34m)\u001b[0m\u001b[0;34m\u001b[0m\u001b[0;34m\u001b[0m\u001b[0m\n",
            "\u001b[0;32m<__array_function__ internals>\u001b[0m in \u001b[0;36mconcatenate\u001b[0;34m(*args, **kwargs)\u001b[0m\n",
            "\u001b[0;31mKeyboardInterrupt\u001b[0m: "
          ]
        }
      ]
    },
    {
      "cell_type": "code",
      "metadata": {
        "id": "b1oDWgwZ6OuB",
        "colab_type": "code",
        "colab": {}
      },
      "source": [
        "del lmfcc_train_x\n",
        "del mspec_train_x\n",
        "del train_y\n",
        "del train_data"
      ],
      "execution_count": 0,
      "outputs": []
    },
    {
      "cell_type": "code",
      "metadata": {
        "id": "I2U8Fh1_5GzK",
        "colab_type": "code",
        "colab": {}
      },
      "source": [
        "lmfcc_val_x, mspec_val_x, val_y = create_non_dynamic_features(val_data)\n",
        "dynlmfcc_val_x, dynmspec_val_x, val_y = create_dynamic_features(val_data)\n",
        "np.save('/content/drive/My Drive/Lab3/lmfcc_val_x.npy', lmfcc_val_x)\n",
        "np.save('/content/drive/My Drive/Lab3/mspec_val_x.npy', mspec_val_x)\n",
        "np.save('/content/drive/My Drive/Lab3/dynlmfcc_val_x.npy', dynlmfcc_val_x)\n",
        "np.save('/content/drive/My Drive/Lab3/dynmspec_val_x.npy', dynmspec_val_x)\n",
        "np.save('/content/drive/My Drive/Lab3/val_y.npy', val_y)"
      ],
      "execution_count": 0,
      "outputs": []
    },
    {
      "cell_type": "code",
      "metadata": {
        "id": "dBXXT9Lk5JfT",
        "colab_type": "code",
        "colab": {}
      },
      "source": [
        "lmfcc_test_x, mspec_test_x, test_y = create_non_dynamic_features(test_data)\n",
        "dynlmfcc_test_x, dynmspec_test_x, test_y = create_dynamic_features(test_data)\n",
        "np.save('/content/drive/My Drive/Lab3/lmfcc_test_x.npy', lmfcc_test_x)\n",
        "np.save('/content/drive/My Drive/Lab3/mspec_test_x.npy', mspec_test_x)\n",
        "np.save('/content/drive/My Drive/Lab3/dynlmfcc_test_x.npy', dynlmfcc_test_x)\n",
        "np.save('/content/drive/My Drive/Lab3/dynmspec_test_x.npy', dynmspec_test_x)\n",
        "np.save('/content/drive/My Drive/Lab3/test_y.npy', test_y)"
      ],
      "execution_count": 0,
      "outputs": []
    },
    {
      "cell_type": "markdown",
      "metadata": {
        "id": "W9vUqa_2jmsP",
        "colab_type": "text"
      },
      "source": [
        "# 4.6 Feature Standardisation"
      ]
    },
    {
      "cell_type": "code",
      "metadata": {
        "id": "A46_vg1X1LsI",
        "colab_type": "code",
        "colab": {}
      },
      "source": [
        "train_y_one_hot, val_y_one_hot, test_y_one_hot = normalize_targets(train_y, val_y, test_y, stateList)"
      ],
      "execution_count": 0,
      "outputs": []
    },
    {
      "cell_type": "markdown",
      "metadata": {
        "id": "Zydanardb6-m",
        "colab_type": "text"
      },
      "source": [
        "#5 Phoneme Recognition with Deep Neural Networks"
      ]
    },
    {
      "cell_type": "code",
      "metadata": {
        "id": "Mv6Ki4JRcAn6",
        "colab_type": "code",
        "colab": {
          "base_uri": "https://localhost:8080/",
          "height": 34
        },
        "outputId": "6993816a-2800-42ca-87cd-3385035517c7"
      },
      "source": [
        "from tensorflow.keras.models import Sequential\n",
        "from tensorflow.keras.layers import Dense, Activation\n",
        "from tensorflow.keras.optimizers import Adam\n",
        "from tensorflow.keras.callbacks import ModelCheckpoint\n",
        "from sklearn.metrics import classification_report, confusion_matrix\n",
        "from standardization import *\n",
        "import numpy as np"
      ],
      "execution_count": 17,
      "outputs": [
        {
          "output_type": "stream",
          "text": [
            "\r 36%|███▋      | 2805/7699 [00:29<00:31, 154.15it/s]"
          ],
          "name": "stderr"
        }
      ]
    },
    {
      "cell_type": "code",
      "metadata": {
        "id": "NfwVUkpQBCYE",
        "colab_type": "code",
        "colab": {}
      },
      "source": [
        "import matplotlib.pyplot as plt\n",
        "def plot_history(history):\n",
        "\n",
        "    fig, axs = plt.subplots(2)\n",
        "    # create accuracy sublpot\n",
        "    axs[0].plot(history.history[\"accuracy\"], label=\"train accuracy\")\n",
        "    axs[0].plot(history.history[\"val_accuracy\"], label=\"test accuracy\")\n",
        "    axs[0].set_ylabel(\"Accuracy\")\n",
        "    axs[0].legend(loc=\"lower right\")\n",
        "    axs[0].set_title(\"Accuracy eval\")\n",
        "    # create error sublpot\n",
        "    axs[1].plot(history.history[\"loss\"], label=\"train error\")\n",
        "    axs[1].plot(history.history[\"val_loss\"], label=\"validation error\")\n",
        "    axs[1].set_ylabel(\"Error\")\n",
        "    axs[1].set_xlabel(\"Epoch\")\n",
        "    axs[1].legend(loc=\"upper right\")\n",
        "    axs[1].set_title(\"Error eval\")\n",
        "    plt.show()"
      ],
      "execution_count": 0,
      "outputs": []
    },
    {
      "cell_type": "code",
      "metadata": {
        "id": "X2-fT6LmkYYG",
        "colab_type": "code",
        "colab": {}
      },
      "source": [
        "def save_predictions(Y_test, Y_pred, featuretype):\n",
        "    \"\"\" Saves the prediction indexes for Y_test amd Y_pred\n",
        "    Args\n",
        "        Y_test: [NxS] where N is nr of samples and S ist the number of possible outputs\n",
        "        Y_pred: [NxS] where N is nr of samples and S ist the number of possible outputs\n",
        "    \"\"\"\n",
        "    Y_test_indexes = Y_test.argmax(axis=1)\n",
        "    Y_pred_indexes = Y_pred.argmax(axis=1)\n",
        "    np.savez('/content/drive/My Drive/Lab3/predictions/'+featuretype+'_pred.npz', Y_test_indexes=Y_test_indexes, Y_pred_indexes=Y_pred_indexes )"
      ],
      "execution_count": 0,
      "outputs": []
    },
    {
      "cell_type": "markdown",
      "metadata": {
        "id": "M-fDyq6cdh7h",
        "colab_type": "text"
      },
      "source": [
        "### LMFCC features"
      ]
    },
    {
      "cell_type": "code",
      "metadata": {
        "id": "Q71F3gqNdU7O",
        "colab_type": "code",
        "colab": {}
      },
      "source": [
        "lmfcc_train_x = np.load('/content/drive/My Drive/Lab3/lmfcc_train_x.npy', allow_pickle=True)\n",
        "train_y = np.load('/content/drive/My Drive/Lab3/train_y.npy', allow_pickle=True)\n",
        "\n",
        "lmfcc_val_x = np.load('/content/drive/My Drive/Lab3/lmfcc_val_x.npy', allow_pickle=True)\n",
        "val_y = np.load('/content/drive/My Drive/Lab3/val_y.npy', allow_pickle=True)\n",
        "\n",
        "lmfcc_test_x = np.load('/content/drive/My Drive/Lab3/lmfcc_test_x.npy', allow_pickle=True)\n",
        "test_y = np.load('/content/drive/My Drive/Lab3/test_y.npy', allow_pickle=True)"
      ],
      "execution_count": 0,
      "outputs": []
    },
    {
      "cell_type": "code",
      "metadata": {
        "id": "bbm0-Oh-14si",
        "colab_type": "code",
        "colab": {}
      },
      "source": [
        "# Normalize \n",
        "lmfcc_train_x, lmfcc_val_x, lmfcc_test_x = normalize_features(lmfcc_train_x, lmfcc_val_x, lmfcc_test_x)"
      ],
      "execution_count": 0,
      "outputs": []
    },
    {
      "cell_type": "code",
      "metadata": {
        "id": "fhnPZ9lN-LAQ",
        "colab_type": "code",
        "colab": {}
      },
      "source": [
        "train_y_one_hot, val_y_one_hot, test_y_one_hot = normalize_targets(train_y, val_y, test_y, stateList)"
      ],
      "execution_count": 0,
      "outputs": []
    },
    {
      "cell_type": "code",
      "metadata": {
        "id": "biykBz3Pc27E",
        "colab_type": "code",
        "outputId": "d3886961-f360-4dfe-f359-bd14b7e85140",
        "colab": {
          "base_uri": "https://localhost:8080/",
          "height": 357
        }
      },
      "source": [
        "model = Sequential()\n",
        "\n",
        "# A typical value for hidden nodes is 256, but you can experiment with this to see if convergence becomes faster or slower.\n",
        "model.add(Dense(256, input_shape=(13,), activation='relu', dtype=\"float32\"))\n",
        "model.add(Dense(256, activation='relu'))\n",
        "model.add(Dense(256, activation='relu'))\n",
        "model.add(Dense(256, activation='relu'))\n",
        "\n",
        "model.add(Dense(61))\n",
        "model.add(Activation('softmax', name='posterior'))\n",
        "\n",
        "opt = Adam()\n",
        "model.compile(loss='categorical_crossentropy', optimizer=opt, metrics=['accuracy'])\n",
        "model.summary()"
      ],
      "execution_count": 32,
      "outputs": [
        {
          "output_type": "stream",
          "text": [
            "Model: \"sequential_2\"\n",
            "_________________________________________________________________\n",
            "Layer (type)                 Output Shape              Param #   \n",
            "=================================================================\n",
            "dense_10 (Dense)             (None, 256)               3584      \n",
            "_________________________________________________________________\n",
            "dense_11 (Dense)             (None, 256)               65792     \n",
            "_________________________________________________________________\n",
            "dense_12 (Dense)             (None, 256)               65792     \n",
            "_________________________________________________________________\n",
            "dense_13 (Dense)             (None, 256)               65792     \n",
            "_________________________________________________________________\n",
            "dense_14 (Dense)             (None, 61)                15677     \n",
            "_________________________________________________________________\n",
            "posterior (Activation)       (None, 61)                0         \n",
            "=================================================================\n",
            "Total params: 216,637\n",
            "Trainable params: 216,637\n",
            "Non-trainable params: 0\n",
            "_________________________________________________________________\n"
          ],
          "name": "stdout"
        }
      ]
    },
    {
      "cell_type": "code",
      "metadata": {
        "id": "SwxmmvqheVg_",
        "colab_type": "code",
        "outputId": "297dd562-1f66-4653-b5f6-4a2b900a4e24",
        "colab": {
          "base_uri": "https://localhost:8080/",
          "height": 697
        }
      },
      "source": [
        "filepath = \"/content/drive/My Drive/Lab3/weights.{epoch:02d}-{val_accuracy:.2f}.hdf5\"\n",
        "checkpoint = ModelCheckpoint(filepath, monitor='val_accuracy', verbose=1,\n",
        "                             save_best_only=True, mode='max')\n",
        "\n",
        "history = model.fit(lmfcc_train_x, train_y_one_hot, epochs=10, batch_size=256,\n",
        "          validation_data = (lmfcc_val_x, val_y_one_hot), callbacks=checkpoint)"
      ],
      "execution_count": 33,
      "outputs": [
        {
          "output_type": "stream",
          "text": [
            "Epoch 1/10\n",
            "5239/5248 [============================>.] - ETA: 0s - loss: 1.2546 - accuracy: 0.6086\n",
            "Epoch 00001: val_accuracy improved from -inf to 0.62733, saving model to /content/drive/My Drive/Lab3/weights.01-0.63.hdf5\n",
            "5248/5248 [==============================] - 16s 3ms/step - loss: 1.2544 - accuracy: 0.6086 - val_loss: 1.1707 - val_accuracy: 0.6273\n",
            "Epoch 2/10\n",
            "5232/5248 [============================>.] - ETA: 0s - loss: 1.1345 - accuracy: 0.6405\n",
            "Epoch 00002: val_accuracy improved from 0.62733 to 0.63390, saving model to /content/drive/My Drive/Lab3/weights.02-0.63.hdf5\n",
            "5248/5248 [==============================] - 15s 3ms/step - loss: 1.1345 - accuracy: 0.6405 - val_loss: 1.1464 - val_accuracy: 0.6339\n",
            "Epoch 3/10\n",
            "5242/5248 [============================>.] - ETA: 0s - loss: 1.0961 - accuracy: 0.6516\n",
            "Epoch 00003: val_accuracy did not improve from 0.63390\n",
            "5248/5248 [==============================] - 15s 3ms/step - loss: 1.0961 - accuracy: 0.6516 - val_loss: 1.1750 - val_accuracy: 0.6293\n",
            "Epoch 4/10\n",
            "5246/5248 [============================>.] - ETA: 0s - loss: 1.0712 - accuracy: 0.6591\n",
            "Epoch 00004: val_accuracy improved from 0.63390 to 0.63474, saving model to /content/drive/My Drive/Lab3/weights.04-0.63.hdf5\n",
            "5248/5248 [==============================] - 15s 3ms/step - loss: 1.0712 - accuracy: 0.6591 - val_loss: 1.1637 - val_accuracy: 0.6347\n",
            "Epoch 5/10\n",
            "5247/5248 [============================>.] - ETA: 0s - loss: 1.0523 - accuracy: 0.6653\n",
            "Epoch 00005: val_accuracy did not improve from 0.63474\n",
            "5248/5248 [==============================] - 15s 3ms/step - loss: 1.0523 - accuracy: 0.6653 - val_loss: 1.1717 - val_accuracy: 0.6338\n",
            "Epoch 6/10\n",
            "5244/5248 [============================>.] - ETA: 0s - loss: 1.0376 - accuracy: 0.6692\n",
            "Epoch 00006: val_accuracy did not improve from 0.63474\n",
            "5248/5248 [==============================] - 15s 3ms/step - loss: 1.0376 - accuracy: 0.6692 - val_loss: 1.1807 - val_accuracy: 0.6335\n",
            "Epoch 7/10\n",
            "5235/5248 [============================>.] - ETA: 0s - loss: 1.0254 - accuracy: 0.6731\n",
            "Epoch 00007: val_accuracy did not improve from 0.63474\n",
            "5248/5248 [==============================] - 15s 3ms/step - loss: 1.0255 - accuracy: 0.6731 - val_loss: 1.1937 - val_accuracy: 0.6288\n",
            "Epoch 8/10\n",
            "5240/5248 [============================>.] - ETA: 0s - loss: 1.0153 - accuracy: 0.6765\n",
            "Epoch 00008: val_accuracy did not improve from 0.63474\n",
            "5248/5248 [==============================] - 15s 3ms/step - loss: 1.0153 - accuracy: 0.6765 - val_loss: 1.1990 - val_accuracy: 0.6316\n",
            "Epoch 9/10\n",
            "5233/5248 [============================>.] - ETA: 0s - loss: 1.0065 - accuracy: 0.6788\n",
            "Epoch 00009: val_accuracy did not improve from 0.63474\n",
            "5248/5248 [==============================] - 15s 3ms/step - loss: 1.0065 - accuracy: 0.6788 - val_loss: 1.2054 - val_accuracy: 0.6299\n",
            "Epoch 10/10\n",
            "5243/5248 [============================>.] - ETA: 0s - loss: 0.9985 - accuracy: 0.6810\n",
            "Epoch 00010: val_accuracy did not improve from 0.63474\n",
            "5248/5248 [==============================] - 15s 3ms/step - loss: 0.9985 - accuracy: 0.6810 - val_loss: 1.2214 - val_accuracy: 0.6270\n"
          ],
          "name": "stdout"
        }
      ]
    },
    {
      "cell_type": "code",
      "metadata": {
        "id": "POikTpIoBORN",
        "colab_type": "code",
        "outputId": "a84d4dda-6a62-494f-8846-fcd714399332",
        "colab": {
          "base_uri": "https://localhost:8080/",
          "height": 312
        }
      },
      "source": [
        "plot_history(history)\n",
        "\n",
        "score = model.evaluate(lmfcc_test_x, test_y_one_hot, batch_size=128)\n",
        "# print(\"%s: %.2f%%\" % (model.metrics_names[1], score[1]*100))\n",
        "\n",
        "pred_y = model.predict(lmfcc_test_x)\n",
        "save_predictions(test_y_one_hot, pred_y, 'lmfcc')"
      ],
      "execution_count": 42,
      "outputs": [
        {
          "output_type": "display_data",
          "data": {
            "image/png": "[encoded data removed]",
            "text/plain": [
              "<Figure size 432x288 with 2 Axes>"
            ]
          },
          "metadata": {
            "tags": [],
            "needs_background": "light"
          }
        },
        {
          "output_type": "stream",
          "text": [
            "11928/11928 [==============================] - 24s 2ms/step - loss: 1.3514 - accuracy: 0.5963\n"
          ],
          "name": "stdout"
        }
      ]
    },
    {
      "cell_type": "markdown",
      "metadata": {
        "id": "CunW57kkABSO",
        "colab_type": "text"
      },
      "source": [
        "## Filterbank features"
      ]
    },
    {
      "cell_type": "code",
      "metadata": {
        "id": "Ko49fY_0__qU",
        "colab_type": "code",
        "colab": {}
      },
      "source": [
        "# Load featyres\n",
        "mspec_train_x = np.load('/content/drive/My Drive/Lab3/mspec_train_x.npy', allow_pickle=True)\n",
        "mspec_val_x = np.load('/content/drive/My Drive/Lab3/mspec_val_x.npy', allow_pickle=True)\n",
        "mspec_test_x = np.load('/content/drive/My Drive/Lab3/mspec_test_x.npy', allow_pickle=True)"
      ],
      "execution_count": 0,
      "outputs": []
    },
    {
      "cell_type": "code",
      "metadata": {
        "id": "B9pNnabLAXkT",
        "colab_type": "code",
        "colab": {}
      },
      "source": [
        "# Normalize \n",
        "mspec_train_x, mspec_val_x, mspec_test_x = normalize_features(mspec_train_x, mspec_val_x, mspec_test_x)"
      ],
      "execution_count": 0,
      "outputs": []
    },
    {
      "cell_type": "code",
      "metadata": {
        "id": "EY6NsD9qBr0u",
        "colab_type": "code",
        "outputId": "c82e6a39-8b84-4551-c116-c0356cdb8dff",
        "colab": {
          "base_uri": "https://localhost:8080/",
          "height": 697
        }
      },
      "source": [
        "model = Sequential()\n",
        "\n",
        "# A typical value for hidden nodes is 256, but you can experiment with this to see if convergence becomes faster or slower.\n",
        "model.add(Dense(256, input_shape=(40,), activation='relu', dtype=\"float32\"))\n",
        "model.add(Dense(256, activation='relu'))\n",
        "model.add(Dense(256, activation='relu'))\n",
        "model.add(Dense(256, activation='relu'))\n",
        "\n",
        "model.add(Dense(61))\n",
        "model.add(Activation('softmax', name='posterior'))\n",
        "\n",
        "opt = Adam()\n",
        "model.compile(loss='categorical_crossentropy', optimizer=opt, metrics=['accuracy'])\n",
        "\n",
        "filepath = \"/content/drive/My Drive/Lab3/weights.{epoch:02d}-{val_accuracy:.2f}.hdf5\"\n",
        "checkpoint = ModelCheckpoint(filepath, monitor='val_accuracy', verbose=1,\n",
        "                             save_best_only=True, mode='max')\n",
        "\n",
        "history = model.fit(mspec_train_x, train_y_one_hot, epochs=10, batch_size=256,\n",
        "          validation_data = (mspec_val_x, val_y_one_hot), callbacks=checkpoint)"
      ],
      "execution_count": 45,
      "outputs": [
        {
          "output_type": "stream",
          "text": [
            "Epoch 1/10\n",
            "5238/5248 [============================>.] - ETA: 0s - loss: 1.2611 - accuracy: 0.6054\n",
            "Epoch 00001: val_accuracy improved from -inf to 0.63257, saving model to /content/drive/My Drive/Lab3/weights.01-0.63.hdf5\n",
            "5248/5248 [==============================] - 16s 3ms/step - loss: 1.2609 - accuracy: 0.6054 - val_loss: 1.1543 - val_accuracy: 0.6326\n",
            "Epoch 2/10\n",
            "5237/5248 [============================>.] - ETA: 0s - loss: 1.1024 - accuracy: 0.6504\n",
            "Epoch 00002: val_accuracy improved from 0.63257 to 0.64220, saving model to /content/drive/My Drive/Lab3/weights.02-0.64.hdf5\n",
            "5248/5248 [==============================] - 15s 3ms/step - loss: 1.1023 - accuracy: 0.6505 - val_loss: 1.1322 - val_accuracy: 0.6422\n",
            "Epoch 3/10\n",
            "5229/5248 [============================>.] - ETA: 0s - loss: 1.0496 - accuracy: 0.6657\n",
            "Epoch 00003: val_accuracy improved from 0.64220 to 0.64797, saving model to /content/drive/My Drive/Lab3/weights.03-0.65.hdf5\n",
            "5248/5248 [==============================] - 15s 3ms/step - loss: 1.0494 - accuracy: 0.6658 - val_loss: 1.1160 - val_accuracy: 0.6480\n",
            "Epoch 4/10\n",
            "5247/5248 [============================>.] - ETA: 0s - loss: 1.0177 - accuracy: 0.6756\n",
            "Epoch 00004: val_accuracy improved from 0.64797 to 0.64973, saving model to /content/drive/My Drive/Lab3/weights.04-0.65.hdf5\n",
            "5248/5248 [==============================] - 15s 3ms/step - loss: 1.0177 - accuracy: 0.6756 - val_loss: 1.1216 - val_accuracy: 0.6497\n",
            "Epoch 5/10\n",
            "5248/5248 [==============================] - ETA: 0s - loss: 0.9946 - accuracy: 0.6825\n",
            "Epoch 00005: val_accuracy did not improve from 0.64973\n",
            "5248/5248 [==============================] - 16s 3ms/step - loss: 0.9946 - accuracy: 0.6825 - val_loss: 1.1436 - val_accuracy: 0.6430\n",
            "Epoch 6/10\n",
            "5244/5248 [============================>.] - ETA: 0s - loss: 0.9762 - accuracy: 0.6878\n",
            "Epoch 00006: val_accuracy did not improve from 0.64973\n",
            "5248/5248 [==============================] - 15s 3ms/step - loss: 0.9762 - accuracy: 0.6878 - val_loss: 1.1292 - val_accuracy: 0.6490\n",
            "Epoch 7/10\n",
            "5246/5248 [============================>.] - ETA: 0s - loss: 0.9616 - accuracy: 0.6925\n",
            "Epoch 00007: val_accuracy did not improve from 0.64973\n",
            "5248/5248 [==============================] - 15s 3ms/step - loss: 0.9615 - accuracy: 0.6925 - val_loss: 1.1635 - val_accuracy: 0.6418\n",
            "Epoch 8/10\n",
            "5229/5248 [============================>.] - ETA: 0s - loss: 0.9498 - accuracy: 0.6959\n",
            "Epoch 00008: val_accuracy did not improve from 0.64973\n",
            "5248/5248 [==============================] - 15s 3ms/step - loss: 0.9498 - accuracy: 0.6959 - val_loss: 1.1523 - val_accuracy: 0.6473\n",
            "Epoch 9/10\n",
            "5245/5248 [============================>.] - ETA: 0s - loss: 0.9396 - accuracy: 0.6992\n",
            "Epoch 00009: val_accuracy did not improve from 0.64973\n",
            "5248/5248 [==============================] - 15s 3ms/step - loss: 0.9396 - accuracy: 0.6992 - val_loss: 1.1656 - val_accuracy: 0.6435\n",
            "Epoch 10/10\n",
            "5235/5248 [============================>.] - ETA: 0s - loss: 0.9298 - accuracy: 0.7018\n",
            "Epoch 00010: val_accuracy did not improve from 0.64973\n",
            "5248/5248 [==============================] - 15s 3ms/step - loss: 0.9299 - accuracy: 0.7018 - val_loss: 1.1794 - val_accuracy: 0.6421\n"
          ],
          "name": "stdout"
        }
      ]
    },
    {
      "cell_type": "code",
      "metadata": {
        "id": "n6B9e12VBTIr",
        "colab_type": "code",
        "outputId": "c15a180a-ce26-458a-d6b5-8012434d2069",
        "colab": {
          "base_uri": "https://localhost:8080/",
          "height": 329
        }
      },
      "source": [
        "plot_history(history)\n",
        "\n",
        "score = model.evaluate(mspec_test_x, test_y_one_hot, batch_size=128)\n",
        "print(\"%s: %.2f%%\" % (model.metrics_names[1], score[1]*100))\n",
        "\n",
        "pred_y = model.predict(mspec_test_x)\n",
        "save_predictions(test_y_one_hot, pred_y, 'mspec')"
      ],
      "execution_count": 46,
      "outputs": [
        {
          "output_type": "display_data",
          "data": {
            "image/png": "[encoded data removed]",
            "text/plain": [
              "<Figure size 432x288 with 2 Axes>"
            ]
          },
          "metadata": {
            "tags": [],
            "needs_background": "light"
          }
        },
        {
          "output_type": "stream",
          "text": [
            "11928/11928 [==============================] - 25s 2ms/step - loss: 1.3056 - accuracy: 0.6133\n",
            "accuracy: 61.33%\n"
          ],
          "name": "stdout"
        }
      ]
    },
    {
      "cell_type": "markdown",
      "metadata": {
        "id": "WmdCzFSPCCED",
        "colab_type": "text"
      },
      "source": [
        "## Dynamic LMFCC features"
      ]
    },
    {
      "cell_type": "code",
      "metadata": {
        "id": "n7lok1IWB8MS",
        "colab_type": "code",
        "colab": {}
      },
      "source": [
        "# dynlmfcc_train_x = np.load('/content/drive/My Drive/Lab3/dynlmfcc_train_x.npy', allow_pickle=True)\n",
        "# dynlmfcc_val_x = np.load('/content/drive/My Drive/Lab3/dynlmfcc_val_x.npy', allow_pickle=True)\n",
        "# dynlmfcc_test_x = np.load('/content/drive/My Drive/Lab3/dynlmfcc_test_x.npy', allow_pickle=True)\n",
        "\n",
        "loaded = np.load('/content/drive/My Drive/Lab3_features/normalized/dynlmfcc_norm.npz', allow_pickle=True)\n",
        "dynlmfcc_train_x =  loaded['dynlmfcc_train_x']\n",
        "dynlmfcc_val_x = loaded['dynlmfcc_val_x']\n",
        "dynlmfcc_test_x = loaded['dynlmfcc_test_x']"
      ],
      "execution_count": 0,
      "outputs": []
    },
    {
      "cell_type": "code",
      "metadata": {
        "id": "5HAvVz59Dcbw",
        "colab_type": "code",
        "colab": {}
      },
      "source": [
        "dynlmfcc_train_x, dynlmfcc_val_x, dynlmfcc_test_x = normalize_features(dynlmfcc_train_x, dynlmfcc_val_x, dynlmfcc_test_x)"
      ],
      "execution_count": 0,
      "outputs": []
    },
    {
      "cell_type": "code",
      "metadata": {
        "id": "DmJp6Rq_EK9r",
        "colab_type": "code",
        "outputId": "a20bf31e-dff8-4283-8b97-fffac3c3ffe4",
        "colab": {
          "base_uri": "https://localhost:8080/",
          "height": 697
        }
      },
      "source": [
        "model = Sequential()\n",
        "\n",
        "# A typical value for hidden nodes is 256, but you can experiment with this to see if convergence becomes faster or slower.\n",
        "model.add(Dense(256, input_shape=(91,), activation='relu', dtype=\"float32\"))\n",
        "model.add(Dense(256, activation='relu'))\n",
        "model.add(Dense(256, activation='relu'))\n",
        "model.add(Dense(256, activation='relu'))\n",
        "\n",
        "model.add(Dense(61))\n",
        "model.add(Activation('softmax', name='posterior'))\n",
        "\n",
        "opt = Adam()\n",
        "model.compile(loss='categorical_crossentropy', optimizer=opt, metrics=['accuracy'])\n",
        "\n",
        "filepath = \"/content/drive/My Drive/Lab3/weights.{epoch:02d}-{val_accuracy:.2f}.hdf5\"\n",
        "checkpoint = ModelCheckpoint(filepath, monitor='val_accuracy', verbose=1,\n",
        "                             save_best_only=True, mode='max')\n",
        "\n",
        "history = model.fit(dynlmfcc_train_x, train_y_one_hot, epochs=10, batch_size=256,\n",
        "          validation_data = (dynlmfcc_val_x, val_y_one_hot), callbacks=checkpoint)"
      ],
      "execution_count": 49,
      "outputs": [
        {
          "output_type": "stream",
          "text": [
            "Epoch 1/10\n",
            "5243/5248 [============================>.] - ETA: 0s - loss: 0.7824 - accuracy: 0.7425\n",
            "Epoch 00001: val_accuracy improved from -inf to 0.77611, saving model to /content/drive/My Drive/Lab3/weights.01-0.78.hdf5\n",
            "5248/5248 [==============================] - 16s 3ms/step - loss: 0.7824 - accuracy: 0.7425 - val_loss: 0.6735 - val_accuracy: 0.7761\n",
            "Epoch 2/10\n",
            "5241/5248 [============================>.] - ETA: 0s - loss: 0.6202 - accuracy: 0.7886\n",
            "Epoch 00002: val_accuracy improved from 0.77611 to 0.78681, saving model to /content/drive/My Drive/Lab3/weights.02-0.79.hdf5\n",
            "5248/5248 [==============================] - 16s 3ms/step - loss: 0.6201 - accuracy: 0.7887 - val_loss: 0.6340 - val_accuracy: 0.7868\n",
            "Epoch 3/10\n",
            "5232/5248 [============================>.] - ETA: 0s - loss: 0.5714 - accuracy: 0.8030\n",
            "Epoch 00003: val_accuracy improved from 0.78681 to 0.79315, saving model to /content/drive/My Drive/Lab3/weights.03-0.79.hdf5\n",
            "5248/5248 [==============================] - 16s 3ms/step - loss: 0.5713 - accuracy: 0.8030 - val_loss: 0.6223 - val_accuracy: 0.7931\n",
            "Epoch 4/10\n",
            "5245/5248 [============================>.] - ETA: 0s - loss: 0.5421 - accuracy: 0.8120\n",
            "Epoch 00004: val_accuracy improved from 0.79315 to 0.79410, saving model to /content/drive/My Drive/Lab3/weights.04-0.79.hdf5\n",
            "5248/5248 [==============================] - 15s 3ms/step - loss: 0.5421 - accuracy: 0.8120 - val_loss: 0.6347 - val_accuracy: 0.7941\n",
            "Epoch 5/10\n",
            "5233/5248 [============================>.] - ETA: 0s - loss: 0.5216 - accuracy: 0.8185\n",
            "Epoch 00005: val_accuracy improved from 0.79410 to 0.79715, saving model to /content/drive/My Drive/Lab3/weights.05-0.80.hdf5\n",
            "5248/5248 [==============================] - 16s 3ms/step - loss: 0.5216 - accuracy: 0.8185 - val_loss: 0.6283 - val_accuracy: 0.7971\n",
            "Epoch 6/10\n",
            "5248/5248 [==============================] - ETA: 0s - loss: 0.5060 - accuracy: 0.8233\n",
            "Epoch 00006: val_accuracy did not improve from 0.79715\n",
            "5248/5248 [==============================] - 15s 3ms/step - loss: 0.5060 - accuracy: 0.8233 - val_loss: 0.6308 - val_accuracy: 0.7961\n",
            "Epoch 7/10\n",
            "5237/5248 [============================>.] - ETA: 0s - loss: 0.4944 - accuracy: 0.8267\n",
            "Epoch 00007: val_accuracy improved from 0.79715 to 0.79810, saving model to /content/drive/My Drive/Lab3/weights.07-0.80.hdf5\n",
            "5248/5248 [==============================] - 15s 3ms/step - loss: 0.4944 - accuracy: 0.8266 - val_loss: 0.6323 - val_accuracy: 0.7981\n",
            "Epoch 8/10\n",
            "5236/5248 [============================>.] - ETA: 0s - loss: 0.4838 - accuracy: 0.8300\n",
            "Epoch 00008: val_accuracy did not improve from 0.79810\n",
            "5248/5248 [==============================] - 15s 3ms/step - loss: 0.4838 - accuracy: 0.8300 - val_loss: 0.6467 - val_accuracy: 0.7971\n",
            "Epoch 9/10\n",
            "5240/5248 [============================>.] - ETA: 0s - loss: 0.4755 - accuracy: 0.8326\n",
            "Epoch 00009: val_accuracy improved from 0.79810 to 0.79982, saving model to /content/drive/My Drive/Lab3/weights.09-0.80.hdf5\n",
            "5248/5248 [==============================] - 16s 3ms/step - loss: 0.4755 - accuracy: 0.8326 - val_loss: 0.6379 - val_accuracy: 0.7998\n",
            "Epoch 10/10\n",
            "5248/5248 [==============================] - ETA: 0s - loss: 0.4682 - accuracy: 0.8352\n",
            "Epoch 00010: val_accuracy did not improve from 0.79982\n",
            "5248/5248 [==============================] - 15s 3ms/step - loss: 0.4682 - accuracy: 0.8352 - val_loss: 0.6546 - val_accuracy: 0.7962\n"
          ],
          "name": "stdout"
        }
      ]
    },
    {
      "cell_type": "code",
      "metadata": {
        "id": "E8Ml6tNqEqNU",
        "colab_type": "code",
        "outputId": "e40c567f-2d94-486b-db4f-eb501cf86975",
        "colab": {
          "base_uri": "https://localhost:8080/",
          "height": 312
        }
      },
      "source": [
        "plot_history(history)\n",
        "\n",
        "score = model.evaluate(dynlmfcc_test_x, test_y_one_hot, batch_size=128)\n",
        "# print(\"%s: %.2f%%\" % (model.metrics_names[1], score[1]*100))\n",
        "\n",
        "pred_y = model.predict(dynlmfcc_test_x)\n",
        "save_predictions(test_y_one_hot, pred_y, 'dynlmfcc')"
      ],
      "execution_count": 50,
      "outputs": [
        {
          "output_type": "display_data",
          "data": {
            "image/png": "[encoded data removed]",
            "text/plain": [
              "<Figure size 432x288 with 2 Axes>"
            ]
          },
          "metadata": {
            "tags": [],
            "needs_background": "light"
          }
        },
        {
          "output_type": "stream",
          "text": [
            "11928/11928 [==============================] - 24s 2ms/step - loss: 0.7777 - accuracy: 0.7674\n"
          ],
          "name": "stdout"
        }
      ]
    },
    {
      "cell_type": "markdown",
      "metadata": {
        "id": "OFU0MDhLDHzl",
        "colab_type": "text"
      },
      "source": [
        "## Dynamic Filterbank features"
      ]
    },
    {
      "cell_type": "code",
      "metadata": {
        "id": "kU5EOhc3DGcS",
        "colab_type": "code",
        "colab": {}
      },
      "source": [
        "# dynmspec_train_x = np.load('/content/drive/My Drive/Lab3/dynmspec_train_x.npy', allow_pickle=True)\n",
        "# dynmspec_val_x = np.load('/content/drive/My Drive/Lab3/dynmspec_val_x.npy', allow_pickle=True)\n",
        "# dynmspec_test_x = np.load('/content/drive/My Drive/Lab3/dynmspec_test_x.npy', allow_pickle=True)\n",
        "\n",
        "loaded = np.load('/content/drive/My Drive/Lab3_features/normalized/dynmspec_norm.npz', allow_pickle=True)\n",
        "dynmspec_train_x =  loaded['dynmspec_train_x']\n",
        "dynmspec_val_x = loaded['dynmspec_val_x']\n",
        "dynmspec_test_x = loaded['dynmspec_test_x']"
      ],
      "execution_count": 0,
      "outputs": []
    },
    {
      "cell_type": "code",
      "metadata": {
        "id": "sF_VaRBTDfLo",
        "colab_type": "code",
        "colab": {}
      },
      "source": [
        "# dynmspec_train_x, dynmspec_val_x, dynmspec_test_x = normalize_features(dynmspec_train_x, dynmspec_val_x, dynmspec_test_x)"
      ],
      "execution_count": 0,
      "outputs": []
    },
    {
      "cell_type": "code",
      "metadata": {
        "id": "lIQ86hk5InJ1",
        "colab_type": "code",
        "colab": {}
      },
      "source": [
        "train_y = np.load('/content/drive/My Drive/Lab3/train_y.npy', allow_pickle=True)\n",
        "val_y = np.load('/content/drive/My Drive/Lab3/val_y.npy', allow_pickle=True)\n",
        "test_y = np.load('/content/drive/My Drive/Lab3/test_y.npy', allow_pickle=True)\n",
        "train_y_one_hot, val_y_one_hot, test_y_one_hot = normalize_targets(train_y, val_y, test_y, stateList)"
      ],
      "execution_count": 0,
      "outputs": []
    },
    {
      "cell_type": "code",
      "metadata": {
        "id": "wJOdPMc1H23L",
        "colab_type": "code",
        "colab": {
          "base_uri": "https://localhost:8080/",
          "height": 697
        },
        "outputId": "e017f957-d5dd-49eb-bc63-eaec0d75b71e"
      },
      "source": [
        "model = Sequential()\n",
        "\n",
        "# A typical value for hidden nodes is 256, but you can experiment with this to see if convergence becomes faster or slower.\n",
        "model.add(Dense(256, input_shape=(280,), activation='relu', dtype=\"float32\"))\n",
        "model.add(Dense(256, activation='relu'))\n",
        "model.add(Dense(256, activation='relu'))\n",
        "model.add(Dense(256, activation='relu'))\n",
        "\n",
        "model.add(Dense(61))\n",
        "model.add(Activation('softmax', name='posterior'))\n",
        "\n",
        "opt = Adam()\n",
        "model.compile(loss='categorical_crossentropy', optimizer=opt, metrics=['accuracy'])\n",
        "\n",
        "filepath = \"/content/drive/My Drive/Lab3/weights.{epoch:02d}-{val_accuracy:.2f}.hdf5\"\n",
        "checkpoint = ModelCheckpoint(filepath, monitor='val_accuracy', verbose=1,\n",
        "                             save_best_only=True, mode='max')\n",
        "\n",
        "history = model.fit(dynmspec_train_x, train_y_one_hot, epochs=10, batch_size=256,\n",
        "          validation_data = (dynmspec_val_x, val_y_one_hot), callbacks=checkpoint)"
      ],
      "execution_count": 54,
      "outputs": [
        {
          "output_type": "stream",
          "text": [
            "Epoch 1/10\n",
            "5241/5248 [============================>.] - ETA: 0s - loss: 0.8265 - accuracy: 0.7273\n",
            "Epoch 00001: val_accuracy improved from -inf to 0.75586, saving model to /content/drive/My Drive/Lab3/weights.01-0.76.hdf5\n",
            "5248/5248 [==============================] - 16s 3ms/step - loss: 0.8264 - accuracy: 0.7273 - val_loss: 0.7142 - val_accuracy: 0.7559\n",
            "Epoch 2/10\n",
            "5242/5248 [============================>.] - ETA: 0s - loss: 0.6574 - accuracy: 0.7770\n",
            "Epoch 00002: val_accuracy improved from 0.75586 to 0.77740, saving model to /content/drive/My Drive/Lab3/weights.02-0.78.hdf5\n",
            "5248/5248 [==============================] - 17s 3ms/step - loss: 0.6573 - accuracy: 0.7771 - val_loss: 0.6652 - val_accuracy: 0.7774\n",
            "Epoch 3/10\n",
            "5237/5248 [============================>.] - ETA: 0s - loss: 0.6092 - accuracy: 0.7917\n",
            "Epoch 00003: val_accuracy improved from 0.77740 to 0.78497, saving model to /content/drive/My Drive/Lab3/weights.03-0.78.hdf5\n",
            "5248/5248 [==============================] - 16s 3ms/step - loss: 0.6092 - accuracy: 0.7917 - val_loss: 0.6465 - val_accuracy: 0.7850\n",
            "Epoch 4/10\n",
            "5247/5248 [============================>.] - ETA: 0s - loss: 0.5803 - accuracy: 0.8008\n",
            "Epoch 00004: val_accuracy improved from 0.78497 to 0.78912, saving model to /content/drive/My Drive/Lab3/weights.04-0.79.hdf5\n",
            "5248/5248 [==============================] - 17s 3ms/step - loss: 0.5803 - accuracy: 0.8008 - val_loss: 0.6498 - val_accuracy: 0.7891\n",
            "Epoch 5/10\n",
            "5236/5248 [============================>.] - ETA: 0s - loss: 0.5601 - accuracy: 0.8065\n",
            "Epoch 00005: val_accuracy did not improve from 0.78912\n",
            "5248/5248 [==============================] - 16s 3ms/step - loss: 0.5601 - accuracy: 0.8065 - val_loss: 0.6594 - val_accuracy: 0.7865\n",
            "Epoch 6/10\n",
            "5238/5248 [============================>.] - ETA: 0s - loss: 0.5446 - accuracy: 0.8119\n",
            "Epoch 00006: val_accuracy improved from 0.78912 to 0.79397, saving model to /content/drive/My Drive/Lab3/weights.06-0.79.hdf5\n",
            "5248/5248 [==============================] - 17s 3ms/step - loss: 0.5446 - accuracy: 0.8119 - val_loss: 0.6438 - val_accuracy: 0.7940\n",
            "Epoch 7/10\n",
            "5247/5248 [============================>.] - ETA: 0s - loss: 0.5322 - accuracy: 0.8159\n",
            "Epoch 00007: val_accuracy did not improve from 0.79397\n",
            "5248/5248 [==============================] - 16s 3ms/step - loss: 0.5322 - accuracy: 0.8159 - val_loss: 0.6594 - val_accuracy: 0.7901\n",
            "Epoch 8/10\n",
            "5247/5248 [============================>.] - ETA: 0s - loss: 0.5221 - accuracy: 0.8186\n",
            "Epoch 00008: val_accuracy did not improve from 0.79397\n",
            "5248/5248 [==============================] - 16s 3ms/step - loss: 0.5221 - accuracy: 0.8186 - val_loss: 0.6626 - val_accuracy: 0.7887\n",
            "Epoch 9/10\n",
            "5248/5248 [==============================] - ETA: 0s - loss: 0.5121 - accuracy: 0.8219\n",
            "Epoch 00009: val_accuracy did not improve from 0.79397\n",
            "5248/5248 [==============================] - 16s 3ms/step - loss: 0.5121 - accuracy: 0.8219 - val_loss: 0.6673 - val_accuracy: 0.7894\n",
            "Epoch 10/10\n",
            "5247/5248 [============================>.] - ETA: 0s - loss: 0.5041 - accuracy: 0.8244\n",
            "Epoch 00010: val_accuracy did not improve from 0.79397\n",
            "5248/5248 [==============================] - 16s 3ms/step - loss: 0.5041 - accuracy: 0.8244 - val_loss: 0.6785 - val_accuracy: 0.7895\n"
          ],
          "name": "stdout"
        }
      ]
    },
    {
      "cell_type": "code",
      "metadata": {
        "id": "VwbOWG9YIKLS",
        "colab_type": "code",
        "colab": {
          "base_uri": "https://localhost:8080/",
          "height": 312
        },
        "outputId": "ea479848-bc1d-4051-f9ea-ee64cc5b1639"
      },
      "source": [
        "plot_history(history)\n",
        "\n",
        "score = model.evaluate(dynmspec_test_x, test_y_one_hot, batch_size=128)\n",
        "# print(\"%s: %.2f%%\" % (model.metrics_names[1], score[1]*100))\n",
        "\n",
        "pred_y = model.predict(dynmspec_test_x)\n",
        "save_predictions(test_y_one_hot, pred_y, 'dynmspec')"
      ],
      "execution_count": 55,
      "outputs": [
        {
          "output_type": "display_data",
          "data": {
            "image/png": "[encoded data removed]",
            "text/plain": [
              "<Figure size 432x288 with 2 Axes>"
            ]
          },
          "metadata": {
            "tags": [],
            "needs_background": "light"
          }
        },
        {
          "output_type": "stream",
          "text": [
            "11928/11928 [==============================] - 25s 2ms/step - loss: 0.8145 - accuracy: 0.7592\n"
          ],
          "name": "stdout"
        }
      ]
    },
    {
      "cell_type": "markdown",
      "metadata": {
        "id": "o1kFYk6TKWyJ",
        "colab_type": "text"
      },
      "source": [
        "# 5.1 Detailed Evaluation"
      ]
    },
    {
      "cell_type": "code",
      "metadata": {
        "id": "8LXg7KQ9kI1o",
        "colab_type": "code",
        "colab": {}
      },
      "source": [
        "import numpy as np\n",
        "from sklearn.metrics import classification_report, confusion_matrix\n",
        "import seaborn as sns\n",
        "import matplotlib.pyplot as plt  "
      ],
      "execution_count": 0,
      "outputs": []
    },
    {
      "cell_type": "code",
      "metadata": {
        "id": "A89p50mIxjrs",
        "colab_type": "code",
        "colab": {}
      },
      "source": [
        "phoneHMMs = np.load('/content/drive/My Drive/Lab3/lab2_models_all.npz', allow_pickle=True)['phoneHMMs'].item()\n",
        "phones = sorted(phoneHMMs.keys())\n",
        "nstates = {phone: phoneHMMs[phone]['means'].shape[0] for phone in phones}\n",
        "stateList = [ph + '_' + str(id) for ph in phones for id in range(nstates[ph])]"
      ],
      "execution_count": 0,
      "outputs": []
    },
    {
      "cell_type": "code",
      "metadata": {
        "id": "vd4TH0zXuM3e",
        "colab_type": "code",
        "colab": {}
      },
      "source": [
        "def load_predictions(featuretype):\n",
        "    \"\"\" Saves the prediction indexes for Y_test amd Y_pred\n",
        "    Args\n",
        "        featuretype: type of feature for which the preadictions should be load.\n",
        "    Output\n",
        "        Y_test_indexes: [N,] where N is nr of test outcomes\n",
        "        Y_pred_indexes: [N,] where N is nr of predicted outcomes\n",
        "    \"\"\"\n",
        "    with np.load('/content/drive/My Drive/Lab3/predictions/'+featuretype+'_pred.npz', allow_pickle=True) as data:\n",
        "        Y_test_indexes = data['Y_test_indexes']\n",
        "        Y_pred_indexes = data['Y_pred_indexes']\n",
        "    return Y_test_indexes, Y_pred_indexes"
      ],
      "execution_count": 0,
      "outputs": []
    },
    {
      "cell_type": "code",
      "metadata": {
        "id": "-mVYiaPgKkPI",
        "colab_type": "code",
        "colab": {
          "base_uri": "https://localhost:8080/",
          "height": 85
        },
        "outputId": "06d54cef-6766-43ec-e64b-a17b38335035"
      },
      "source": [
        "def state_level_acc(Y_test_indexes,Y_pred_indexes):\n",
        "    return sum(Y_test_indexes==Y_pred_indexes) / len(Y_test_indexes)\n",
        "\n",
        "\n",
        "featuretypes = ['lmfcc','mspec','dynlmfcc','dynmspec']\n",
        "for f in featuretypes:\n",
        "    Y_test_indexes,Y_pred_indexes=load_predictions(f)\n",
        "    frame_level_accuracy = state_level_acc(Y_test_indexes,Y_pred_indexes)\n",
        "    print(f+\" frame level accuracy: \", frame_level_accuracy)"
      ],
      "execution_count": 9,
      "outputs": [
        {
          "output_type": "stream",
          "text": [
            "lmfcc frame level accuracy:  0.5963488139638772\n",
            "mspec frame level accuracy:  0.61326130785586\n",
            "dynlmfcc frame level accuracy:  0.7673595418037286\n",
            "dynmspec frame level accuracy:  0.7591862614480291\n"
          ],
          "name": "stdout"
        }
      ]
    },
    {
      "cell_type": "code",
      "metadata": {
        "id": "HD305jQyfLaK",
        "colab_type": "code",
        "colab": {
          "base_uri": "https://localhost:8080/",
          "height": 296
        },
        "outputId": "11aeb295-5b0a-4266-b542-b8714293f8b4"
      },
      "source": [
        "Y_test_indexes,Y_pred_indexes=load_predictions('lmfcc')\n",
        "cm = confusion_matrix(Y_pred_indexes, Y_test_indexes)\n",
        "\n",
        "ax= plt.subplot()\n",
        "sns.heatmap(cm, ax = ax); #annot=True to annotate cells\n",
        "\n",
        "# labels, title and ticks\n",
        "ax.set_xlabel('Predicted labels');ax.set_ylabel('True labels'); \n",
        "ax.set_title('Confusion Matrix'); \n",
        "ax.xaxis.set_ticklabels(stateList); ax.yaxis.set_ticklabels(stateList);"
      ],
      "execution_count": 10,
      "outputs": [
        {
          "output_type": "display_data",
          "data": {
            "image/png": "[encoded data removed]",
            "text/plain": [
              "<Figure size 432x288 with 2 Axes>"
            ]
          },
          "metadata": {
            "tags": [],
            "needs_background": "light"
          }
        }
      ]
    },
    {
      "cell_type": "code",
      "metadata": {
        "id": "rpf64FWAs7oN",
        "colab_type": "code",
        "colab": {}
      },
      "source": [
        "import editdistance\n",
        "\n",
        "def state_level_edit_distance(Y_test_indexes, Y_pred_indexes):\n",
        "    # transcript pred_states (i.e. ox1 ox2 ox3 -> ox)\n",
        "    Y_pred_transcripted = []\n",
        "    i = 0\n",
        "    while True:\n",
        "        if i >= len(Y_pred_indexes): break\n",
        "        tmp = Y_pred_indexes[i]\n",
        "        while i < len(Y_pred_indexes) and tmp==Y_pred_indexes[i]:\n",
        "            i+=1\n",
        "        Y_pred_transcripted.append(tmp)\n",
        "\n",
        "    # transcript test_states\n",
        "    Y_test_transcripted = []\n",
        "    i = 0\n",
        "    while True:\n",
        "        if i >= len(Y_test_indexes): break\n",
        "        tmp = Y_test_indexes[i]\n",
        "        while i < len(Y_test_indexes) and tmp==Y_test_indexes[i]:\n",
        "            i+=1\n",
        "        Y_test_transcripted.append(tmp)\n",
        "        \n",
        "    # return editdistance.eval(Y_pred_transcripted, Y_test_transcripted)\n",
        "    return Y_test_transcripted, Y_pred_transcripted\n",
        "\n",
        "# featuretypes = ['lmfcc','mspec','dynlmfcc','dynmspec']\n",
        "# for f in featuretypes:\n",
        "#     Y_test_indexes,Y_pred_indexes = load_predictions(f)\n",
        "#     pred, trans = state_level_edit_distance(Y_test_indexes, Y_pred_indexes)\n",
        "    # edit_distance = state_level_edit_distance(Y_test_indexes, Y_pred_indexes)\n",
        "    # print(\"The state level edit distance for \"+f+\" features is:\",edit_distance)"
      ],
      "execution_count": 0,
      "outputs": []
    },
    {
      "cell_type": "code",
      "metadata": {
        "id": "z9w10XxKyCSL",
        "colab_type": "code",
        "colab": {}
      },
      "source": [
        "test_y_indexes, pred_y_indexes = load_predictions('lmfcc')\n",
        "test_y_transcript, pred_y_transcript = state_level_edit_distance(Y_test_indexes, Y_pred_indexes)\n",
        "edit_distance = editdistance.eval(test_y_transcript, pred_y_transcript)\n",
        "\n",
        "print(\"LMFCC state level edit distance:\",edit_distance)"
      ],
      "execution_count": 0,
      "outputs": []
    }
  ]
}