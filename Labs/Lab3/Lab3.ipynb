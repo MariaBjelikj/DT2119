{
  "nbformat": 4,
  "nbformat_minor": 0,
  "metadata": {
    "colab": {
      "name": "Lab3.ipynb",
      "provenance": [],
      "collapsed_sections": [],
      "include_colab_link": true
    },
    "kernelspec": {
      "name": "python3",
      "display_name": "Python 3"
    },
    "accelerator": "GPU"
  },
  "cells": [
    {
      "cell_type": "markdown",
      "metadata": {
        "id": "view-in-github",
        "colab_type": "text"
      },
      "source": [
        "<a href=\"https://colab.research.google.com/github/bjelikj/DT2119/blob/master/Labs/Lab3/Lab3.ipynb\" target=\"_parent\"><img src=\"https://colab.research.google.com/assets/colab-badge.svg\" alt=\"Open In Colab\"/></a>"
      ]
    },
    {
      "cell_type": "code",
      "metadata": {
        "id": "_300NuWNwpuZ",
        "colab_type": "code",
        "outputId": "2754bbc8-98f0-47a0-c7b8-008e73f151a9",
        "colab": {
          "base_uri": "https://localhost:8080/",
          "height": 124
        }
      },
      "source": [
        "try:\n",
        "  import google.colab\n",
        "  IN_COLAB = True\n",
        "except:\n",
        "  IN_COLAB = False\n",
        "\n",
        "if IN_COLAB:\n",
        "    from google.colab import drive\n",
        "    drive.mount('/content/drive/')"
      ],
      "execution_count": 1,
      "outputs": [
        {
          "output_type": "stream",
          "text": [
            "Go to this URL in a browser: https://accounts.google.com/o/oauth2/auth?client_id=947318989803-6bn6qk8qdgf4n4g3pfee6491hc0brc4i.apps.googleusercontent.com&redirect_uri=urn%3aietf%3awg%3aoauth%3a2.0%3aoob&response_type=code&scope=email%20https%3a%2f%2fwww.googleapis.com%2fauth%2fdocs.test%20https%3a%2f%2fwww.googleapis.com%2fauth%2fdrive%20https%3a%2f%2fwww.googleapis.com%2fauth%2fdrive.photos.readonly%20https%3a%2f%2fwww.googleapis.com%2fauth%2fpeopleapi.readonly\n",
            "\n",
            "Enter your authorization code:\n",
            "··········\n",
            "Mounted at /content/drive/\n"
          ],
          "name": "stdout"
        }
      ]
    },
    {
      "cell_type": "code",
      "metadata": {
        "id": "oP6t6vObxeDP",
        "colab_type": "code",
        "outputId": "4d51579b-9c57-42a3-b061-0e67f6a2264b",
        "colab": {
          "resources": {
            "http://localhost:8080/nbextensions/google.colab/files.js": {
              "data": "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",
              "ok": true,
              "headers": [
                [
                  "content-type",
                  "application/javascript"
                ]
              ],
              "status": 200,
              "status_text": ""
            }
          },
          "base_uri": "https://localhost:8080/",
          "height": 113
        }
      },
      "source": [
        "\"\"\"\n",
        "Necessary files:\n",
        "- lab1_proto.py\n",
        "- lab1_tools.py\n",
        "- lab2_proto.py\n",
        "- lab2_tools.py\n",
        "- lab3_proto.py\n",
        "- lab3_tools.py\n",
        "- prondict.py\n",
        "- standardization.py\n",
        "\n",
        "If not uploaded to Google Drive:\n",
        "- lab2_models_all.npz\n",
        "- lab3_example.npz\n",
        "\"\"\"\n",
        "\n",
        "\n",
        "from google.colab import files\n",
        "files.upload()"
      ],
      "execution_count": 1,
      "outputs": [
        {
          "output_type": "display_data",
          "data": {
            "text/html": [
              "\n",
              "     <input type=\"file\" id=\"files-49de5b54-2232-40d1-93c2-fdbb2c83d54a\" name=\"files[]\" multiple disabled />\n",
              "     <output id=\"result-49de5b54-2232-40d1-93c2-fdbb2c83d54a\">\n",
              "      Upload widget is only available when the cell has been executed in the\n",
              "      current browser session. Please rerun this cell to enable.\n",
              "      </output>\n",
              "      <script src=\"/nbextensions/google.colab/files.js\"></script> "
            ],
            "text/plain": [
              "<IPython.core.display.HTML object>"
            ]
          },
          "metadata": {
            "tags": []
          }
        },
        {
          "output_type": "stream",
          "text": [
            "Saving standardization.py to standardization (3).py\n"
          ],
          "name": "stdout"
        },
        {
          "output_type": "execute_result",
          "data": {
            "text/plain": [
              "{'standardization.py': b'from sklearn.preprocessing import StandardScaler\\r\\nfrom keras.utils import np_utils\\r\\n\\r\\ndef normalize_features(train_x, val_x, test_x,):\\r\\n    \"\"\"\\r\\n    Inputs:\\r\\n        train_x: train set for specified features\\r\\n        val_x: validation set for specified features\\r\\n        test_x: test set for specified features\\r\\n\\r\\n    Output\\r\\n        norm_train_x: normalized train set features\\r\\n        norm_val_x: normalized val set features\\r\\n        norm_test_x: normalized test set features\\r\\n    \"\"\"\\r\\n    scaler = StandardScaler()\\r\\n    scaler = scaler.fit(train_x)\\r\\n    norm_train_x = scaler.transform(train_x)\\r\\n    norm_val_x = scaler.transform(val_x)\\r\\n    norm_test_x = scaler.transform(test_x)\\r\\n\\r\\n    return [norm_train_x.astype(\\'float32\\'), norm_val_x.astype(\\'float32\\'), norm_test_x.astype(\\'float32\\')]\\r\\n\\r\\ndef normalize_targets(train_y, val_y, test_y, stateList):\\r\\n    \"\"\"\\r\\n    Inputs:\\r\\n        train_y: train set targets\\r\\n        val_y: validation set targets\\r\\n        test_y: test set targets\\r\\n\\r\\n    Output\\r\\n        train_y_oneHot: train set targets as a one-hot encoder\\r\\n        train_y_oneHot: train set targets as a one-hot encoder\\r\\n        train_y_oneHot: train set targets as a one-hot encoder\\r\\n    \"\"\"\\r\\n    list_targets = [train_y, val_y, test_y]\\r\\n    for dataset in list_targets:\\r\\n        for idx, state in enumerate(dataset):\\r\\n            dataset[idx] = stateList.index(state)\\r\\n\\r\\n    train_y_oneHot = np_utils.to_categorical(train_y, len(stateList))\\r\\n    val_y_oneHot = np_utils.to_categorical(val_y, len(stateList))\\r\\n    test_y_oneHot = np_utils.to_categorical(test_y, len(stateList))\\r\\n\\r\\n    return [train_y_oneHot, val_y_oneHot, test_y_oneHot]\\r\\n\\r\\n\\r\\n\\r\\n'}"
            ]
          },
          "metadata": {
            "tags": []
          },
          "execution_count": 1
        }
      ]
    },
    {
      "cell_type": "code",
      "metadata": {
        "id": "6OMZ3hM9z-L9",
        "colab_type": "code",
        "outputId": "11c6fa59-0e11-43e0-bc24-963067391b48",
        "colab": {
          "base_uri": "https://localhost:8080/",
          "height": 35
        }
      },
      "source": [
        "from lab1_proto import *\n",
        "from lab2_proto import *\n",
        "from lab3_proto import *\n",
        "from lab1_tools import *\n",
        "from lab2_tools import *\n",
        "from lab3_tools import *\n",
        "from prondict import prondict\n",
        "from standardization import *\n",
        "\n",
        "import numpy as np\n",
        "import os"
      ],
      "execution_count": 2,
      "outputs": [
        {
          "output_type": "stream",
          "text": [
            "Using TensorFlow backend.\n"
          ],
          "name": "stderr"
        }
      ]
    },
    {
      "cell_type": "markdown",
      "metadata": {
        "id": "XnP2-oIL_IEX",
        "colab_type": "text"
      },
      "source": [
        "## Check examples\n"
      ]
    },
    {
      "cell_type": "code",
      "metadata": {
        "id": "9HnRiMcwA7d5",
        "colab_type": "code",
        "colab": {}
      },
      "source": [
        "example = np.load('/content/drive/My Drive/Lab3/lab3_example.npz', allow_pickle=True)['example'].item()"
      ],
      "execution_count": 0,
      "outputs": []
    },
    {
      "cell_type": "markdown",
      "metadata": {
        "id": "dknvV5JBRyl4",
        "colab_type": "text"
      },
      "source": [
        "# 4.1 Target Class Definition"
      ]
    },
    {
      "cell_type": "code",
      "metadata": {
        "id": "Q6ScIE_E0tFj",
        "colab_type": "code",
        "outputId": "d4a88159-3507-4a53-ea95-cc7a67521629",
        "colab": {
          "base_uri": "https://localhost:8080/",
          "height": 55
        }
      },
      "source": [
        "phoneHMMs = np.load('/content/drive/My Drive/Lab3/lab2_models_all.npz', allow_pickle=True)['phoneHMMs'].item()\n",
        "phones = sorted(phoneHMMs.keys())\n",
        "nstates = {phone: phoneHMMs[phone]['means'].shape[0] for phone in phones}\n",
        "stateList = [ph + '_' + str(id) for ph in phones for id in range(nstates[ph])]\n",
        "print(stateList)"
      ],
      "execution_count": 5,
      "outputs": [
        {
          "output_type": "stream",
          "text": [
            "['ah_0', 'ah_1', 'ah_2', 'ao_0', 'ao_1', 'ao_2', 'ay_0', 'ay_1', 'ay_2', 'eh_0', 'eh_1', 'eh_2', 'ey_0', 'ey_1', 'ey_2', 'f_0', 'f_1', 'f_2', 'ih_0', 'ih_1', 'ih_2', 'iy_0', 'iy_1', 'iy_2', 'k_0', 'k_1', 'k_2', 'n_0', 'n_1', 'n_2', 'ow_0', 'ow_1', 'ow_2', 'r_0', 'r_1', 'r_2', 's_0', 's_1', 's_2', 'sil_0', 'sil_1', 'sil_2', 'sp_0', 't_0', 't_1', 't_2', 'th_0', 'th_1', 'th_2', 'uw_0', 'uw_1', 'uw_2', 'v_0', 'v_1', 'v_2', 'w_0', 'w_1', 'w_2', 'z_0', 'z_1', 'z_2']\n"
          ],
          "name": "stdout"
        }
      ]
    },
    {
      "cell_type": "markdown",
      "metadata": {
        "id": "6SCaR5JzR31i",
        "colab_type": "text"
      },
      "source": [
        "# 4.2 Forced Alignment"
      ]
    },
    {
      "cell_type": "code",
      "metadata": {
        "id": "aSLjfSKe4DKw",
        "colab_type": "code",
        "outputId": "932e0f73-4390-499d-8e33-2729013c9ee5",
        "colab": {
          "base_uri": "https://localhost:8080/",
          "height": 105
        }
      },
      "source": [
        "filename = '/content/drive/My Drive/tidigits/disc_4.1.1/tidigits/train/man/nw/z43a.wav'\n",
        "samples, samplingrate = loadAudio(filename)\n",
        "lmfcc = mfcc(samples)\n",
        "print(\"LMFCC Shape: \", lmfcc.shape)\n",
        "\n",
        "wordTrans = list(path2info(filename)[2])\n",
        "print(\"Sequence of digits: \", wordTrans)\n",
        "\n",
        "print(\"Pronunciation dictionary: \", prondict)\n",
        "\n",
        "phoneTrans = words2phones(wordTrans, prondict)\n",
        "print(\"Phone level transcription: \", phoneTrans)\n",
        "utteranceHMM = concatHMMs(phoneHMMs, phoneTrans)\n",
        "\n",
        "stateTrans = [phone + '_' + str(stateid) for phone in phoneTrans\n",
        "              for stateid in range(nstates[phone])]"
      ],
      "execution_count": 0,
      "outputs": [
        {
          "output_type": "stream",
          "text": [
            "LMFCC Shape:  (178, 13)\n",
            "Sequence of digits:  ['z', '4', '3']\n",
            "Pronunciation dictionary:  {'o': ['ow'], 'z': ['z', 'iy', 'r', 'ow'], '1': ['w', 'ah', 'n'], '2': ['t', 'uw'], '3': ['th', 'r', 'iy'], '4': ['f', 'ao', 'r'], '5': ['f', 'ay', 'v'], '6': ['s', 'ih', 'k', 's'], '7': ['s', 'eh', 'v', 'ah', 'n'], '8': ['ey', 't'], '9': ['n', 'ay', 'n']}\n",
            "Phone level transcription:  ['sil', 'z', 'iy', 'r', 'ow', 'sp', 'f', 'ao', 'r', 'sp', 'th', 'r', 'iy', 'sp', 'sil']\n"
          ],
          "name": "stdout"
        }
      ]
    },
    {
      "cell_type": "code",
      "metadata": {
        "id": "uFYkWvFo_Qjl",
        "colab_type": "code",
        "outputId": "7bf711d5-fdcd-4942-bbca-dda6d390c398",
        "colab": {
          "base_uri": "https://localhost:8080/",
          "height": 170
        }
      },
      "source": [
        "# Compare with examples\n",
        "for i in example['utteranceHMM'].keys():\n",
        "    print(compare(utteranceHMM[i], example['utteranceHMM'][i]))\n",
        "\n",
        "obsloglik = log_multivariate_normal_density_diag(lmfcc, utteranceHMM['means'], utteranceHMM['covars'])\n",
        "viterbi_loglik, viterbi_path = viterbi(obsloglik, np.log(utteranceHMM['startprob']), np.log(utteranceHMM['transmat']))\n",
        "viterbiStateTrans = [stateTrans[idx] for idx in viterbi_path.astype(np.int64)] # Forced Alignment\n",
        "\n",
        "print('Comparing obsloglik...', compare(obsloglik, example['obsloglik']))\n",
        "print('Comparing viterbiPath...', compare(viterbi_path, example['viterbiPath']))\n",
        "print('Comparing viterbiStateTrans...', np.all(viterbiStateTrans == example['viterbiStateTrans']))\n",
        "\n",
        "frames = frames2trans(viterbiStateTrans, outfilename= ''.join(path2info(filename)[2:]) + '.lab')"
      ],
      "execution_count": 0,
      "outputs": [
        {
          "output_type": "stream",
          "text": [
            "True\n",
            "True\n",
            "True\n",
            "True\n",
            "Comparing obsloglik... True\n",
            "Comparing viterbiPath... True\n",
            "Comparing viterbiStateTrans... True\n"
          ],
          "name": "stdout"
        },
        {
          "output_type": "stream",
          "text": [
            "/usr/local/lib/python3.6/dist-packages/ipykernel_launcher.py:6: RuntimeWarning: divide by zero encountered in log\n",
            "  \n"
          ],
          "name": "stderr"
        }
      ]
    },
    {
      "cell_type": "code",
      "metadata": {
        "id": "t7WOETbIRsXv",
        "colab_type": "code",
        "outputId": "84cb327d-1029-462d-a971-951bcbca5a44",
        "colab": {
          "base_uri": "https://localhost:8080/",
          "height": 328
        }
      },
      "source": [
        "from IPython.display import Image\n",
        "Image(filename='/content/drive/My Drive/Lab3/z43a_wavesurfer.png')"
      ],
      "execution_count": 0,
      "outputs": [
        {
          "output_type": "execute_result",
          "data": {
            "image/png": "[encoded data removed]",
            "text/plain": [
              "<IPython.core.display.Image object>"
            ]
          },
          "metadata": {
            "tags": []
          },
          "execution_count": 8
        }
      ]
    },
    {
      "cell_type": "markdown",
      "metadata": {
        "id": "addeh9oShjCY",
        "colab_type": "text"
      },
      "source": [
        "# 4.3 Feature Extraction"
      ]
    },
    {
      "cell_type": "code",
      "metadata": {
        "id": "dUkLiuEhhf04",
        "colab_type": "code",
        "outputId": "122329e9-61c6-4979-88e7-f3f942f95955",
        "colab": {
          "base_uri": "https://localhost:8080/",
          "height": 54
        }
      },
      "source": [
        "\"\"\"\n",
        "from tqdm import tqdm\n",
        "traindata = []\n",
        "for root, dirs, files in tqdm(os.walk('/content/drive/My Drive/tidigits/disc_4.1.1/tidigits/train'), desc='dirs'):\n",
        "  for file in files:\n",
        "    if file.endswith('.wav'):\n",
        "      filename = os.path.join(root, file)\n",
        "      samples, samplingrate = loadAudio(filename)\n",
        "      lmfcc, mspec_, targets =  extract_features_and_targets(filename)\n",
        "      traindata.append({'filename': filename, 'lmfcc': lmfcc,\n",
        "                        'mspec': mspec_, 'targets': targets})\n",
        "\n",
        "np.savez('/content/drive/My Drive/Lab3/traindata.npz', traindata=traindata)\n",
        "\"\"\""
      ],
      "execution_count": 0,
      "outputs": [
        {
          "output_type": "execute_result",
          "data": {
            "text/plain": [
              "\"\\nfrom tqdm import tqdm\\ntraindata = []\\nfor root, dirs, files in tqdm(os.walk('/content/drive/My Drive/tidigits/disc_4.1.1/tidigits/train'), desc='dirs'):\\n  for file in files:\\n    if file.endswith('.wav'):\\n      filename = os.path.join(root, file)\\n      samples, samplingrate = loadAudio(filename)\\n      lmfcc, mspec_, targets =  extract_features_and_targets(filename)\\n      traindata.append({'filename': filename, 'lmfcc': lmfcc,\\n                        'mspec': mspec_, 'targets': targets})\\n\\nnp.savez('/content/drive/My Drive/Lab3/traindata.npz', traindata=traindata)\\n\""
            ]
          },
          "metadata": {
            "tags": []
          },
          "execution_count": 10
        }
      ]
    },
    {
      "cell_type": "code",
      "metadata": {
        "id": "Z9pxdzXZbVU2",
        "colab_type": "code",
        "outputId": "3bad4aeb-dd78-44ab-d261-13b3dbe1d3c1",
        "colab": {
          "base_uri": "https://localhost:8080/",
          "height": 54
        }
      },
      "source": [
        "\"\"\"\n",
        "testdata = []\n",
        "for root, dirs, files in tqdm(os.walk('/content/drive/My Drive/tidigits/disc_4.2.1/tidigits/test'), desc='dirs'):\n",
        "  for file in files:\n",
        "    if file.endswith('.wav'):\n",
        "      filename = os.path.join(root, file)\n",
        "      samples, samplingrate = loadAudio(filename)\n",
        "      lmfcc, mspec_, targets =  extract_features_and_targets(filename)\n",
        "      testdata.append({'filename': filename, 'lmfcc': lmfcc,\n",
        "                        'mspec': mspec_, 'targets': targets})\n",
        "\n",
        "np.savez('/content/drive/My Drive/Lab3/testdata.npz', testdata=testdata)\n",
        "\"\"\""
      ],
      "execution_count": 0,
      "outputs": [
        {
          "output_type": "execute_result",
          "data": {
            "text/plain": [
              "\"\\ntestdata = []\\nfor root, dirs, files in tqdm(os.walk('/content/drive/My Drive/tidigits/disc_4.2.1/tidigits/test'), desc='dirs'):\\n  for file in files:\\n    if file.endswith('.wav'):\\n      filename = os.path.join(root, file)\\n      samples, samplingrate = loadAudio(filename)\\n      lmfcc, mspec_, targets =  extract_features_and_targets(filename)\\n      testdata.append({'filename': filename, 'lmfcc': lmfcc,\\n                        'mspec': mspec_, 'targets': targets})\\n\\nnp.savez('/content/drive/My Drive/Lab3/testdata.npz', testdata=testdata)\\n\""
            ]
          },
          "metadata": {
            "tags": []
          },
          "execution_count": 11
        }
      ]
    },
    {
      "cell_type": "markdown",
      "metadata": {
        "id": "vE1sI669iKqD",
        "colab_type": "text"
      },
      "source": [
        "# 4.4 Training and Validation Sets"
      ]
    },
    {
      "cell_type": "code",
      "metadata": {
        "id": "0gtbsZ2lce_o",
        "colab_type": "code",
        "colab": {}
      },
      "source": [
        "#train_data = np.load('/content/drive/My Drive/Lab3/traindata.npz', allow_pickle=True)['traindata']"
      ],
      "execution_count": 0,
      "outputs": []
    },
    {
      "cell_type": "code",
      "metadata": {
        "id": "cvI0fx055Yky",
        "colab_type": "code",
        "colab": {}
      },
      "source": [
        "#train_val_split(train_data)"
      ],
      "execution_count": 0,
      "outputs": []
    },
    {
      "cell_type": "markdown",
      "metadata": {
        "id": "DoY6WbNkiV84",
        "colab_type": "text"
      },
      "source": [
        "# 4.5 Acoustic Context (Dynamic Features)"
      ]
    },
    {
      "cell_type": "code",
      "metadata": {
        "id": "LirZzxUH6Ccv",
        "colab_type": "code",
        "colab": {}
      },
      "source": [
        "train_data = np.load('/content/drive/My Drive/Lab3/training_data.npy', allow_pickle=True)\n",
        "val_data = np.load('/content/drive/My Drive/Lab3/validation_data.npy', allow_pickle=True)\n",
        "test_data = np.load('/content/drive/My Drive/Lab3/testdata.npz', allow_pickle=True)['testdata']"
      ],
      "execution_count": 0,
      "outputs": []
    },
    {
      "cell_type": "code",
      "metadata": {
        "id": "uC93bO4N_0nB",
        "colab_type": "code",
        "colab": {}
      },
      "source": [
        "from tqdm import tqdm\n",
        "def create_dynamic_features(data):\n",
        "    \"\"\" create_dynamic_features: Creates dynamic features by concatinated 7 \n",
        "        lmfcc or mspec featues together for each step\n",
        "\n",
        "    Args:\n",
        "        data: list of dictionaries with keys: 'lmfcc', 'mspec' and 'targets'\n",
        "    \n",
        "    Returns:\n",
        "        lmfcc_features: [NxD_lmfcc * 7] where N = number of all concatinated samples of all words in data\n",
        "        mspec_features: [NxD_mspec * 7] where N = of all concatinated samples of all words in data\n",
        "        targets: [N,] index of state for each sample\n",
        "    \"\"\"\n",
        "    \n",
        "    D_lmfcc = data[0]['lmfcc'].shape[1]\n",
        "    D_mspec = data[0]['mspec'].shape[1]\n",
        "    N = sum([len(x['targets']) for x in data])\n",
        "\n",
        "    # Features to be returned\n",
        "    dynlmfcc_features = np.zeros((N, D_lmfcc * 7))\n",
        "    dynmspec_features = np.zeros((N, D_mspec * 7))\n",
        "    \n",
        "    # Targets to be returned\n",
        "    targets = []\n",
        "\n",
        "    # through all data\n",
        "    k = 0\n",
        "    for x in tqdm(data): \n",
        "\n",
        "        times, dim = x['lmfcc'].shape\n",
        "        # for each time step\n",
        "        for i in range(times):\n",
        "            if i < 3 or i >= times - 3:\n",
        "                dynlmfcc_features[k, :] = np.hstack(np.pad(x['lmfcc'], pad_width=((3, 3), (0, 0)), mode='reflect')[i:i+7, :])\n",
        "                dynmspec_features[k, :] = np.hstack(np.pad(x['mspec'], pad_width=((3, 3), (0, 0)), mode='reflect')[i:i+7, :])\n",
        "            else:\n",
        "                dynlmfcc_features[k,:] = np.hstack(x['lmfcc'][i-3:i+4, :])\n",
        "                dynmspec_features[k,:] = np.hstack(x['mspec'][i-3:i+4, :])\n",
        "            k +=1\n",
        "        targets = targets + x['targets']\n",
        "\n",
        "    return dynlmfcc_features, dynmspec_features, targets"
      ],
      "execution_count": 0,
      "outputs": []
    },
    {
      "cell_type": "code",
      "metadata": {
        "id": "5_pHDc-22tn2",
        "colab_type": "code",
        "colab": {}
      },
      "source": [
        "def create_non_dynamic_features(data):\n",
        "    \"\"\" Puts lmfcc and mspec features in arrays that can used for training\n",
        "    Arg\n",
        "        data: list of dictionaries with keys: 'lmfcc', 'mspec' and 'targets'\n",
        "    \n",
        "    Output\n",
        "        lmfcc_features: [NxD_lmfcc] where N is nr of all concatinated samples of all words in data\n",
        "        mspec_features: [NxD_mspec] where N is nr of all concatinated samples of all words in data\n",
        "        targets: [N,] index of state for each sample\n",
        "    \"\"\"\n",
        "    \n",
        "    D_lmfcc = data[0]['lmfcc'].shape[1]\n",
        "    D_mspec = data[0]['mspec'].shape[1]\n",
        "    N = sum([len(x['targets']) for x in data])\n",
        "\n",
        "    # Features to be returned\n",
        "    lmfcc_features = np.zeros((N,D_lmfcc))\n",
        "    mspec_features = np.zeros((N,D_mspec))\n",
        "\n",
        "    # Targets to be returned\n",
        "    targets = []\n",
        "\n",
        "    # through all data\n",
        "    k = 0\n",
        "    for x in tqdm(data): \n",
        "        times, dim = x['lmfcc'].shape\n",
        "        ## for each timestep\n",
        "        for i in range(times):\n",
        "            lmfcc_features[k,:]=x['lmfcc'][i,:]\n",
        "            mspec_features[k,:]=x['mspec'][i,:]\n",
        "            k +=1\n",
        "        targets = targets + x['targets']\n",
        "    return lmfcc_features, mspec_features, targets"
      ],
      "execution_count": 0,
      "outputs": []
    },
    {
      "cell_type": "code",
      "metadata": {
        "id": "r6rZ9PAvCAak",
        "colab_type": "code",
        "colab": {
          "base_uri": "https://localhost:8080/",
          "height": 52
        },
        "outputId": "99bc9e70-c199-44cd-856c-debe6c0f9ada"
      },
      "source": [
        "# Features & Dynamic features\n",
        "\n",
        "lmfcc_train_x, mspec_train_x, train_y = create_non_dynamic_features(train_data)\n",
        "dynlmfcc_train_x, dynmspec_train_x, train_y = create_dynamic_features(train_data)\n",
        "#np.save('/content/drive/My Drive/Lab3/lmfcc_train_x.npy', lmfcc_train_x)\n",
        "#np.save('/content/drive/My Drive/Lab3/mspec_train_x.npy', mspec_train_x)\n",
        "#np.save('/content/drive/My Drive/Lab3/dynlmfcc_train_x.npy', dynlmfcc_train_x)\n",
        "#np.save('/content/drive/My Drive/Lab3/dynmspec_train_x.npy', dynmspec_train_x)\n",
        "np.save('/content/drive/My Drive/Lab3/train_y.npy', train_y)"
      ],
      "execution_count": 6,
      "outputs": [
        {
          "output_type": "stream",
          "text": [
            "100%|██████████| 7699/7699 [00:30<00:00, 251.50it/s]\n",
            "100%|██████████| 7699/7699 [01:40<00:00, 76.36it/s]\n"
          ],
          "name": "stderr"
        }
      ]
    },
    {
      "cell_type": "code",
      "metadata": {
        "id": "b1oDWgwZ6OuB",
        "colab_type": "code",
        "colab": {}
      },
      "source": [
        "del lmfcc_train_x\n",
        "del mspec_train_x\n",
        "del train_y\n",
        "del train_data"
      ],
      "execution_count": 0,
      "outputs": []
    },
    {
      "cell_type": "code",
      "metadata": {
        "id": "I2U8Fh1_5GzK",
        "colab_type": "code",
        "colab": {
          "base_uri": "https://localhost:8080/",
          "height": 52
        },
        "outputId": "1267e707-e06a-4838-e7f0-41bb5dbcc14a"
      },
      "source": [
        "lmfcc_val_x, mspec_val_x, val_y = create_non_dynamic_features(val_data)\n",
        "dynlmfcc_val_x, dynmspec_val_x, val_y = create_dynamic_features(val_data)\n",
        "np.save('/content/drive/My Drive/Lab3/lmfcc_val_x.npy', lmfcc_val_x)\n",
        "np.save('/content/drive/My Drive/Lab3/mspec_val_x.npy', mspec_val_x)\n",
        "np.save('/content/drive/My Drive/Lab3/dynlmfcc_val_x.npy', dynlmfcc_val_x)\n",
        "np.save('/content/drive/My Drive/Lab3/dynmspec_val_x.npy', dynmspec_val_x)\n",
        "np.save('/content/drive/My Drive/Lab3/val_y.npy', val_y)"
      ],
      "execution_count": 8,
      "outputs": [
        {
          "output_type": "stream",
          "text": [
            "100%|██████████| 924/924 [00:00<00:00, 1080.66it/s]\n",
            "100%|██████████| 924/924 [00:06<00:00, 142.71it/s]\n"
          ],
          "name": "stderr"
        }
      ]
    },
    {
      "cell_type": "code",
      "metadata": {
        "id": "dBXXT9Lk5JfT",
        "colab_type": "code",
        "colab": {
          "base_uri": "https://localhost:8080/",
          "height": 52
        },
        "outputId": "c8058da6-8e3f-4fb9-c7c2-b15fd591056f"
      },
      "source": [
        "lmfcc_test_x, mspec_test_x, test_y = create_non_dynamic_features(test_data)\n",
        "dynlmfcc_test_x, dynmspec_test_x, test_y = create_dynamic_features(test_data)\n",
        "np.save('/content/drive/My Drive/Lab3/lmfcc_test_x.npy', lmfcc_test_x)\n",
        "np.save('/content/drive/My Drive/Lab3/mspec_test_x.npy', mspec_test_x)\n",
        "np.save('/content/drive/My Drive/Lab3/dynlmfcc_test_x.npy', dynlmfcc_test_x)\n",
        "np.save('/content/drive/My Drive/Lab3/dynmspec_test_x.npy', dynmspec_test_x)\n",
        "np.save('/content/drive/My Drive/Lab3/test_y.npy', test_y)"
      ],
      "execution_count": 9,
      "outputs": [
        {
          "output_type": "stream",
          "text": [
            "100%|██████████| 8700/8700 [00:44<00:00, 193.97it/s]\n",
            "100%|██████████| 8700/8700 [01:44<00:00, 82.90it/s]\n"
          ],
          "name": "stderr"
        }
      ]
    },
    {
      "cell_type": "markdown",
      "metadata": {
        "id": "W9vUqa_2jmsP",
        "colab_type": "text"
      },
      "source": [
        "# 4.6 Feature Standardisation"
      ]
    },
    {
      "cell_type": "code",
      "metadata": {
        "id": "A46_vg1X1LsI",
        "colab_type": "code",
        "colab": {}
      },
      "source": [
        "train_y_one_hot, val_y_one_hot, test_y_one_hot = normalize_targets(train_y, val_y, test_y, stateList)"
      ],
      "execution_count": 0,
      "outputs": []
    },
    {
      "cell_type": "code",
      "metadata": {
        "id": "NfwVUkpQBCYE",
        "colab_type": "code",
        "colab": {}
      },
      "source": [
        "import matplotlib.pyplot as plt\n",
        "def plot_history(history):\n",
        "\n",
        "    fig, axs = plt.subplots(2)\n",
        "    # create accuracy sublpot\n",
        "    axs[0].plot(history.history[\"accuracy\"], label=\"train accuracy\")\n",
        "    axs[0].plot(history.history[\"val_accuracy\"], label=\"test accuracy\")\n",
        "    axs[0].set_ylabel(\"Accuracy\")\n",
        "    axs[0].legend(loc=\"lower right\")\n",
        "    axs[0].set_title(\"Accuracy eval\")\n",
        "    # create error sublpot\n",
        "    axs[1].plot(history.history[\"loss\"], label=\"train error\")\n",
        "    axs[1].plot(history.history[\"val_loss\"], label=\"validation error\")\n",
        "    axs[1].set_ylabel(\"Error\")\n",
        "    axs[1].set_xlabel(\"Epoch\")\n",
        "    axs[1].legend(loc=\"upper right\")\n",
        "    axs[1].set_title(\"Error eval\")\n",
        "    plt.show()"
      ],
      "execution_count": 0,
      "outputs": []
    },
    {
      "cell_type": "markdown",
      "metadata": {
        "id": "Zydanardb6-m",
        "colab_type": "text"
      },
      "source": [
        "#5 Phoneme Recognition with Deep Neural Networks"
      ]
    },
    {
      "cell_type": "code",
      "metadata": {
        "id": "Mv6Ki4JRcAn6",
        "colab_type": "code",
        "colab": {}
      },
      "source": [
        "from tensorflow.keras.models import Sequential\n",
        "from tensorflow.keras.layers import Dense, Activation\n",
        "from tensorflow.keras.optimizers import Adam\n",
        "from tensorflow.keras.callbacks import ModelCheckpoint\n",
        "from sklearn.metrics import classification_report, confusion_matrix\n",
        "from standardization import *\n",
        "import numpy as np"
      ],
      "execution_count": 0,
      "outputs": []
    },
    {
      "cell_type": "markdown",
      "metadata": {
        "id": "M-fDyq6cdh7h",
        "colab_type": "text"
      },
      "source": [
        "## lmfcc features"
      ]
    },
    {
      "cell_type": "code",
      "metadata": {
        "id": "Q71F3gqNdU7O",
        "colab_type": "code",
        "colab": {}
      },
      "source": [
        "lmfcc_train_x = np.load('/content/drive/My Drive/Lab3/lmfcc_train_x.npy', allow_pickle=True)\n",
        "train_y = np.load('/content/drive/My Drive/Lab3/train_y.npy', allow_pickle=True)\n",
        "\n",
        "lmfcc_val_x = np.load('/content/drive/My Drive/Lab3/lmfcc_val_x.npy', allow_pickle=True)\n",
        "val_y = np.load('/content/drive/My Drive/Lab3/val_y.npy', allow_pickle=True)\n",
        "\n",
        "lmfcc_test_x = np.load('/content/drive/My Drive/Lab3/lmfcc_test_x.npy', allow_pickle=True)\n",
        "test_y = np.load('/content/drive/My Drive/Lab3/test_y.npy', allow_pickle=True)"
      ],
      "execution_count": 0,
      "outputs": []
    },
    {
      "cell_type": "code",
      "metadata": {
        "id": "bbm0-Oh-14si",
        "colab_type": "code",
        "colab": {}
      },
      "source": [
        "# Normalize \n",
        "lmfcc_train_x, lmfcc_val_x, lmfcc_test_x = normalize_features(lmfcc_train_x, lmfcc_val_x, lmfcc_test_x)"
      ],
      "execution_count": 0,
      "outputs": []
    },
    {
      "cell_type": "code",
      "metadata": {
        "id": "fhnPZ9lN-LAQ",
        "colab_type": "code",
        "colab": {}
      },
      "source": [
        "train_y_one_hot, val_y_one_hot, test_y_one_hot = normalize_targets(train_y, val_y, test_y, stateList)"
      ],
      "execution_count": 0,
      "outputs": []
    },
    {
      "cell_type": "code",
      "metadata": {
        "id": "biykBz3Pc27E",
        "colab_type": "code",
        "colab": {
          "base_uri": "https://localhost:8080/",
          "height": 364
        },
        "outputId": "a08bc449-dc62-45a5-923a-7643eb531290"
      },
      "source": [
        "model = Sequential()\n",
        "\n",
        "# A typical value for hidden nodes is 256, but you can experiment with this to see if convergence becomes faster or slower.\n",
        "model.add(Dense(256, input_shape=(13,), activation='relu', dtype=\"float32\"))\n",
        "model.add(Dense(256, activation='relu'))\n",
        "model.add(Dense(256, activation='relu'))\n",
        "model.add(Dense(256, activation='relu'))\n",
        "\n",
        "model.add(Dense(61))\n",
        "model.add(Activation('softmax', name='posterior'))\n",
        "\n",
        "opt = Adam()\n",
        "model.compile(loss='categorical_crossentropy', optimizer=opt, metrics=['accuracy'])\n",
        "model.summary()"
      ],
      "execution_count": 10,
      "outputs": [
        {
          "output_type": "stream",
          "text": [
            "Model: \"sequential\"\n",
            "_________________________________________________________________\n",
            "Layer (type)                 Output Shape              Param #   \n",
            "=================================================================\n",
            "dense (Dense)                (None, 256)               3584      \n",
            "_________________________________________________________________\n",
            "dense_1 (Dense)              (None, 256)               65792     \n",
            "_________________________________________________________________\n",
            "dense_2 (Dense)              (None, 256)               65792     \n",
            "_________________________________________________________________\n",
            "dense_3 (Dense)              (None, 256)               65792     \n",
            "_________________________________________________________________\n",
            "dense_4 (Dense)              (None, 61)                15677     \n",
            "_________________________________________________________________\n",
            "posterior (Activation)       (None, 61)                0         \n",
            "=================================================================\n",
            "Total params: 216,637\n",
            "Trainable params: 216,637\n",
            "Non-trainable params: 0\n",
            "_________________________________________________________________\n"
          ],
          "name": "stdout"
        }
      ]
    },
    {
      "cell_type": "code",
      "metadata": {
        "id": "SwxmmvqheVg_",
        "colab_type": "code",
        "colab": {
          "base_uri": "https://localhost:8080/",
          "height": 711
        },
        "outputId": "fbeb11d4-137c-4483-b785-cfaaff16d4bc"
      },
      "source": [
        "filepath = \"/content/drive/My Drive/Lab3/weights.{epoch:02d}-{val_accuracy:.2f}.hdf5\"\n",
        "checkpoint = ModelCheckpoint(filepath, monitor='val_accuracy', verbose=1,\n",
        "                             save_best_only=True, mode='max')\n",
        "\n",
        "history = model.fit(lmfcc_train_x, train_y_one_hot, epochs=10, batch_size=256,\n",
        "          validation_data = (lmfcc_val_x, val_y_one_hot), callbacks=checkpoint)"
      ],
      "execution_count": 13,
      "outputs": [
        {
          "output_type": "stream",
          "text": [
            "Epoch 1/10\n",
            "5238/5248 [============================>.] - ETA: 0s - loss: 0.9936 - accuracy: 0.6828\n",
            "Epoch 00001: val_accuracy improved from -inf to 0.62748, saving model to /content/drive/My Drive/Lab3/weights.01-0.63.hdf5\n",
            "5248/5248 [==============================] - 26s 5ms/step - loss: 0.9936 - accuracy: 0.6828 - val_loss: 1.2133 - val_accuracy: 0.6275\n",
            "Epoch 2/10\n",
            "5239/5248 [============================>.] - ETA: 0s - loss: 0.9877 - accuracy: 0.6845\n",
            "Epoch 00002: val_accuracy did not improve from 0.62748\n",
            "5248/5248 [==============================] - 24s 5ms/step - loss: 0.9876 - accuracy: 0.6845 - val_loss: 1.2280 - val_accuracy: 0.6260\n",
            "Epoch 3/10\n",
            "5239/5248 [============================>.] - ETA: 0s - loss: 0.9819 - accuracy: 0.6862\n",
            "Epoch 00003: val_accuracy did not improve from 0.62748\n",
            "5248/5248 [==============================] - 24s 5ms/step - loss: 0.9818 - accuracy: 0.6862 - val_loss: 1.2293 - val_accuracy: 0.6259\n",
            "Epoch 4/10\n",
            "5248/5248 [==============================] - ETA: 0s - loss: 0.9768 - accuracy: 0.6874\n",
            "Epoch 00004: val_accuracy did not improve from 0.62748\n",
            "5248/5248 [==============================] - 24s 5ms/step - loss: 0.9768 - accuracy: 0.6874 - val_loss: 1.2392 - val_accuracy: 0.6267\n",
            "Epoch 5/10\n",
            "5237/5248 [============================>.] - ETA: 0s - loss: 0.9727 - accuracy: 0.6888\n",
            "Epoch 00005: val_accuracy improved from 0.62748 to 0.62866, saving model to /content/drive/My Drive/Lab3/weights.05-0.63.hdf5\n",
            "5248/5248 [==============================] - 25s 5ms/step - loss: 0.9726 - accuracy: 0.6889 - val_loss: 1.2361 - val_accuracy: 0.6287\n",
            "Epoch 6/10\n",
            "5241/5248 [============================>.] - ETA: 0s - loss: 0.9684 - accuracy: 0.6899\n",
            "Epoch 00006: val_accuracy did not improve from 0.62866\n",
            "5248/5248 [==============================] - 24s 5ms/step - loss: 0.9684 - accuracy: 0.6899 - val_loss: 1.2504 - val_accuracy: 0.6254\n",
            "Epoch 7/10\n",
            "5245/5248 [============================>.] - ETA: 0s - loss: 0.9642 - accuracy: 0.6917\n",
            "Epoch 00007: val_accuracy did not improve from 0.62866\n",
            "5248/5248 [==============================] - 27s 5ms/step - loss: 0.9642 - accuracy: 0.6917 - val_loss: 1.2600 - val_accuracy: 0.6226\n",
            "Epoch 8/10\n",
            "5243/5248 [============================>.] - ETA: 0s - loss: 0.9607 - accuracy: 0.6923\n",
            "Epoch 00008: val_accuracy did not improve from 0.62866\n",
            "5248/5248 [==============================] - 37s 7ms/step - loss: 0.9607 - accuracy: 0.6923 - val_loss: 1.2754 - val_accuracy: 0.6212\n",
            "Epoch 9/10\n",
            "5248/5248 [==============================] - ETA: 0s - loss: 0.9568 - accuracy: 0.6938\n",
            "Epoch 00009: val_accuracy did not improve from 0.62866\n",
            "5248/5248 [==============================] - 35s 7ms/step - loss: 0.9568 - accuracy: 0.6938 - val_loss: 1.2711 - val_accuracy: 0.6236\n",
            "Epoch 10/10\n",
            "5242/5248 [============================>.] - ETA: 0s - loss: 0.9540 - accuracy: 0.6945\n",
            "Epoch 00010: val_accuracy did not improve from 0.62866\n",
            "5248/5248 [==============================] - 36s 7ms/step - loss: 0.9539 - accuracy: 0.6946 - val_loss: 1.2876 - val_accuracy: 0.6202\n"
          ],
          "name": "stdout"
        }
      ]
    },
    {
      "cell_type": "code",
      "metadata": {
        "id": "POikTpIoBORN",
        "colab_type": "code",
        "colab": {
          "base_uri": "https://localhost:8080/",
          "height": 295
        },
        "outputId": "d088156e-2df2-4e57-ece7-a9a1a329f8cb"
      },
      "source": [
        "plot_history(history)"
      ],
      "execution_count": 14,
      "outputs": [
        {
          "output_type": "display_data",
          "data": {
            "image/png": "[encoded data removed]",
            "text/plain": [
              "<Figure size 432x288 with 2 Axes>"
            ]
          },
          "metadata": {
            "tags": [],
            "needs_background": "light"
          }
        }
      ]
    },
    {
      "cell_type": "markdown",
      "metadata": {
        "id": "CunW57kkABSO",
        "colab_type": "text"
      },
      "source": [
        "## Filterbank features"
      ]
    },
    {
      "cell_type": "code",
      "metadata": {
        "id": "Ko49fY_0__qU",
        "colab_type": "code",
        "colab": {}
      },
      "source": [
        "# Load featyres\n",
        "mspec_train_x = np.load('/content/drive/My Drive/Lab3/mspec_train_x.npy', allow_pickle=True)\n",
        "mspec_val_x = np.load('/content/drive/My Drive/Lab3/mspec_val_x.npy', allow_pickle=True)\n",
        "mspec_test_x = np.load('/content/drive/My Drive/Lab3/mspec_test_x.npy', allow_pickle=True)"
      ],
      "execution_count": 0,
      "outputs": []
    },
    {
      "cell_type": "code",
      "metadata": {
        "id": "B9pNnabLAXkT",
        "colab_type": "code",
        "colab": {}
      },
      "source": [
        "# Normalize \n",
        "mspec_train_x, mspec_val_x, mspec_test_x = normalize_features(mspec_train_x, mspec_val_x, mspec_test_x)"
      ],
      "execution_count": 0,
      "outputs": []
    },
    {
      "cell_type": "code",
      "metadata": {
        "id": "EY6NsD9qBr0u",
        "colab_type": "code",
        "colab": {
          "base_uri": "https://localhost:8080/",
          "height": 711
        },
        "outputId": "82432684-6d3b-41ff-bf11-f5748683d627"
      },
      "source": [
        "model = Sequential()\n",
        "\n",
        "# A typical value for hidden nodes is 256, but you can experiment with this to see if convergence becomes faster or slower.\n",
        "model.add(Dense(256, input_shape=(40,), activation='relu', dtype=\"float32\"))\n",
        "model.add(Dense(256, activation='relu'))\n",
        "model.add(Dense(256, activation='relu'))\n",
        "model.add(Dense(256, activation='relu'))\n",
        "\n",
        "model.add(Dense(61))\n",
        "model.add(Activation('softmax', name='posterior'))\n",
        "\n",
        "opt = Adam()\n",
        "model.compile(loss='categorical_crossentropy', optimizer=opt, metrics=['accuracy'])\n",
        "\n",
        "filepath = \"/content/drive/My Drive/Lab3/weights.{epoch:02d}-{val_accuracy:.2f}.hdf5\"\n",
        "checkpoint = ModelCheckpoint(filepath, monitor='val_accuracy', verbose=1,\n",
        "                             save_best_only=True, mode='max')\n",
        "\n",
        "history = model.fit(mspec_train_x, train_y_one_hot, epochs=10, batch_size=256,\n",
        "          validation_data = (mspec_val_x, val_y_one_hot), callbacks=checkpoint)"
      ],
      "execution_count": 20,
      "outputs": [
        {
          "output_type": "stream",
          "text": [
            "Epoch 1/10\n",
            "5242/5248 [============================>.] - ETA: 0s - loss: 1.2606 - accuracy: 0.6062\n",
            "Epoch 00001: val_accuracy improved from -inf to 0.63134, saving model to /content/drive/My Drive/Lab3/weights.01-0.63.hdf5\n",
            "5248/5248 [==============================] - 39s 7ms/step - loss: 1.2604 - accuracy: 0.6063 - val_loss: 1.1638 - val_accuracy: 0.6313\n",
            "Epoch 2/10\n",
            "5247/5248 [============================>.] - ETA: 0s - loss: 1.1051 - accuracy: 0.6491\n",
            "Epoch 00002: val_accuracy improved from 0.63134 to 0.64489, saving model to /content/drive/My Drive/Lab3/weights.02-0.64.hdf5\n",
            "5248/5248 [==============================] - 33s 6ms/step - loss: 1.1051 - accuracy: 0.6491 - val_loss: 1.1216 - val_accuracy: 0.6449\n",
            "Epoch 3/10\n",
            "5239/5248 [============================>.] - ETA: 0s - loss: 1.0529 - accuracy: 0.6648\n",
            "Epoch 00003: val_accuracy did not improve from 0.64489\n",
            "5248/5248 [==============================] - 32s 6ms/step - loss: 1.0529 - accuracy: 0.6647 - val_loss: 1.1164 - val_accuracy: 0.6446\n",
            "Epoch 4/10\n",
            "5243/5248 [============================>.] - ETA: 0s - loss: 1.0214 - accuracy: 0.6745\n",
            "Epoch 00004: val_accuracy did not improve from 0.64489\n",
            "5248/5248 [==============================] - 31s 6ms/step - loss: 1.0214 - accuracy: 0.6745 - val_loss: 1.1337 - val_accuracy: 0.6448\n",
            "Epoch 5/10\n",
            "5242/5248 [============================>.] - ETA: 0s - loss: 0.9985 - accuracy: 0.6811\n",
            "Epoch 00005: val_accuracy did not improve from 0.64489\n",
            "5248/5248 [==============================] - 33s 6ms/step - loss: 0.9985 - accuracy: 0.6811 - val_loss: 1.1548 - val_accuracy: 0.6426\n",
            "Epoch 6/10\n",
            "5242/5248 [============================>.] - ETA: 0s - loss: 0.9801 - accuracy: 0.6869\n",
            "Epoch 00006: val_accuracy did not improve from 0.64489\n",
            "5248/5248 [==============================] - 25s 5ms/step - loss: 0.9801 - accuracy: 0.6869 - val_loss: 1.1502 - val_accuracy: 0.6436\n",
            "Epoch 7/10\n",
            "5243/5248 [============================>.] - ETA: 0s - loss: 0.9655 - accuracy: 0.6912\n",
            "Epoch 00007: val_accuracy did not improve from 0.64489\n",
            "5248/5248 [==============================] - 25s 5ms/step - loss: 0.9655 - accuracy: 0.6911 - val_loss: 1.1556 - val_accuracy: 0.6418\n",
            "Epoch 8/10\n",
            "5242/5248 [============================>.] - ETA: 0s - loss: 0.9532 - accuracy: 0.6949\n",
            "Epoch 00008: val_accuracy improved from 0.64489 to 0.64701, saving model to /content/drive/My Drive/Lab3/weights.08-0.65.hdf5\n",
            "5248/5248 [==============================] - 25s 5ms/step - loss: 0.9532 - accuracy: 0.6949 - val_loss: 1.1438 - val_accuracy: 0.6470\n",
            "Epoch 9/10\n",
            "5247/5248 [============================>.] - ETA: 0s - loss: 0.9423 - accuracy: 0.6984\n",
            "Epoch 00009: val_accuracy did not improve from 0.64701\n",
            "5248/5248 [==============================] - 25s 5ms/step - loss: 0.9423 - accuracy: 0.6984 - val_loss: 1.1616 - val_accuracy: 0.6443\n",
            "Epoch 10/10\n",
            "5241/5248 [============================>.] - ETA: 0s - loss: 0.9335 - accuracy: 0.7009\n",
            "Epoch 00010: val_accuracy did not improve from 0.64701\n",
            "5248/5248 [==============================] - 31s 6ms/step - loss: 0.9335 - accuracy: 0.7010 - val_loss: 1.1819 - val_accuracy: 0.6423\n"
          ],
          "name": "stdout"
        }
      ]
    },
    {
      "cell_type": "code",
      "metadata": {
        "id": "n6B9e12VBTIr",
        "colab_type": "code",
        "colab": {
          "base_uri": "https://localhost:8080/",
          "height": 295
        },
        "outputId": "eaa867f8-abd4-4cc8-c39a-00490b5bd59a"
      },
      "source": [
        "plot_history(history)"
      ],
      "execution_count": 21,
      "outputs": [
        {
          "output_type": "display_data",
          "data": {
            "image/png": "[encoded data removed]",
            "text/plain": [
              "<Figure size 432x288 with 2 Axes>"
            ]
          },
          "metadata": {
            "tags": [],
            "needs_background": "light"
          }
        }
      ]
    },
    {
      "cell_type": "markdown",
      "metadata": {
        "id": "WmdCzFSPCCED",
        "colab_type": "text"
      },
      "source": [
        "## dynamic lmfcc features"
      ]
    },
    {
      "cell_type": "code",
      "metadata": {
        "id": "n7lok1IWB8MS",
        "colab_type": "code",
        "colab": {}
      },
      "source": [
        "dynlmfcc_train_x = np.load('/content/drive/My Drive/Lab3/dynlmfcc_train_x.npy', allow_pickle=True)\n",
        "dynlmfcc_val_x = np.load('/content/drive/My Drive/Lab3/dynlmfcc_val_x.npy', allow_pickle=True)\n",
        "dynlmfcc_test_x = np.load('/content/drive/My Drive/Lab3/dynlmfcc_test_x.npy', allow_pickle=True)"
      ],
      "execution_count": 0,
      "outputs": []
    },
    {
      "cell_type": "code",
      "metadata": {
        "id": "5HAvVz59Dcbw",
        "colab_type": "code",
        "colab": {}
      },
      "source": [
        "dynlmfcc_train_x, dynlmfcc_val_x, dynlmfcc_test_x = normalize_features(dynlmfcc_train_x, dynlmfcc_val_x, dynlmfcc_test_x)"
      ],
      "execution_count": 0,
      "outputs": []
    },
    {
      "cell_type": "code",
      "metadata": {
        "id": "DmJp6Rq_EK9r",
        "colab_type": "code",
        "colab": {
          "base_uri": "https://localhost:8080/",
          "height": 711
        },
        "outputId": "01883de6-a60b-4fae-d84d-543d6c9122d8"
      },
      "source": [
        "model = Sequential()\n",
        "\n",
        "# A typical value for hidden nodes is 256, but you can experiment with this to see if convergence becomes faster or slower.\n",
        "model.add(Dense(256, input_shape=(91,), activation='relu', dtype=\"float32\"))\n",
        "model.add(Dense(256, activation='relu'))\n",
        "model.add(Dense(256, activation='relu'))\n",
        "model.add(Dense(256, activation='relu'))\n",
        "\n",
        "model.add(Dense(61))\n",
        "model.add(Activation('softmax', name='posterior'))\n",
        "\n",
        "opt = Adam()\n",
        "model.compile(loss='categorical_crossentropy', optimizer=opt, metrics=['accuracy'])\n",
        "\n",
        "filepath = \"/content/drive/My Drive/Lab3/weights.{epoch:02d}-{val_accuracy:.2f}.hdf5\"\n",
        "checkpoint = ModelCheckpoint(filepath, monitor='val_accuracy', verbose=1,\n",
        "                             save_best_only=True, mode='max')\n",
        "\n",
        "history = model.fit(dynlmfcc_train_x, train_y_one_hot, epochs=10, batch_size=256,\n",
        "          validation_data = (dynlmfcc_val_x, val_y_one_hot), callbacks=checkpoint)"
      ],
      "execution_count": 25,
      "outputs": [
        {
          "output_type": "stream",
          "text": [
            "Epoch 1/10\n",
            "5246/5248 [============================>.] - ETA: 0s - loss: 0.7867 - accuracy: 0.7416\n",
            "Epoch 00001: val_accuracy improved from -inf to 0.77579, saving model to /content/drive/My Drive/Lab3/weights.01-0.78.hdf5\n",
            "5248/5248 [==============================] - 26s 5ms/step - loss: 0.7867 - accuracy: 0.7416 - val_loss: 0.6719 - val_accuracy: 0.7758\n",
            "Epoch 2/10\n",
            "5246/5248 [============================>.] - ETA: 0s - loss: 0.6212 - accuracy: 0.7886\n",
            "Epoch 00002: val_accuracy improved from 0.77579 to 0.79052, saving model to /content/drive/My Drive/Lab3/weights.02-0.79.hdf5\n",
            "5248/5248 [==============================] - 26s 5ms/step - loss: 0.6212 - accuracy: 0.7886 - val_loss: 0.6297 - val_accuracy: 0.7905\n",
            "Epoch 3/10\n",
            "5242/5248 [============================>.] - ETA: 0s - loss: 0.5719 - accuracy: 0.8031\n",
            "Epoch 00003: val_accuracy improved from 0.79052 to 0.79104, saving model to /content/drive/My Drive/Lab3/weights.03-0.79.hdf5\n",
            "5248/5248 [==============================] - 26s 5ms/step - loss: 0.5718 - accuracy: 0.8031 - val_loss: 0.6259 - val_accuracy: 0.7910\n",
            "Epoch 4/10\n",
            "5247/5248 [============================>.] - ETA: 0s - loss: 0.5431 - accuracy: 0.8117\n",
            "Epoch 00004: val_accuracy improved from 0.79104 to 0.79993, saving model to /content/drive/My Drive/Lab3/weights.04-0.80.hdf5\n",
            "5248/5248 [==============================] - 27s 5ms/step - loss: 0.5431 - accuracy: 0.8117 - val_loss: 0.6095 - val_accuracy: 0.7999\n",
            "Epoch 5/10\n",
            "5242/5248 [============================>.] - ETA: 0s - loss: 0.5230 - accuracy: 0.8179\n",
            "Epoch 00005: val_accuracy did not improve from 0.79993\n",
            "5248/5248 [==============================] - 31s 6ms/step - loss: 0.5231 - accuracy: 0.8179 - val_loss: 0.6142 - val_accuracy: 0.7999\n",
            "Epoch 6/10\n",
            "5243/5248 [============================>.] - ETA: 0s - loss: 0.5073 - accuracy: 0.8231\n",
            "Epoch 00006: val_accuracy did not improve from 0.79993\n",
            "5248/5248 [==============================] - 32s 6ms/step - loss: 0.5073 - accuracy: 0.8231 - val_loss: 0.6223 - val_accuracy: 0.7996\n",
            "Epoch 7/10\n",
            "5247/5248 [============================>.] - ETA: 0s - loss: 0.4947 - accuracy: 0.8272\n",
            "Epoch 00007: val_accuracy improved from 0.79993 to 0.79999, saving model to /content/drive/My Drive/Lab3/weights.07-0.80.hdf5\n",
            "5248/5248 [==============================] - 33s 6ms/step - loss: 0.4947 - accuracy: 0.8272 - val_loss: 0.6235 - val_accuracy: 0.8000\n",
            "Epoch 8/10\n",
            "5239/5248 [============================>.] - ETA: 0s - loss: 0.4846 - accuracy: 0.8303\n",
            "Epoch 00008: val_accuracy did not improve from 0.79999\n",
            "5248/5248 [==============================] - 32s 6ms/step - loss: 0.4846 - accuracy: 0.8303 - val_loss: 0.6372 - val_accuracy: 0.7972\n",
            "Epoch 9/10\n",
            "5247/5248 [============================>.] - ETA: 0s - loss: 0.4760 - accuracy: 0.8326\n",
            "Epoch 00009: val_accuracy improved from 0.79999 to 0.80231, saving model to /content/drive/My Drive/Lab3/weights.09-0.80.hdf5\n",
            "5248/5248 [==============================] - 34s 6ms/step - loss: 0.4760 - accuracy: 0.8326 - val_loss: 0.6207 - val_accuracy: 0.8023\n",
            "Epoch 10/10\n",
            "5247/5248 [============================>.] - ETA: 0s - loss: 0.4682 - accuracy: 0.8353\n",
            "Epoch 00010: val_accuracy did not improve from 0.80231\n",
            "5248/5248 [==============================] - 34s 7ms/step - loss: 0.4682 - accuracy: 0.8353 - val_loss: 0.6414 - val_accuracy: 0.8001\n"
          ],
          "name": "stdout"
        }
      ]
    },
    {
      "cell_type": "code",
      "metadata": {
        "id": "E8Ml6tNqEqNU",
        "colab_type": "code",
        "colab": {
          "base_uri": "https://localhost:8080/",
          "height": 295
        },
        "outputId": "3b84025a-9040-48bd-87b6-ca58b7124e15"
      },
      "source": [
        "plot_history(history)"
      ],
      "execution_count": 26,
      "outputs": [
        {
          "output_type": "display_data",
          "data": {
            "image/png": "[encoded data removed]",
            "text/plain": [
              "<Figure size 432x288 with 2 Axes>"
            ]
          },
          "metadata": {
            "tags": [],
            "needs_background": "light"
          }
        }
      ]
    },
    {
      "cell_type": "markdown",
      "metadata": {
        "id": "OFU0MDhLDHzl",
        "colab_type": "text"
      },
      "source": [
        "## dynamic filterbank features"
      ]
    },
    {
      "cell_type": "code",
      "metadata": {
        "id": "kU5EOhc3DGcS",
        "colab_type": "code",
        "colab": {}
      },
      "source": [
        "dynmspec_train_x = np.load('/content/drive/My Drive/Lab3/dynmspec_train_x.npy', allow_pickle=True)\n",
        "dynmspec_val_x = np.load('/content/drive/My Drive/Lab3/dynmspec_val_x.npy', allow_pickle=True)\n",
        "dynmspec_test_x = np.load('/content/drive/My Drive/Lab3/dynmspec_test_x.npy', allow_pickle=True)"
      ],
      "execution_count": 0,
      "outputs": []
    },
    {
      "cell_type": "code",
      "metadata": {
        "id": "sF_VaRBTDfLo",
        "colab_type": "code",
        "colab": {}
      },
      "source": [
        "dynmspec_train_x, dynmspec_val_x, dynmspec_test_x = normalize_features(dynmspec_train_x, dynmspec_val_x, dynmspec_test_x)"
      ],
      "execution_count": 0,
      "outputs": []
    },
    {
      "cell_type": "code",
      "metadata": {
        "id": "lIQ86hk5InJ1",
        "colab_type": "code",
        "colab": {}
      },
      "source": [
        "train_y = np.load('/content/drive/My Drive/Lab3/train_y.npy', allow_pickle=True)\n",
        "val_y = np.load('/content/drive/My Drive/Lab3/val_y.npy', allow_pickle=True)\n",
        "test_y = np.load('/content/drive/My Drive/Lab3/test_y.npy', allow_pickle=True)\n",
        "train_y_one_hot, val_y_one_hot, test_y_one_hot = normalize_targets(train_y, val_y, test_y, stateList)"
      ],
      "execution_count": 0,
      "outputs": []
    },
    {
      "cell_type": "code",
      "metadata": {
        "id": "wJOdPMc1H23L",
        "colab_type": "code",
        "colab": {}
      },
      "source": [
        "model = Sequential()\n",
        "\n",
        "# A typical value for hidden nodes is 256, but you can experiment with this to see if convergence becomes faster or slower.\n",
        "model.add(Dense(256, input_shape=(91,), activation='relu', dtype=\"float32\"))\n",
        "model.add(Dense(256, activation='relu'))\n",
        "model.add(Dense(256, activation='relu'))\n",
        "model.add(Dense(256, activation='relu'))\n",
        "\n",
        "model.add(Dense(61))\n",
        "model.add(Activation('softmax', name='posterior'))\n",
        "\n",
        "opt = Adam()\n",
        "model.compile(loss='categorical_crossentropy', optimizer=opt, metrics=['accuracy'])\n",
        "\n",
        "filepath = \"/content/drive/My Drive/Lab3/weights.{epoch:02d}-{val_accuracy:.2f}.hdf5\"\n",
        "checkpoint = ModelCheckpoint(filepath, monitor='val_accuracy', verbose=1,\n",
        "                             save_best_only=True, mode='max')\n",
        "\n",
        "history = model.fit(dynmspec_train_x, train_y_one_hot, epochs=10, batch_size=256,\n",
        "          validation_data = (dynmspec_val_x, val_y_one_hot), callbacks=checkpoint)"
      ],
      "execution_count": 0,
      "outputs": []
    },
    {
      "cell_type": "code",
      "metadata": {
        "id": "VwbOWG9YIKLS",
        "colab_type": "code",
        "colab": {}
      },
      "source": [
        "plot_history(history)"
      ],
      "execution_count": 0,
      "outputs": []
    },
    {
      "cell_type": "markdown",
      "metadata": {
        "id": "o1kFYk6TKWyJ",
        "colab_type": "text"
      },
      "source": [
        "# 5.1 Detailed Evaluation"
      ]
    },
    {
      "cell_type": "code",
      "metadata": {
        "id": "-mVYiaPgKkPI",
        "colab_type": "code",
        "colab": {}
      },
      "source": [
        "def state_level_acc(Y_test_indexes,Y_pred_indexes):\n",
        "    return sum(Y_test_indexes==Y_pred_indexes) / len(Y_test_indexes)\n",
        "\n",
        "\n",
        "featuretypes = ['lmfcc_dyn','mspec_dyn','lmfcc_non_dyn','mspec_non_dyn']\n",
        "for f in featuretypes:\n",
        "    Y_test_indexes,Y_pred_indexes=load_predictions(f)\n",
        "    frame_level_accuracy = state_level_acc(Y_test_indexes,Y_pred_indexes)\n",
        "    print(\"The frame level accuracy for \"+f+\" features is:\", frame_level_accuracy)"
      ],
      "execution_count": 0,
      "outputs": []
    },
    {
      "cell_type": "code",
      "metadata": {
        "id": "HD305jQyfLaK",
        "colab_type": "code",
        "colab": {}
      },
      "source": [
        "print(\"Evaluating model on test data...\")\n",
        "results = model.evaluate(lmfcc_test_x, test_y_one_hot)\n",
        "print(\"Test loss:\", results[0])\n",
        "print(\"Test acc:\", results[1])\n",
        "\n",
        "\n",
        "test_y_pred = np.argmax(model.predict(test_y), axis=1)\n",
        "\n",
        "print(\"Confusion matrix:\")\n",
        "print(confusion_matrix(test_y, test_y_pred))\n",
        "print(\"Classification reprot:\")\n",
        "print(classification_report(test_y, test_y_pred, digits=61))"
      ],
      "execution_count": 0,
      "outputs": []
    }
  ]
}