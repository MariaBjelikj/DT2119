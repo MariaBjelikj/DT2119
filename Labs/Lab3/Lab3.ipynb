{
  "nbformat": 4,
  "nbformat_minor": 0,
  "metadata": {
    "colab": {
      "name": "Lab3.ipynb",
      "provenance": [],
      "collapsed_sections": [],
      "include_colab_link": true
    },
    "kernelspec": {
      "name": "python3",
      "display_name": "Python 3"
    },
    "accelerator": "GPU"
  },
  "cells": [
    {
      "cell_type": "markdown",
      "metadata": {
        "id": "view-in-github",
        "colab_type": "text"
      },
      "source": [
        "<a href=\"https://colab.research.google.com/github/bjelikj/DT2119/blob/Lab3_Andres/Labs/Lab3/Lab3.ipynb\" target=\"_parent\"><img src=\"https://colab.research.google.com/assets/colab-badge.svg\" alt=\"Open In Colab\"/></a>"
      ]
    },
    {
      "cell_type": "code",
      "metadata": {
        "id": "_300NuWNwpuZ",
        "colab_type": "code",
        "outputId": "8ee81e58-4936-4f7c-87da-fe0794dee249",
        "colab": {
          "base_uri": "https://localhost:8080/",
          "height": 35
        }
      },
      "source": [
        "try:\n",
        "  import google.colab\n",
        "  IN_COLAB = True\n",
        "except:\n",
        "  IN_COLAB = False\n",
        "\n",
        "if IN_COLAB:\n",
        "    from google.colab import drive\n",
        "    drive.mount('/content/drive/')\n",
        "\n",
        "reload_files = True\n",
        "feature = 'lmfcc'"
      ],
      "execution_count": 1,
      "outputs": [
        {
          "output_type": "stream",
          "text": [
            "Drive already mounted at /content/drive/; to attempt to forcibly remount, call drive.mount(\"/content/drive/\", force_remount=True).\n"
          ],
          "name": "stdout"
        }
      ]
    },
    {
      "cell_type": "code",
      "metadata": {
        "id": "oP6t6vObxeDP",
        "colab_type": "code",
        "outputId": "3e4da677-fd23-477d-b335-b9cd5c2946c4",
        "colab": {
          "resources": {
            "http://localhost:8080/nbextensions/google.colab/files.js": {
              "data": "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",
              "ok": true,
              "headers": [
                [
                  "content-type",
                  "application/javascript"
                ]
              ],
              "status": 200,
              "status_text": ""
            }
          },
          "base_uri": "https://localhost:8080/",
          "height": 376
        }
      },
      "source": [
        "\"\"\"\n",
        "Necessary files:\n",
        "- lab1_proto.py\n",
        "- lab1_tools.py\n",
        "- lab2_proto.py\n",
        "- lab2_tools.py\n",
        "- lab3_proto.py\n",
        "- lab3_tools.py\n",
        "- prondict.py\n",
        "- standardization.py\n",
        "\n",
        "If not uploaded to Google Drive:\n",
        "- lab2_models_all.npz\n",
        "- lab3_example.npz\n",
        "\"\"\"\n",
        "\n",
        "if reload_files:\n",
        "  # %pwd\n",
        "  !pwd\n",
        "  if IN_COLAB:\n",
        "      !rm -r ./*.py\n",
        "\n",
        "  from google.colab import files\n",
        "  files.upload()"
      ],
      "execution_count": 2,
      "outputs": [
        {
          "output_type": "stream",
          "text": [
            "/content\n"
          ],
          "name": "stdout"
        },
        {
          "output_type": "display_data",
          "data": {
            "text/html": [
              "\n",
              "     <input type=\"file\" id=\"files-ab993a25-e530-4a26-8c96-10c999f7464f\" name=\"files[]\" multiple disabled />\n",
              "     <output id=\"result-ab993a25-e530-4a26-8c96-10c999f7464f\">\n",
              "      Upload widget is only available when the cell has been executed in the\n",
              "      current browser session. Please rerun this cell to enable.\n",
              "      </output>\n",
              "      <script src=\"/nbextensions/google.colab/files.js\"></script> "
            ],
            "text/plain": [
              "<IPython.core.display.HTML object>"
            ]
          },
          "metadata": {
            "tags": []
          }
        },
        {
          "output_type": "stream",
          "text": [
            "Saving lab1_proto.py to lab1_proto.py\n",
            "Saving lab1_tools.py to lab1_tools.py\n",
            "Saving lab2_proto.py to lab2_proto.py\n",
            "Saving lab2_tools.py to lab2_tools.py\n",
            "Saving lab3_proto.py to lab3_proto.py\n",
            "Saving lab3_tools.py to lab3_tools.py\n",
            "Saving norm_dynmspec.py to norm_dynmspec.py\n",
            "Saving prondict.py to prondict.py\n",
            "Saving standardization.py to standardization.py\n"
          ],
          "name": "stdout"
        }
      ]
    },
    {
      "cell_type": "code",
      "metadata": {
        "id": "6OMZ3hM9z-L9",
        "colab_type": "code",
        "outputId": "0a9498fa-90e4-496d-8567-9c034bc0395f",
        "colab": {
          "base_uri": "https://localhost:8080/",
          "height": 35
        }
      },
      "source": [
        "from lab1_proto import *\n",
        "from lab2_proto import *\n",
        "from lab3_proto import *\n",
        "from lab1_tools import *\n",
        "from lab2_tools import *\n",
        "from lab3_tools import *\n",
        "from prondict import prondict\n",
        "from standardization import *\n",
        "\n",
        "import numpy as np\n",
        "import os"
      ],
      "execution_count": 3,
      "outputs": [
        {
          "output_type": "stream",
          "text": [
            "Using TensorFlow backend.\n"
          ],
          "name": "stderr"
        }
      ]
    },
    {
      "cell_type": "markdown",
      "metadata": {
        "id": "XnP2-oIL_IEX",
        "colab_type": "text"
      },
      "source": [
        "## Check examples\n"
      ]
    },
    {
      "cell_type": "code",
      "metadata": {
        "id": "9HnRiMcwA7d5",
        "colab_type": "code",
        "colab": {}
      },
      "source": [
        "example = np.load('/content/drive/My Drive/Lab3/lab3_example.npz', allow_pickle=True)['example'].item()"
      ],
      "execution_count": 0,
      "outputs": []
    },
    {
      "cell_type": "markdown",
      "metadata": {
        "id": "dknvV5JBRyl4",
        "colab_type": "text"
      },
      "source": [
        "# 4.1 Target Class Definition"
      ]
    },
    {
      "cell_type": "code",
      "metadata": {
        "id": "Q6ScIE_E0tFj",
        "colab_type": "code",
        "outputId": "d4e264cf-5568-4d26-f5d7-f9485ee28190",
        "colab": {
          "base_uri": "https://localhost:8080/",
          "height": 55
        }
      },
      "source": [
        "phoneHMMs = np.load('/content/drive/My Drive/Lab3/lab2_models_all.npz', allow_pickle=True)['phoneHMMs'].item()\n",
        "phones = sorted(phoneHMMs.keys())\n",
        "nstates = {phone: phoneHMMs[phone]['means'].shape[0] for phone in phones}\n",
        "stateList = [ph + '_' + str(id) for ph in phones for id in range(nstates[ph])]\n",
        "print(stateList)"
      ],
      "execution_count": 5,
      "outputs": [
        {
          "output_type": "stream",
          "text": [
            "['ah_0', 'ah_1', 'ah_2', 'ao_0', 'ao_1', 'ao_2', 'ay_0', 'ay_1', 'ay_2', 'eh_0', 'eh_1', 'eh_2', 'ey_0', 'ey_1', 'ey_2', 'f_0', 'f_1', 'f_2', 'ih_0', 'ih_1', 'ih_2', 'iy_0', 'iy_1', 'iy_2', 'k_0', 'k_1', 'k_2', 'n_0', 'n_1', 'n_2', 'ow_0', 'ow_1', 'ow_2', 'r_0', 'r_1', 'r_2', 's_0', 's_1', 's_2', 'sil_0', 'sil_1', 'sil_2', 'sp_0', 't_0', 't_1', 't_2', 'th_0', 'th_1', 'th_2', 'uw_0', 'uw_1', 'uw_2', 'v_0', 'v_1', 'v_2', 'w_0', 'w_1', 'w_2', 'z_0', 'z_1', 'z_2']\n"
          ],
          "name": "stdout"
        }
      ]
    },
    {
      "cell_type": "markdown",
      "metadata": {
        "id": "6SCaR5JzR31i",
        "colab_type": "text"
      },
      "source": [
        "# 4.2 Forced Alignment"
      ]
    },
    {
      "cell_type": "code",
      "metadata": {
        "id": "aSLjfSKe4DKw",
        "colab_type": "code",
        "outputId": "2be82daf-6226-46c4-90a3-9b9fa8249795",
        "colab": {
          "base_uri": "https://localhost:8080/",
          "height": 110
        }
      },
      "source": [
        "filename = '/content/drive/My Drive/tidigits/disc_4.1.1/tidigits/train/man/nw/z43a.wav'\n",
        "samples, samplingrate = loadAudio(filename)\n",
        "lmfcc = mfcc(samples)\n",
        "print(\"LMFCC Shape: \", lmfcc.shape)\n",
        "\n",
        "wordTrans = list(path2info(filename)[2])\n",
        "print(\"Sequence of digits: \", wordTrans)\n",
        "\n",
        "print(\"Pronunciation dictionary: \", prondict)\n",
        "\n",
        "phoneTrans = words2phones(wordTrans, prondict)\n",
        "print(\"Phone level transcription: \", phoneTrans)\n",
        "utteranceHMM = concatHMMs(phoneHMMs, phoneTrans)\n",
        "\n",
        "stateTrans = [phone + '_' + str(stateid) for phone in phoneTrans\n",
        "              for stateid in range(nstates[phone])]"
      ],
      "execution_count": 6,
      "outputs": [
        {
          "output_type": "stream",
          "text": [
            "LMFCC Shape:  (178, 13)\n",
            "Sequence of digits:  ['z', '4', '3']\n",
            "Pronunciation dictionary:  {'o': ['ow'], 'z': ['z', 'iy', 'r', 'ow'], '1': ['w', 'ah', 'n'], '2': ['t', 'uw'], '3': ['th', 'r', 'iy'], '4': ['f', 'ao', 'r'], '5': ['f', 'ay', 'v'], '6': ['s', 'ih', 'k', 's'], '7': ['s', 'eh', 'v', 'ah', 'n'], '8': ['ey', 't'], '9': ['n', 'ay', 'n']}\n",
            "Phone level transcription:  ['sil', 'z', 'iy', 'r', 'ow', 'sp', 'f', 'ao', 'r', 'sp', 'th', 'r', 'iy', 'sp', 'sil']\n"
          ],
          "name": "stdout"
        }
      ]
    },
    {
      "cell_type": "code",
      "metadata": {
        "id": "uFYkWvFo_Qjl",
        "colab_type": "code",
        "outputId": "f657c30b-d10f-4f35-8989-d40e5624bdf7",
        "colab": {
          "base_uri": "https://localhost:8080/",
          "height": 181
        }
      },
      "source": [
        "# Compare with examples\n",
        "for i in example['utteranceHMM'].keys():\n",
        "    print(compare(utteranceHMM[i], example['utteranceHMM'][i]))\n",
        "\n",
        "obsloglik = log_multivariate_normal_density_diag(lmfcc, utteranceHMM['means'], utteranceHMM['covars'])\n",
        "viterbi_loglik, viterbi_path = viterbi(obsloglik, np.log(utteranceHMM['startprob']), np.log(utteranceHMM['transmat']))\n",
        "viterbiStateTrans = [stateTrans[idx] for idx in viterbi_path.astype(np.int64)] # Forced Alignment\n",
        "\n",
        "print('Comparing obsloglik...', compare(obsloglik, example['obsloglik']))\n",
        "print('Comparing viterbiPath...', compare(viterbi_path, example['viterbiPath']))\n",
        "print('Comparing viterbiStateTrans...', np.all(viterbiStateTrans == example['viterbiStateTrans']))\n",
        "\n",
        "frames = frames2trans(viterbiStateTrans, outfilename= ''.join(path2info(filename)[2:]) + '.lab')"
      ],
      "execution_count": 7,
      "outputs": [
        {
          "output_type": "stream",
          "text": [
            "True\n",
            "True\n",
            "True\n",
            "True\n",
            "Comparing obsloglik... True\n",
            "Comparing viterbiPath... True\n",
            "Comparing viterbiStateTrans... True\n"
          ],
          "name": "stdout"
        },
        {
          "output_type": "stream",
          "text": [
            "/usr/local/lib/python3.6/dist-packages/ipykernel_launcher.py:6: RuntimeWarning: divide by zero encountered in log\n",
            "  \n"
          ],
          "name": "stderr"
        }
      ]
    },
    {
      "cell_type": "code",
      "metadata": {
        "id": "t7WOETbIRsXv",
        "colab_type": "code",
        "outputId": "804be865-41aa-4092-ebf2-2f0258da4141",
        "colab": {
          "base_uri": "https://localhost:8080/",
          "height": 328
        }
      },
      "source": [
        "from IPython.display import Image\n",
        "Image(filename='/content/drive/My Drive/Lab3/z43a_wavesurfer.png')"
      ],
      "execution_count": 8,
      "outputs": [
        {
          "output_type": "execute_result",
          "data": {
            "image/png": "[encoded data removed]",
            "text/plain": [
              "<IPython.core.display.Image object>"
            ]
          },
          "metadata": {
            "tags": []
          },
          "execution_count": 8
        }
      ]
    },
    {
      "cell_type": "markdown",
      "metadata": {
        "id": "addeh9oShjCY",
        "colab_type": "text"
      },
      "source": [
        "# 4.3 Feature Extraction"
      ]
    },
    {
      "cell_type": "code",
      "metadata": {
        "id": "zD6858tUPETU",
        "colab_type": "code",
        "colab": {}
      },
      "source": [
        "def extract_features_and_targets(filename):\n",
        "    \"\"\" extract_features_and_targets: extracts lmfcc, mspecc and \n",
        "        targets from a *.wav sound file\n",
        "\n",
        "    Args:\n",
        "        filename: location of .wav file\n",
        "\n",
        "    Returns:\n",
        "        lmfcc: liftered mfcc features\n",
        "        mspec: filterbank features\n",
        "        targets: indices of the target state for each feature\n",
        "    \"\"\"\n",
        "    samples, samplingrate = loadAudio(filename)\n",
        "    wordTrans = list(path2info(filename)[2])\n",
        "    phoneTrans = words2phones(wordTrans, prondict)\n",
        "    stateTrans = [phone + '_' + str(stateid) for phone in phoneTrans \n",
        "                  for stateid in range(nstates[phone])]\n",
        "    utteranceHMM = concatHMMs(phoneHMMs, phoneTrans)\n",
        "\n",
        "    stateTrans = [phone + '_' + str(stateid) for phone in phoneTrans\n",
        "              for stateid in range(nstates[phone])]\n",
        "\n",
        "    lmfcc = mfcc(samples)\n",
        "    mspec_ = mspec(samples)\n",
        "\n",
        "    obsloglik = log_multivariate_normal_density_diag(lmfcc, utteranceHMM['means'], utteranceHMM['covars'])\n",
        "    viterbi_loglik, viterbi_path = viterbi(obsloglik, np.log(utteranceHMM['startprob']), np.log(utteranceHMM['transmat']), True)\n",
        "    targets = [stateTrans[idx] for idx in viterbi_path.astype(np.int64)] \n",
        "\n",
        "    return lmfcc, mspec_, targets"
      ],
      "execution_count": 0,
      "outputs": []
    },
    {
      "cell_type": "markdown",
      "metadata": {
        "id": "2I1uUxkc-Tn1",
        "colab_type": "text"
      },
      "source": [
        "Extract and save lmfcc and mspec features, and their associated targets"
      ]
    },
    {
      "cell_type": "code",
      "metadata": {
        "id": "dUkLiuEhhf04",
        "colab_type": "code",
        "outputId": "a3dce13b-00de-4464-b77e-ec33e50a1cf3",
        "colab": {
          "base_uri": "https://localhost:8080/",
          "height": 55
        }
      },
      "source": [
        "\"\"\"\n",
        "from tqdm import tqdm\n",
        "traindata = []\n",
        "for root, dirs, files in tqdm(os.walk('/content/drive/My Drive/tidigits/disc_4.1.1/tidigits/train'), desc='dirs'):\n",
        "  for file in files:\n",
        "    if file.endswith('.wav'):\n",
        "      filename = os.path.join(root, file)\n",
        "      samples, samplingrate = loadAudio(filename)\n",
        "      lmfcc, mspec_, targets =  extract_features_and_targets(filename)\n",
        "      traindata.append({'filename': filename, 'lmfcc': lmfcc,\n",
        "                        'mspec': mspec_, 'targets': targets})\n",
        "\n",
        "np.savez('/content/drive/My Drive/Lab3/traindata.npz', traindata=traindata)\n",
        "\"\"\""
      ],
      "execution_count": 10,
      "outputs": [
        {
          "output_type": "execute_result",
          "data": {
            "text/plain": [
              "\"\\nfrom tqdm import tqdm\\ntraindata = []\\nfor root, dirs, files in tqdm(os.walk('/content/drive/My Drive/tidigits/disc_4.1.1/tidigits/train'), desc='dirs'):\\n  for file in files:\\n    if file.endswith('.wav'):\\n      filename = os.path.join(root, file)\\n      samples, samplingrate = loadAudio(filename)\\n      lmfcc, mspec_, targets =  extract_features_and_targets(filename)\\n      traindata.append({'filename': filename, 'lmfcc': lmfcc,\\n                        'mspec': mspec_, 'targets': targets})\\n\\nnp.savez('/content/drive/My Drive/Lab3/traindata.npz', traindata=traindata)\\n\""
            ]
          },
          "metadata": {
            "tags": []
          },
          "execution_count": 10
        }
      ]
    },
    {
      "cell_type": "code",
      "metadata": {
        "id": "Z9pxdzXZbVU2",
        "colab_type": "code",
        "outputId": "3149013c-3d05-4c1c-aad8-477e0f70df9b",
        "colab": {
          "base_uri": "https://localhost:8080/",
          "height": 55
        }
      },
      "source": [
        "\"\"\"\n",
        "testdata = []\n",
        "for root, dirs, files in tqdm(os.walk('/content/drive/My Drive/tidigits/disc_4.2.1/tidigits/test'), desc='dirs'):\n",
        "  for file in files:\n",
        "    if file.endswith('.wav'):\n",
        "      filename = os.path.join(root, file)\n",
        "      samples, samplingrate = loadAudio(filename)\n",
        "      lmfcc, mspec_, targets =  extract_features_and_targets(filename)\n",
        "      testdata.append({'filename': filename, 'lmfcc': lmfcc,\n",
        "                        'mspec': mspec_, 'targets': targets})\n",
        "\n",
        "np.savez('/content/drive/My Drive/Lab3/testdata.npz', testdata=testdata)\n",
        "\"\"\""
      ],
      "execution_count": 11,
      "outputs": [
        {
          "output_type": "execute_result",
          "data": {
            "text/plain": [
              "\"\\ntestdata = []\\nfor root, dirs, files in tqdm(os.walk('/content/drive/My Drive/tidigits/disc_4.2.1/tidigits/test'), desc='dirs'):\\n  for file in files:\\n    if file.endswith('.wav'):\\n      filename = os.path.join(root, file)\\n      samples, samplingrate = loadAudio(filename)\\n      lmfcc, mspec_, targets =  extract_features_and_targets(filename)\\n      testdata.append({'filename': filename, 'lmfcc': lmfcc,\\n                        'mspec': mspec_, 'targets': targets})\\n\\nnp.savez('/content/drive/My Drive/Lab3/testdata.npz', testdata=testdata)\\n\""
            ]
          },
          "metadata": {
            "tags": []
          },
          "execution_count": 11
        }
      ]
    },
    {
      "cell_type": "markdown",
      "metadata": {
        "id": "vE1sI669iKqD",
        "colab_type": "text"
      },
      "source": [
        "# 4.4 Training and Validation Sets"
      ]
    },
    {
      "cell_type": "markdown",
      "metadata": {
        "id": "HJh3VAsecThl",
        "colab_type": "text"
      },
      "source": [
        "##### Split the training data into a training set (roughly 90%) and validation set (remaining 10%). Make sure that there is a similar distribution of men and women in both sets, and that each speaker is only included in one of the two sets. The last requirement is to ensure that we do not get artificially good results on the validation set. Explain how you selected the two data sets.\n",
        "\n",
        "**You should specify both the training and validation data with the respective targets. What is the purpose of the validation data?**"
      ]
    },
    {
      "cell_type": "code",
      "metadata": {
        "id": "0gtbsZ2lce_o",
        "colab_type": "code",
        "colab": {}
      },
      "source": [
        "#train_data = np.load('/content/drive/My Drive/Lab3/traindata.npz', allow_pickle=True)['traindata']"
      ],
      "execution_count": 0,
      "outputs": []
    },
    {
      "cell_type": "code",
      "metadata": {
        "id": "19A9940o3jCQ",
        "colab_type": "code",
        "colab": {}
      },
      "source": [
        "def train_val_split(data):\n",
        "  \"\"\"train_val_split: splits dataset into train and validation sets\n",
        "\n",
        "  Args:\n",
        "    data: dataset to be split\n",
        "  \"\"\"\n",
        "  MAN_SAMPLES = 4235\n",
        "  WOMAN_SAMPLES = 4388\n",
        "  VAL_PER = 0.1\n",
        "  SAMPLES_PER_PERSON = 77\n",
        "\n",
        "  nsamples = len(data)\n",
        "  approx_val_size = int(0.1 * nsamples)\n",
        "  val_class_people_count = int(approx_val_size / (SAMPLES_PER_PERSON))\n",
        "\n",
        "  if val_class_people_count % 2 != 0:\n",
        "      val_class_people_count += 1\n",
        "\n",
        "  val_size = val_class_people_count * SAMPLES_PER_PERSON\n",
        "  training_size = nsamples - val_size\n",
        "\n",
        "  samples_per_gender = int(val_size / 2)\n",
        "\n",
        "  val_data = [data[i] for i in range(0, samples_per_gender)]\n",
        "  val_data.extend([data[i] for i in range(MAN_SAMPLES, MAN_SAMPLES + samples_per_gender)])\n",
        "  training_data = [sample for sample in data if sample['filename'] not in [x['filename'] for x in val_data]]\n",
        "\n",
        "  np.save('/content/drive/My Drive/Lab3/training_data.npy', training_data)\n",
        "  np.save('/content/drive/My Drive/Lab3/validation_data.npy', val_data)"
      ],
      "execution_count": 0,
      "outputs": []
    },
    {
      "cell_type": "code",
      "metadata": {
        "id": "cvI0fx055Yky",
        "colab_type": "code",
        "colab": {}
      },
      "source": [
        "#train_val_split(train_data)"
      ],
      "execution_count": 0,
      "outputs": []
    },
    {
      "cell_type": "markdown",
      "metadata": {
        "id": "DoY6WbNkiV84",
        "colab_type": "text"
      },
      "source": [
        "# 4.5 Acoustic Context (Dynamic Features)"
      ]
    },
    {
      "cell_type": "code",
      "metadata": {
        "id": "LirZzxUH6Ccv",
        "colab_type": "code",
        "colab": {}
      },
      "source": [
        "# if len(os.listdir('/content/drive/My Drive/Lab3_features')) == 0:\n",
        "#   train_data = np.load('/content/drive/My Drive/Lab3/training_data.npy', allow_pickle=True)\n",
        "#   val_data = np.load('/content/drive/My Drive/Lab3/validation_data.npy', allow_pickle=True)\n",
        "#   test_data = np.load('/content/drive/My Drive/Lab3/testdata.npz', allow_pickle=True)['testdata']"
      ],
      "execution_count": 0,
      "outputs": []
    },
    {
      "cell_type": "code",
      "metadata": {
        "id": "gw1hdtUBiU1H",
        "colab_type": "code",
        "colab": {}
      },
      "source": [
        "# For each utterance and time step, stack 7 MFCC or filterbank features symmetrically distributed\n",
        "# around the current time step. That is, at time n, stack the features at times [n-3; n-\n",
        "# 2; n-1; n; n+1; n+2; n+3]). At the beginning and end of each utterance, use mirrored feature\n",
        "# vectors in place of the missing vectors. For example at the beginning use feature vectors with\n",
        "# indexes [3; 2; 1; 0; 1; 2; 3] for the first time step, [2; 1; 0; 1; 2; 3; 4] for the second time step, and so\n",
        "# on. The “boundary effect” is usually not very important because each utterance begins and ends\n",
        "# with silence."
      ],
      "execution_count": 0,
      "outputs": []
    },
    {
      "cell_type": "code",
      "metadata": {
        "id": "uC93bO4N_0nB",
        "colab_type": "code",
        "colab": {}
      },
      "source": [
        "from tqdm import tqdm\n",
        "def create_dynamic_features(data, feature_type):\n",
        "    \"\"\" create_dynamic_features: Creates dynamic features by concatinated 7 \n",
        "        lmfcc or mspec featues together for each step\n",
        "\n",
        "    Args:\n",
        "        data: list of dictionaries with keys: 'lmfcc', 'mspec' and 'targets'\n",
        "    \n",
        "    Returns:\n",
        "        lmfcc_features: [NxD_lmfcc * 7] where N = number of all concatinated samples of all words in data\n",
        "        mspec_features: [NxD_mspec * 7] where N = of all concatinated samples of all words in data\n",
        "        targets: [N,] index of state for each sample\n",
        "    \"\"\"\n",
        "    \n",
        "    D_lmfcc = data[0]['lmfcc'].shape[1]\n",
        "    D_mspec = data[0]['mspec'].shape[1]\n",
        "    N = sum([len(x['targets']) for x in data])\n",
        "\n",
        "    # Features to be returned\n",
        "    dynlmfcc_features = np.zeros((N, D_lmfcc * 7))\n",
        "    dynmspec_features = np.zeros((N, D_mspec * 7))\n",
        "    \n",
        "    # Targets to be returned\n",
        "    targets = []\n",
        "    # lmfcc_features = []\n",
        "    # mspec_features = []\n",
        "\n",
        "    if feature_type =='lmfcc':\n",
        "      lmfcc_features = data[0]['lmfcc']\n",
        "      for i,d in enumerate(data[1:]):\n",
        "        lmfcc_features = np.vstack((lmfcc_features, d['lmfcc']))\n",
        "    elif feature_type == 'mspec':\n",
        "      mspec_features = data[0]['mspec']\n",
        "      for i,d in enumerate(data[1:]):\n",
        "        mspec_features = np.vstack((mspec_features, d['mspec'])) \n",
        "\n",
        "\n",
        "    # through all data\n",
        "    k = 0\n",
        "    for x in tqdm(data): \n",
        "        # if feature_type == 'lmfcc':\n",
        "          # lmfcc_features.append(x['lmfcc'])\n",
        "        # elif feature_type == 'mspec':\n",
        "          # mspec_features.append(x['mspec'])\n",
        "\n",
        "        # else:\n",
        "        if not(feature_type == 'lmfcc' or feature == 'mspec'):\n",
        "          times, dim = x['lmfcc'].shape\n",
        "          # for each time step\n",
        "          for i in range(times):\n",
        "            if i < 3 or i >= times - 3:\n",
        "              if feature_type == 'dynlmfcc':\n",
        "                dynlmfcc_features[k, :] = np.hstack(np.pad(x['lmfcc'], pad_width=((3, 3), (0, 0)), mode='reflect')[i:i+7, :])\n",
        "              elif feature_type == 'dynmspec':\n",
        "                dynmspec_features[k, :] = np.hstack(np.pad(x['mspec'], pad_width=((3, 3), (0, 0)), mode='reflect')[i:i+7, :])\n",
        "            else:\n",
        "              if feature_type == 'dynlmfcc':\n",
        "                dynlmfcc_features[k,:] = np.hstack(x['lmfcc'][i-3:i+4, :])\n",
        "              elif feature_type == 'dynmspec':\n",
        "                dynmspec_features[k,:] = np.hstack(x['mspec'][i-3:i+4, :])\n",
        "            k +=1\n",
        "        targets = targets + x['targets']\n",
        "\n",
        "    if feature_type == 'lmfcc':\n",
        "      # return np.asarray(lmfcc_features), targets\n",
        "      return lmfcc_features, targets\n",
        "    elif feature_type == 'mspec':\n",
        "      # return np.asarray(mspec_features), targets\n",
        "      return mspec_features, targets\n",
        "    elif feature_type == 'dynlmfcc':\n",
        "      return dynlmfcc_features, targets\n",
        "    elif feature_type == 'dynmspec':\n",
        "      return dynmspec_features, targets\n",
        "\n",
        "    # return np.asarray(lmfcc_features), np.asarray(mspec_features), dynlmfcc_features, dynmspec_features, targets\n",
        "    # return dynlmfcc_features, dynmspec_features, targets"
      ],
      "execution_count": 0,
      "outputs": []
    },
    {
      "cell_type": "code",
      "metadata": {
        "id": "r6rZ9PAvCAak",
        "colab_type": "code",
        "colab": {
          "base_uri": "https://localhost:8080/",
          "height": 72
        },
        "outputId": "75b04a7a-348e-4ab9-e37a-c5baa73fed5a"
      },
      "source": [
        "# Features & Dynamic features\n",
        "# if len(os.listdir('/content/drive/My Drive/Lab3_features')) == 0:\n",
        "if os.path.exists('/content/drive/My Drive/Lab3_features/' + feature + '.npz') == False:\n",
        "  train_data = np.load('/content/drive/My Drive/Lab3/training_data.npy', allow_pickle=True)\n",
        "  val_data = np.load('/content/drive/My Drive/Lab3/validation_data.npy', allow_pickle=True)\n",
        "  test_data = np.load('/content/drive/My Drive/Lab3/testdata.npz', allow_pickle=True)['testdata']\n",
        "  # lmfcc_train_x, mspec_train_x, dynlmfcc_train_x, dynmspec_train_x, train_y = create_dynamic_features(train_data)\n",
        "  # lmfcc_val_x, mspec_val_x, dynlmfcc_val_x, dynmspec_val_x, val_y = create_dynamic_features(val_data)\n",
        "  # lmfcc_test_x, mspec_test_x, dynlmfcc_test_x, dynmspec_test_x, test_y = create_dynamic_features(test_data) \n",
        "  # dynlmfcc_train_x, dynmspec_train_x, train_y = create_dynamic_features(train_data)\n",
        "  train_x, train_y = create_dynamic_features(train_data, feature)\n",
        "  val_x, val_y = create_dynamic_features(val_data, feature)\n",
        "  test_x, test_y = create_dynamic_features(test_data, feature)\n",
        "  \n",
        "  if feature == 'lmfcc':\n",
        "    np.savez_compressed('/content/drive/My Drive/Lab3_features/lmfcc', lmfcc_train_x=train_x, lmfcc_val_x=val_x, lmfcc_test_x=test_x)\n",
        "  if feature == 'mspec':\n",
        "    np.savez_compressed('/content/drive/My Drive/Lab3_features/mspec', mspec_train_x=train_x, mspec_val_x=val_x, mspec_test_x=test_x)\n",
        "  if feature == 'dynlmfcc':\n",
        "    np.savez_compressed('/content/drive/My Drive/Lab3_features/dynlmfcc', dynlmfcc_train_x=train_x, dynlmfcc_val_x=val_x, dynlmfcc_test_x=test_x)\n",
        "  if feature == 'dynmspec':\n",
        "    np.savez_compressed('/content/drive/My Drive/Lab3_features/dynmspec', dynmspec_train_x=train_x, dynmspec_val_x=val_x, dynmspec_test_x=test_x)\n",
        "\n",
        "  # dynlmfcc_val_x, dynmspec_val_x, val_y = create_dynamic_features(val_data)\n",
        "  # dynlmfcc_test_x, dynmspec_test_x, test_y = create_dynamic_features(test_data)\n",
        "\n",
        "  np.save('/content/drive/My Drive/Lab3_features/train_y.npy', train_y)\n",
        "  np.save('/content/drive/My Drive/Lab3_features/val_y.npy', val_y)\n",
        "  np.save('/content/drive/My Drive/Lab3_features/test_y.npy', test_y)"
      ],
      "execution_count": 18,
      "outputs": [
        {
          "output_type": "stream",
          "text": [
            "100%|██████████| 7699/7699 [00:22<00:00, 349.08it/s]\n",
            "100%|██████████| 924/924 [00:00<00:00, 2348.21it/s]\n",
            "100%|██████████| 8700/8700 [00:30<00:00, 286.54it/s]\n"
          ],
          "name": "stderr"
        }
      ]
    },
    {
      "cell_type": "markdown",
      "metadata": {
        "id": "W9vUqa_2jmsP",
        "colab_type": "text"
      },
      "source": [
        "# 4.6 Feature Standardisation"
      ]
    },
    {
      "cell_type": "markdown",
      "metadata": {
        "id": "2Gob6Vu61tmT",
        "colab_type": "text"
      },
      "source": [
        "Normalization over the complete training set"
      ]
    },
    {
      "cell_type": "code",
      "metadata": {
        "id": "p718kAvkjlul",
        "colab_type": "code",
        "colab": {}
      },
      "source": [
        "if feature == 'lmfcc':\n",
        "  if os.path.exists('/content/drive/My Drive/Lab3_features/normalized/lmfcc_norm.npz') == False:\n",
        "    loaded = np.load('/content/drive/My Drive/Lab3_features/lmfcc.npz', allow_pickle=True)\n",
        "    train_x =  loaded['lmfcc_train_x']\n",
        "    val_x = loaded['lmfcc_val_x']\n",
        "    test_x = loaded['lmfcc_test_x']\n",
        "    train_x, val_x, test_x = normalize_features(train_x, val_x, test_x)\n",
        "    np.savez_compressed('/content/drive/My Drive/Lab3_features/normalized/lmfcc_norm', lmfcc_train_x=train_x, lmfcc_val_x=val_x, lmfcc_test_x=test_x)\n",
        "  else:\n",
        "    loaded = np.load('/content/drive/My Drive/Lab3_features/normalized/lmfcc_norm.npz', allow_pickle=True)\n",
        "    train_x =  loaded['lmfcc_train_x']\n",
        "    val_x = loaded['lmfcc_val_x']\n",
        "    test_x = loaded['lmfcc_test_x']\n",
        "\n",
        "elif feature == 'mspec':\n",
        "  if os.path.exists('/content/drive/My Drive/Lab3_features/normalized/mspec_norm.npz') == False:\n",
        "    loaded = np.load('/content/drive/My Drive/Lab3_features/mspec.npz', allow_pickle=True)\n",
        "    train_x =  loaded['mspec_train_x']\n",
        "    val_x = loaded['mspec_val_x']\n",
        "    test_x = loaded['mspec_test_x']\n",
        "    train_x, val_x, test_x = normalize_features(train_x, val_x, test_x)\n",
        "    np.savez_compressed('/content/drive/My Drive/Lab3_features/normalized/mspec_norm', mspec_train_x=train_x, mspec_val_x=val_x, mspec_test_x=test_x)\n",
        "  else:\n",
        "    loaded = np.load('/content/drive/My Drive/Lab3_features/normalized/mspec_norm.npz', allow_pickle=True)\n",
        "    train_x =  loaded['mspec_train_x']\n",
        "    val_x = loaded['mspec_val_x']\n",
        "    test_x = loaded['mspec_test_x']\n",
        "\n",
        "elif feature == 'dynlmfcc':\n",
        "  if os.path.exists('/content/drive/My Drive/Lab3_features/normalized/dynlmfcc_norm.npz') == False:\n",
        "    loaded = np.load('/content/drive/My Drive/Lab3_features/dynlmfcc.npz', allow_pickle=True)\n",
        "    train_x =  loaded['dynlmfcc_train_x']\n",
        "    val_x = loaded['dynlmfcc_val_x']\n",
        "    test_x = loaded['dynlmfcc_test_x']\n",
        "    train_x, val_x, test_x = normalize_features(train_x, val_x, test_x)\n",
        "    np.savez_compressed('/content/drive/My Drive/Lab3_features/normalized/dynlmfcc_norm', dynlmfcc_train_x=train_x, dynlmfcc_val_x=val_x, dynlmfcc_test_x=test_x)\n",
        "  else:\n",
        "    loaded = np.load('/content/drive/My Drive/Lab3_features/normalized/dynlmfcc_norm.npz', allow_pickle=True)\n",
        "    train_x =  loaded['dynlmfcc_train_x']\n",
        "    val_x = loaded['dynlmfcc_val_x']\n",
        "    test_x = loaded['dynlmfcc_test_x']\n",
        "\n",
        "elif feature == 'dynmspec':\n",
        "  if os.path.exists('/content/drive/My Drive/Lab3_features/normalized/dynmspec_norm.npz') == False:\n",
        "    loaded = np.load('/content/drive/My Drive/Lab3_features/dynmspec.npz', allow_pickle=True)\n",
        "    train_x =  loaded['dynmspec_train_x']\n",
        "    val_x = loaded['dynmspec_val_x']\n",
        "    test_x = loaded['dynmspec_test_x']\n",
        "    train_x, val_x, test_x = normalize_features(train_x, val_x, test_x)\n",
        "    np.savez_compressed('/content/drive/My Drive/Lab3_features/normalized/dynmspec_norm', dynmspec_train_x=train_x, dynmspec_val_x=val_x, dynmspec_test_x=test_x)\n",
        "  else:\n",
        "    loaded = np.load('/content/drive/My Drive/Lab3_features/normalized/dynmspec_norm.npz', allow_pickle=True)\n",
        "    train_x =  loaded['dynmspec_train_x']\n",
        "    val_x = loaded['dynmspec_val_x']\n",
        "    test_x = loaded['dynmspec_test_x']"
      ],
      "execution_count": 0,
      "outputs": []
    },
    {
      "cell_type": "code",
      "metadata": {
        "id": "A46_vg1X1LsI",
        "colab_type": "code",
        "colab": {}
      },
      "source": [
        "train_y = np.load('/content/drive/My Drive/Lab3_features/train_y.npy')\n",
        "val_y = np.load('/content/drive/My Drive/Lab3_features/val_y.npy')\n",
        "test_y = np.load('/content/drive/My Drive/Lab3_features/test_y.npy')\n",
        "\n",
        "train_y_one_hot, val_y_one_hot, test_y_one_hot = normalize_targets(train_y, val_y, test_y, stateList)"
      ],
      "execution_count": 0,
      "outputs": []
    },
    {
      "cell_type": "markdown",
      "metadata": {
        "id": "Zydanardb6-m",
        "colab_type": "text"
      },
      "source": [
        "#5 Phoneme Recognition with Deep Neural Networks"
      ]
    },
    {
      "cell_type": "markdown",
      "metadata": {
        "id": "jjl-ePKUr2Bi",
        "colab_type": "text"
      },
      "source": [
        "Here are the minimum list of configurations to test, but you can test your favourite models if you manage to run the training in reasonable time. \n",
        "\n",
        "1. input: liftered MFCCs, one to four hidden layers of size 256, rectified linear units\n",
        "2. input: filterbank features, one to four hidden layers of size 256, rectified linear units\n",
        "3. same as 1. but with dynamic features as explained in Section 4.5\n",
        "4. same as 2. but with dynamic features as explained in Section 4.5\n",
        "\n",
        "Note the evolution of the loss function and the accuracy of the model for every epoch. What can you say comparing the results on the training and validation data? There are many other parameters that you can vary, if you have time to play with the models.\n",
        "For example:\n",
        "\n",
        "• different activation functions than ReLU\n",
        "\n",
        "• different number of hidden layers\n",
        "\n",
        "• different number of nodes per layer\n",
        "\n",
        "• different length of context input window\n",
        "\n",
        "• strategy to update learning rate and momentum\n",
        "\n",
        "• initialisation with DBNs instead of random\n",
        "\n",
        "• different normalisation of the feature vectors"
      ]
    },
    {
      "cell_type": "code",
      "metadata": {
        "id": "Mv6Ki4JRcAn6",
        "colab_type": "code",
        "colab": {}
      },
      "source": [
        "from tensorflow.keras.models import Sequential\n",
        "from tensorflow.keras.layers import Dense, Activation\n",
        "from tensorflow.keras.optimizers import Adam\n",
        "from tensorflow.keras.callbacks import ModelCheckpoint\n",
        "from sklearn.metrics import classification_report, confusion_matrix"
      ],
      "execution_count": 0,
      "outputs": []
    },
    {
      "cell_type": "markdown",
      "metadata": {
        "id": "M-fDyq6cdh7h",
        "colab_type": "text"
      },
      "source": [
        "## lmfcc features"
      ]
    },
    {
      "cell_type": "code",
      "metadata": {
        "id": "biykBz3Pc27E",
        "colab_type": "code",
        "colab": {}
      },
      "source": [
        "def MLP(feature, num_layers, num_hidnodes, num_outputs, activation='relu', optimizer=Adam()):\n",
        "\n",
        "  if feature == 'lmfcc':\n",
        "      input_nodes = 13\n",
        "  elif feature == 'mspec':\n",
        "      input_nodes = 40\n",
        "  elif feature == 'dynlmfcc':\n",
        "      input_nodes = 91\n",
        "  elif feature == 'dynmspec':\n",
        "      input_nodes= 280\n",
        "\n",
        "\n",
        "  model = Sequential()\n",
        "  # A typical value for hidden nodes is 256, but you can experiment with this to see if convergence becomes faster or slower.\n",
        "  model.add(Dense(64, input_shape=(input_nodes,), activation=activation, dtype=\"float32\"))\n",
        "  model.add(Dense(128, activation=activation))\n",
        "  model.add(Dense(256, activation=activation))\n",
        "  model.add(Dense(128, activation=activation))\n",
        "  model.add(Dense(64, activation=activation))\n",
        "\n",
        "  model.add(Dense(num_outputs))\n",
        "  model.add(Activation('softmax', name='posterior'))\n",
        "\n",
        "  model.compile(loss='categorical_crossentropy',optimizer=optimizer,metrics=['accuracy'])\n",
        "  model.summary()\n",
        "\n",
        "  return model"
      ],
      "execution_count": 0,
      "outputs": []
    },
    {
      "cell_type": "code",
      "metadata": {
        "id": "SwxmmvqheVg_",
        "colab_type": "code",
        "colab": {
          "base_uri": "https://localhost:8080/",
          "height": 1000
        },
        "outputId": "701ea2cc-d5ce-471c-df60-424153e0a536"
      },
      "source": [
        "model = MLP(feature=feature, num_layers=4, num_hidnodes=256, num_outputs=61, activation='relu', optimizer=Adam())\n",
        "\n",
        "filepath = \"/content/drive/My Drive/Lab3/weights.{epoch:02d}-{val_accuracy:.2f}.hdf5\"\n",
        "checkpoint = ModelCheckpoint(filepath, monitor='val_accuracy', verbose=1,\n",
        "                             save_best_only=True, mode='max')\n",
        "\n",
        "# model.fit(dynlmfcc_train_x, train_y_one_hot, epochs=10, batch_size=64,\n",
        "#           validation_data = (dynlmfcc_val_x, val_y_one_hot), callbacks=checkpoint)\n",
        "model.fit(train_x, train_y_one_hot, epochs=10, batch_size=64,\n",
        "          validation_data = (val_x, val_y_one_hot), callbacks=checkpoint)"
      ],
      "execution_count": 23,
      "outputs": [
        {
          "output_type": "stream",
          "text": [
            "Model: \"sequential\"\n",
            "_________________________________________________________________\n",
            "Layer (type)                 Output Shape              Param #   \n",
            "=================================================================\n",
            "dense (Dense)                (None, 64)                896       \n",
            "_________________________________________________________________\n",
            "dense_1 (Dense)              (None, 128)               8320      \n",
            "_________________________________________________________________\n",
            "dense_2 (Dense)              (None, 256)               33024     \n",
            "_________________________________________________________________\n",
            "dense_3 (Dense)              (None, 128)               32896     \n",
            "_________________________________________________________________\n",
            "dense_4 (Dense)              (None, 64)                8256      \n",
            "_________________________________________________________________\n",
            "dense_5 (Dense)              (None, 61)                3965      \n",
            "_________________________________________________________________\n",
            "posterior (Activation)       (None, 61)                0         \n",
            "=================================================================\n",
            "Total params: 87,357\n",
            "Trainable params: 87,357\n",
            "Non-trainable params: 0\n",
            "_________________________________________________________________\n",
            "Epoch 1/10\n",
            "20983/20991 [============================>.] - ETA: 0s - loss: 1.2795 - accuracy: 0.6014\n",
            "Epoch 00001: val_accuracy improved from -inf to 0.62493, saving model to /content/drive/My Drive/Lab3/weights.01-0.62.hdf5\n",
            "20991/20991 [==============================] - 54s 3ms/step - loss: 1.2795 - accuracy: 0.6014 - val_loss: 1.1972 - val_accuracy: 0.6249\n",
            "Epoch 2/10\n",
            "20970/20991 [============================>.] - ETA: 0s - loss: 1.1729 - accuracy: 0.6303\n",
            "Epoch 00002: val_accuracy improved from 0.62493 to 0.62819, saving model to /content/drive/My Drive/Lab3/weights.02-0.63.hdf5\n",
            "20991/20991 [==============================] - 54s 3ms/step - loss: 1.1729 - accuracy: 0.6303 - val_loss: 1.1883 - val_accuracy: 0.6282\n",
            "Epoch 3/10\n",
            "20981/20991 [============================>.] - ETA: 0s - loss: 1.1454 - accuracy: 0.6387\n",
            "Epoch 00003: val_accuracy improved from 0.62819 to 0.62822, saving model to /content/drive/My Drive/Lab3/weights.03-0.63.hdf5\n",
            "20991/20991 [==============================] - 53s 3ms/step - loss: 1.1454 - accuracy: 0.6387 - val_loss: 1.1864 - val_accuracy: 0.6282\n",
            "Epoch 4/10\n",
            "20974/20991 [============================>.] - ETA: 0s - loss: 1.1298 - accuracy: 0.6429\n",
            "Epoch 00004: val_accuracy improved from 0.62822 to 0.63084, saving model to /content/drive/My Drive/Lab3/weights.04-0.63.hdf5\n",
            "20991/20991 [==============================] - 53s 3ms/step - loss: 1.1297 - accuracy: 0.6429 - val_loss: 1.1859 - val_accuracy: 0.6308\n",
            "Epoch 5/10\n",
            "20975/20991 [============================>.] - ETA: 0s - loss: 1.1189 - accuracy: 0.6465\n",
            "Epoch 00005: val_accuracy improved from 0.63084 to 0.63203, saving model to /content/drive/My Drive/Lab3/weights.05-0.63.hdf5\n",
            "20991/20991 [==============================] - 53s 3ms/step - loss: 1.1189 - accuracy: 0.6465 - val_loss: 1.1816 - val_accuracy: 0.6320\n",
            "Epoch 6/10\n",
            "20977/20991 [============================>.] - ETA: 0s - loss: 1.1109 - accuracy: 0.6494\n",
            "Epoch 00006: val_accuracy did not improve from 0.63203\n",
            "20991/20991 [==============================] - 55s 3ms/step - loss: 1.1109 - accuracy: 0.6494 - val_loss: 1.1974 - val_accuracy: 0.6277\n",
            "Epoch 7/10\n",
            "20975/20991 [============================>.] - ETA: 0s - loss: 1.1051 - accuracy: 0.6508\n",
            "Epoch 00007: val_accuracy did not improve from 0.63203\n",
            "20991/20991 [==============================] - 54s 3ms/step - loss: 1.1051 - accuracy: 0.6508 - val_loss: 1.2059 - val_accuracy: 0.6251\n",
            "Epoch 8/10\n",
            "20984/20991 [============================>.] - ETA: 0s - loss: 1.1006 - accuracy: 0.6526\n",
            "Epoch 00008: val_accuracy did not improve from 0.63203\n",
            "20991/20991 [==============================] - 54s 3ms/step - loss: 1.1006 - accuracy: 0.6526 - val_loss: 1.2048 - val_accuracy: 0.6246\n",
            "Epoch 9/10\n",
            "20991/20991 [==============================] - ETA: 0s - loss: 1.0966 - accuracy: 0.6540\n",
            "Epoch 00009: val_accuracy did not improve from 0.63203\n",
            "20991/20991 [==============================] - 54s 3ms/step - loss: 1.0966 - accuracy: 0.6540 - val_loss: 1.1989 - val_accuracy: 0.6289\n",
            "Epoch 10/10\n",
            "20989/20991 [============================>.] - ETA: 0s - loss: 1.0927 - accuracy: 0.6551\n",
            "Epoch 00010: val_accuracy did not improve from 0.63203\n",
            "20991/20991 [==============================] - 54s 3ms/step - loss: 1.0927 - accuracy: 0.6551 - val_loss: 1.1992 - val_accuracy: 0.6281\n"
          ],
          "name": "stdout"
        },
        {
          "output_type": "execute_result",
          "data": {
            "text/plain": [
              "<tensorflow.python.keras.callbacks.History at 0x7fb7cf700d68>"
            ]
          },
          "metadata": {
            "tags": []
          },
          "execution_count": 23
        }
      ]
    },
    {
      "cell_type": "code",
      "metadata": {
        "id": "HD305jQyfLaK",
        "colab_type": "code",
        "colab": {
          "base_uri": "https://localhost:8080/",
          "height": 90
        },
        "outputId": "7d9a7922-4ee4-43cf-d61e-8769308b7865"
      },
      "source": [
        "print(\"Evaluating model on test data...\")\n",
        "results = model.evaluate(test_x, test_y_one_hot)\n",
        "print(\"Test loss:\", results[0])\n",
        "print(\"Test acc:\", results[1])"
      ],
      "execution_count": 24,
      "outputs": [
        {
          "output_type": "stream",
          "text": [
            "Evaluating model on test data...\n",
            "47709/47709 [==============================] - 90s 2ms/step - loss: 1.3393 - accuracy: 0.5936\n",
            "Test loss: 1.3393025398254395\n",
            "Test acc: 0.5936213135719299\n"
          ],
          "name": "stdout"
        }
      ]
    },
    {
      "cell_type": "code",
      "metadata": {
        "id": "7STc2FfUHiiw",
        "colab_type": "code",
        "colab": {
          "base_uri": "https://localhost:8080/",
          "height": 413
        },
        "outputId": "8ed78dfd-bfbc-4297-a25b-08cc3e01eead"
      },
      "source": [
        "test_y_pred = np.argmax(model.predict(test_x), axis=1)\n",
        "\n",
        "print(\"Confusion matrix:\")\n",
        "print(confusion_matrix(test_y_one_hot, test_y_pred))\n",
        "# print(\"Classification reprot:\")\n",
        "# print(classification_report(test_y, test_y_pred, digits=61))"
      ],
      "execution_count": 25,
      "outputs": [
        {
          "output_type": "stream",
          "text": [
            "Confusion matrix:\n"
          ],
          "name": "stdout"
        },
        {
          "output_type": "error",
          "ename": "ValueError",
          "evalue": "ignored",
          "traceback": [
            "\u001b[0;31m---------------------------------------------------------------------------\u001b[0m",
            "\u001b[0;31mValueError\u001b[0m                                Traceback (most recent call last)",
            "\u001b[0;32m<ipython-input-25-3b2ab7e7c931>\u001b[0m in \u001b[0;36m<module>\u001b[0;34m()\u001b[0m\n\u001b[1;32m      2\u001b[0m \u001b[0;34m\u001b[0m\u001b[0m\n\u001b[1;32m      3\u001b[0m \u001b[0mprint\u001b[0m\u001b[0;34m(\u001b[0m\u001b[0;34m\"Confusion matrix:\"\u001b[0m\u001b[0;34m)\u001b[0m\u001b[0;34m\u001b[0m\u001b[0;34m\u001b[0m\u001b[0m\n\u001b[0;32m----> 4\u001b[0;31m \u001b[0mprint\u001b[0m\u001b[0;34m(\u001b[0m\u001b[0mconfusion_matrix\u001b[0m\u001b[0;34m(\u001b[0m\u001b[0mtest_y_one_hot\u001b[0m\u001b[0;34m,\u001b[0m \u001b[0mtest_y_pred\u001b[0m\u001b[0;34m)\u001b[0m\u001b[0;34m)\u001b[0m\u001b[0;34m\u001b[0m\u001b[0;34m\u001b[0m\u001b[0m\n\u001b[0m\u001b[1;32m      5\u001b[0m \u001b[0;31m# print(\"Classification reprot:\")\u001b[0m\u001b[0;34m\u001b[0m\u001b[0;34m\u001b[0m\u001b[0;34m\u001b[0m\u001b[0m\n\u001b[1;32m      6\u001b[0m \u001b[0;31m# print(classification_report(test_y, test_y_pred, digits=61))\u001b[0m\u001b[0;34m\u001b[0m\u001b[0;34m\u001b[0m\u001b[0;34m\u001b[0m\u001b[0m\n",
            "\u001b[0;32m/usr/local/lib/python3.6/dist-packages/sklearn/metrics/_classification.py\u001b[0m in \u001b[0;36mconfusion_matrix\u001b[0;34m(y_true, y_pred, labels, sample_weight, normalize)\u001b[0m\n\u001b[1;32m    266\u001b[0m \u001b[0;34m\u001b[0m\u001b[0m\n\u001b[1;32m    267\u001b[0m     \"\"\"\n\u001b[0;32m--> 268\u001b[0;31m     \u001b[0my_type\u001b[0m\u001b[0;34m,\u001b[0m \u001b[0my_true\u001b[0m\u001b[0;34m,\u001b[0m \u001b[0my_pred\u001b[0m \u001b[0;34m=\u001b[0m \u001b[0m_check_targets\u001b[0m\u001b[0;34m(\u001b[0m\u001b[0my_true\u001b[0m\u001b[0;34m,\u001b[0m \u001b[0my_pred\u001b[0m\u001b[0;34m)\u001b[0m\u001b[0;34m\u001b[0m\u001b[0;34m\u001b[0m\u001b[0m\n\u001b[0m\u001b[1;32m    269\u001b[0m     \u001b[0;32mif\u001b[0m \u001b[0my_type\u001b[0m \u001b[0;32mnot\u001b[0m \u001b[0;32min\u001b[0m \u001b[0;34m(\u001b[0m\u001b[0;34m\"binary\"\u001b[0m\u001b[0;34m,\u001b[0m \u001b[0;34m\"multiclass\"\u001b[0m\u001b[0;34m)\u001b[0m\u001b[0;34m:\u001b[0m\u001b[0;34m\u001b[0m\u001b[0;34m\u001b[0m\u001b[0m\n\u001b[1;32m    270\u001b[0m         \u001b[0;32mraise\u001b[0m \u001b[0mValueError\u001b[0m\u001b[0;34m(\u001b[0m\u001b[0;34m\"%s is not supported\"\u001b[0m \u001b[0;34m%\u001b[0m \u001b[0my_type\u001b[0m\u001b[0;34m)\u001b[0m\u001b[0;34m\u001b[0m\u001b[0;34m\u001b[0m\u001b[0m\n",
            "\u001b[0;32m/usr/local/lib/python3.6/dist-packages/sklearn/metrics/_classification.py\u001b[0m in \u001b[0;36m_check_targets\u001b[0;34m(y_true, y_pred)\u001b[0m\n\u001b[1;32m     88\u001b[0m     \u001b[0;32mif\u001b[0m \u001b[0mlen\u001b[0m\u001b[0;34m(\u001b[0m\u001b[0my_type\u001b[0m\u001b[0;34m)\u001b[0m \u001b[0;34m>\u001b[0m \u001b[0;36m1\u001b[0m\u001b[0;34m:\u001b[0m\u001b[0;34m\u001b[0m\u001b[0;34m\u001b[0m\u001b[0m\n\u001b[1;32m     89\u001b[0m         raise ValueError(\"Classification metrics can't handle a mix of {0} \"\n\u001b[0;32m---> 90\u001b[0;31m                          \"and {1} targets\".format(type_true, type_pred))\n\u001b[0m\u001b[1;32m     91\u001b[0m \u001b[0;34m\u001b[0m\u001b[0m\n\u001b[1;32m     92\u001b[0m     \u001b[0;31m# We can't have more than one value on y_type => The set is no more needed\u001b[0m\u001b[0;34m\u001b[0m\u001b[0;34m\u001b[0m\u001b[0;34m\u001b[0m\u001b[0m\n",
            "\u001b[0;31mValueError\u001b[0m: Classification metrics can't handle a mix of multilabel-indicator and multiclass targets"
          ]
        }
      ]
    }
  ]
}