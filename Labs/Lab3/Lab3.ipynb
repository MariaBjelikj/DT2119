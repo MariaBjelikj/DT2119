{
  "cells": [
    {
      "cell_type": "markdown",
      "metadata": {
        "id": "view-in-github",
        "colab_type": "text"
      },
      "source": [
        "<a href=\"https://colab.research.google.com/github/bjelikj/DT2119/blob/master/Labs/Lab3/Lab3.ipynb\" target=\"_parent\"><img src=\"https://colab.research.google.com/assets/colab-badge.svg\" alt=\"Open In Colab\"/></a>"
      ]
    },
    {
      "cell_type": "code",
      "metadata": {
        "id": "_300NuWNwpuZ",
        "colab_type": "code",
        "colab": {
          "base_uri": "https://localhost:8080/",
          "height": 34
        },
        "outputId": "f171c73e-5c49-4b19-fa08-9784d09504b9"
      },
      "source": [
        "try:\n",
        "  import google.colab\n",
        "  IN_COLAB = True\n",
        "except:\n",
        "  IN_COLAB = False\n",
        "\n",
        "if IN_COLAB:\n",
        "    from google.colab import drive\n",
        "    drive.mount('/content/drive/')"
      ],
      "execution_count": null,
      "outputs": []
    },
    {
      "cell_type": "code",
      "metadata": {
        "id": "oP6t6vObxeDP",
        "colab_type": "code",
        "colab": {
          "base_uri": "https://localhost:8080/",
          "height": 85
        },
        "outputId": "44a1c622-4e3e-47c2-d6a9-47abed8a070f"
      },
      "source": [
        "\"\"\"\n",
        "Necessary files:\n",
        "- lab3_proto.py\n",
        "- lab3_tools.py\n",
        "- lab1_proto.py\n",
        "- lab1_tools.py\n",
        "- prondict.py\n",
        "\n",
        "If not uploaded to Google Drive:\n",
        "- lab2_models_all.npz\n",
        "- lab3_example.npz\n",
        "\"\"\"\n",
        "\n",
        "if IN_COLAB:\n",
        "    !rm lab1_proto.py\n",
        "    !rm lab1_tools.py\n",
        "    !rm lab2_proto.py\n",
        "    !rm lab2_tools.py\n",
        "    !rm lab3_proto.py\n",
        "    !rm lab3_tools.py\n",
        "    !rm lab3_example.npz\n",
        "    !rm lab2_models_all.npz\n",
        "    !ls\n",
        "\n",
        "    from google.colab import files\n",
        "    files.upload()"
      ],
      "execution_count": null,
      "outputs": []
    },
    {
      "cell_type": "code",
      "metadata": {
        "id": "6OMZ3hM9z-L9",
        "colab_type": "code",
        "colab": {}
      },
      "source": [
        "from lab1_proto import *\n",
        "from lab2_proto import *\n",
        "from lab3_proto import *\n",
        "from prondict import prondict\n",
        "\n",
        "import numpy as np\n",
        "import tensorflow as tf\n",
        "import keras"
      ],
      "execution_count": null,
      "outputs": []
    },
    {
      "cell_type": "code",
      "metadata": {
        "id": "Q6ScIE_E0tFj",
        "colab_type": "code",
        "colab": {
          "base_uri": "https://localhost:8080/",
          "height": 54
        },
        "outputId": "fdc068c9-3a2c-45b9-fec7-9f90392ead1c"
      },
      "source": [
        "phoneHMMs = np.load('/content/drive/My Drive/lab2_models_all.npz', allow_pickle=True)['phoneHMMs'].item()\n",
        "phones = sorted(phoneHMMs.keys())\n",
        "nstates = {phone: phoneHMMs[phone]['means'].shape[0] for phone in phones}\n",
        "stateList = [ph + '_' + str(id) for ph in phones for id in range(nstates[ph])]\n",
        "print(stateList)"
      ],
      "execution_count": null,
      "outputs": []
    },
    {
      "cell_type": "code",
      "metadata": {
        "id": "aSLjfSKe4DKw",
        "colab_type": "code",
        "colab": {
          "base_uri": "https://localhost:8080/",
          "height": 51
        },
        "outputId": "5fc4c2c5-e3fc-482d-b2bd-4eb91fc954c8"
      },
      "source": [
        "filename = '/content/drive/My Drive/Data/train/boy/ss/z84a.wav'\n",
        "samples, samplingrate = loadAudio(filename)\n",
        "lmfcc = mfcc(samples)\n",
        "print(\"LMFCC Shape: \", lmfcc.shape)\n",
        "\n",
        "wordTrans = list(path2info(filename)[2])\n",
        "print(\"Sequence of digits\", wordTrans)\n",
        "\n",
        "print(\"Pronunciation dictionary: \", prondict)"
      ],
      "execution_count": null,
      "outputs": []
    },
    {
      "cell_type": "code",
      "metadata": {
        "id": "nQTt2EmR7oT4",
        "colab_type": "code",
        "colab": {}
      },
      "source": [
        "phoneTrans = words3phones(wordTrans, prondict)\n",
        "print(\"Phone level Transcription\", phoneTrans)\n",
        "utteranceHMM = concatHMMs(phoneHMMs, phoneTrans)"
      ],
      "execution_count": null,
      "outputs": []
    }
  ],
  "metadata": {
    "colab": {
      "name": "Lab3.ipynb",
      "provenance": [],
      "collapsed_sections": [],
      "authorship_tag": "ABX9TyMJRgDa2/23cIR6bdDF1pVD",
      "include_colab_link": true
    },
    "kernelspec": {
      "name": "python3",
      "display_name": "Python 3"
    }
  },
  "nbformat": 4,
  "nbformat_minor": 0
}